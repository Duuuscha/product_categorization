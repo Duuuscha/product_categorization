{
 "cells": [
  {
   "cell_type": "code",
   "execution_count": 1,
   "id": "maritime-pierce",
   "metadata": {},
   "outputs": [],
   "source": [
    "import pandas as pd\n",
    "import seaborn as sns\n",
    "import matplotlib.pyplot as plt\n",
    "\n",
    "# plt.style.use('science')"
   ]
  },
  {
   "cell_type": "code",
   "execution_count": 2,
   "id": "saved-criminal",
   "metadata": {},
   "outputs": [],
   "source": [
    "mats = pd.read_csv(\"in/tables/MATERIALS_FOR_CLASSIFICATION_CLEAN.csv\")"
   ]
  },
  {
   "cell_type": "code",
   "execution_count": 3,
   "id": "delayed-minimum",
   "metadata": {
    "tags": []
   },
   "outputs": [],
   "source": [
    "cats = pd.read_csv(\"in/tables/MATERIAL_CATEGORY_FOR_CLASSIFICATION.csv\")"
   ]
  },
  {
   "cell_type": "code",
   "execution_count": 4,
   "id": "harmful-semiconductor",
   "metadata": {},
   "outputs": [],
   "source": [
    "cats = cats[cats.IS_MAIN == \"t\"].copy()\n",
    "merge_cats = pd.merge(mats,cats,on=[\"MATERIAL_ODS_ID\",\"SHOP\"])"
   ]
  },
  {
   "cell_type": "code",
   "execution_count": 5,
   "id": "prospective-prefix",
   "metadata": {},
   "outputs": [
    {
     "data": {
      "text/plain": [
       "(509,)"
      ]
     },
     "execution_count": 5,
     "metadata": {},
     "output_type": "execute_result"
    }
   ],
   "source": [
    "cats.CATEGORY_ID.unique().shape"
   ]
  },
  {
   "cell_type": "code",
   "execution_count": 6,
   "id": "consolidated-bedroom",
   "metadata": {},
   "outputs": [
    {
     "data": {
      "text/plain": [
       "(647,)"
      ]
     },
     "execution_count": 6,
     "metadata": {},
     "output_type": "execute_result"
    }
   ],
   "source": [
    "cats.CATEGORY_PATH.unique().shape"
   ]
  },
  {
   "cell_type": "code",
   "execution_count": 7,
   "id": "attempted-curve",
   "metadata": {},
   "outputs": [],
   "source": [
    "cats = cats[~cats.duplicated(\"MATERIAL_ODS_ID\")].copy()"
   ]
  },
  {
   "cell_type": "code",
   "execution_count": 8,
   "id": "christian-nurse",
   "metadata": {},
   "outputs": [],
   "source": [
    "merge = pd.merge(mats,cats,on=[\"MATERIAL_ODS_ID\",\"SHOP\"])"
   ]
  },
  {
   "cell_type": "code",
   "execution_count": 9,
   "id": "premium-treatment",
   "metadata": {},
   "outputs": [
    {
     "data": {
      "text/plain": [
       "(635,)"
      ]
     },
     "execution_count": 9,
     "metadata": {},
     "output_type": "execute_result"
    }
   ],
   "source": [
    "cats.CATEGORY_PATH.unique().shape"
   ]
  },
  {
   "cell_type": "code",
   "execution_count": 10,
   "id": "chief-shoot",
   "metadata": {},
   "outputs": [],
   "source": [
    "merge[\"CATEGORY_LEVEL\"] = [len(i) for i in merge.CATEGORY_PATH.str.split(\" > \")]"
   ]
  },
  {
   "cell_type": "code",
   "execution_count": 11,
   "id": "color-currency",
   "metadata": {},
   "outputs": [],
   "source": [
    "plot_levels = merge.CATEGORY_LEVEL.value_counts().reset_index()\n",
    "plot_levels = plot_levels.rename(columns={\"CATEGORY_LEVEL\":\"count\",\n",
    "                                          \"index\":\"CATEGORY_LEVEL\"})"
   ]
  },
  {
   "cell_type": "code",
   "execution_count": 12,
   "id": "chicken-deputy",
   "metadata": {},
   "outputs": [
    {
     "data": {
      "text/plain": [
       "0.9609764156788236"
      ]
     },
     "execution_count": 12,
     "metadata": {},
     "output_type": "execute_result"
    }
   ],
   "source": [
    "merge.query(\"CATEGORY_LEVEL in [3,4]\").shape[0] / merge.shape[0]"
   ]
  },
  {
   "cell_type": "code",
   "execution_count": 13,
   "id": "animated-volleyball",
   "metadata": {},
   "outputs": [
    {
     "data": {
      "text/plain": [
       "array(['Hobby a zahrada > Dům, byt > Dveře > Dveřní, okenní kování',\n",
       "       'Hobby a zahrada > Dům, byt > Dveře > Exteriérové dveře',\n",
       "       'Hobby a zahrada > Dům, byt > Dveře > Interiérové dveře > Prosklené dveře > 90 cm, pravé',\n",
       "       'Hobby a zahrada > Dům, byt > Dveře > Interiérové dveře > Posuvné dveře',\n",
       "       'Hobby a zahrada > Dům, byt > Dveře > Interiérové dveře > Obložkové zárubně',\n",
       "       'Hobby a zahrada > Dům, byt > Dveře > Interiérové dveře > Prosklené dveře > 80 cm, levé',\n",
       "       'Hobby a zahrada > Dům, byt > Dveře > Interiérové dveře > Prosklené dveře > 70 cm, levé',\n",
       "       'Hobby a zahrada > Dům, byt > Dveře > Interiérové dveře > Plné dveře > 80 cm, levé',\n",
       "       'Hobby a zahrada > Dům, byt > Dveře > Interiérové dveře > Prosklené dveře > 60 cm, pravé',\n",
       "       'Hobby a zahrada > Dům, byt > Dveře > Interiérové dveře > Prosklené dveře > 70 cm, pravé',\n",
       "       'Hobby a zahrada > Dům, byt > Dveře > Interiérové dveře > Plné dveře > 70 cm, levé',\n",
       "       'Hobby a zahrada > Dům, byt > Dveře > Interiérové dveře > Prosklené dveře > 80 cm, pravé',\n",
       "       'Hobby a zahrada > Dům, byt > Dveře > Interiérové dveře > Plné dveře > 60 cm, levé',\n",
       "       'Hobby a zahrada > Dům, byt > Dveře > Interiérové dveře > Plné dveře > 70 cm, pravé'],\n",
       "      dtype=object)"
      ]
     },
     "execution_count": 13,
     "metadata": {},
     "output_type": "execute_result"
    }
   ],
   "source": [
    "merge[merge.CATEGORY_PATH.str.contains(\"Dveře\")].CATEGORY_PATH.unique()"
   ]
  },
  {
   "cell_type": "code",
   "execution_count": 14,
   "id": "senior-temple",
   "metadata": {},
   "outputs": [
    {
     "name": "stdout",
     "output_type": "stream",
     "text": [
      "Requirement already satisfied: scienceplots in /home/default/lib/python3.9/site-packages (1.0.9)\n",
      "Requirement already satisfied: matplotlib in /home/default/lib/python3.9/site-packages (from scienceplots) (3.5.1)\n",
      "Requirement already satisfied: pyparsing>=2.2.1 in /home/default/lib/python3.9/site-packages (from matplotlib->scienceplots) (3.0.6)\n",
      "Requirement already satisfied: python-dateutil>=2.7 in /home/default/lib/python3.9/site-packages (from matplotlib->scienceplots) (2.8.2)\n",
      "Requirement already satisfied: numpy>=1.17 in /home/default/lib/python3.9/site-packages (from matplotlib->scienceplots) (1.21.5)\n",
      "Requirement already satisfied: packaging>=20.0 in /home/default/lib/python3.9/site-packages (from matplotlib->scienceplots) (21.3)\n",
      "Requirement already satisfied: pillow>=6.2.0 in /home/default/lib/python3.9/site-packages (from matplotlib->scienceplots) (8.4.0)\n",
      "Requirement already satisfied: fonttools>=4.22.0 in /home/default/lib/python3.9/site-packages (from matplotlib->scienceplots) (4.28.3)\n",
      "Requirement already satisfied: cycler>=0.10 in /home/default/lib/python3.9/site-packages (from matplotlib->scienceplots) (0.11.0)\n",
      "Requirement already satisfied: kiwisolver>=1.0.1 in /home/default/lib/python3.9/site-packages (from matplotlib->scienceplots) (1.3.2)\n",
      "Requirement already satisfied: six>=1.5 in /home/default/lib/python3.9/site-packages (from python-dateutil>=2.7->matplotlib->scienceplots) (1.16.0)\n",
      "Note: you may need to restart the kernel to use updated packages.\n"
     ]
    }
   ],
   "source": [
    "pip install scienceplots"
   ]
  },
  {
   "cell_type": "code",
   "execution_count": 47,
   "id": "challenging-coupon",
   "metadata": {},
   "outputs": [],
   "source": [
    "plot_levels.to_csv(\"plot_levels.csv\",index=False)"
   ]
  },
  {
   "cell_type": "code",
   "execution_count": 15,
   "id": "promising-hayes",
   "metadata": {},
   "outputs": [
    {
     "data": {
      "image/png": "[encoded data removed]",
      "text/plain": [
       "<Figure size 432x288 with 1 Axes>"
      ]
     },
     "metadata": {
      "needs_background": "light"
     },
     "output_type": "display_data"
    }
   ],
   "source": [
    "\n",
    "sns.barplot(data=plot_levels, x=\"CATEGORY_LEVEL\",y=\"count\")\n",
    "plt.savefig(\"levels_freq.pdf\",bbox_inches='tight')"
   ]
  },
  {
   "cell_type": "code",
   "execution_count": null,
   "id": "operational-senegal",
   "metadata": {},
   "outputs": [],
   "source": []
  },
  {
   "cell_type": "code",
   "execution_count": 16,
   "id": "wicked-garage",
   "metadata": {},
   "outputs": [],
   "source": [
    "largest_categories = merge.CATEGORY_PATH.value_counts().head(10).reset_index().copy()\n",
    "largest_categories = largest_categories.rename(columns={\"CATEGORY_PATH\":\"count\",\"index\":\"CATEGORY_PATH\"})"
   ]
  },
  {
   "cell_type": "code",
   "execution_count": 17,
   "id": "studied-bikini",
   "metadata": {},
   "outputs": [],
   "source": [
    "category_paths = merge[~merge.duplicated(\"CATEGORY_PATH\")][[\"CATEGORY_PATH\",\"CATEGORY_LEVEL\"]]"
   ]
  },
  {
   "cell_type": "code",
   "execution_count": 18,
   "id": "ranging-error",
   "metadata": {},
   "outputs": [],
   "source": [
    "plot_largest = pd.merge(largest_categories,category_paths,on=\"CATEGORY_PATH\")"
   ]
  },
  {
   "cell_type": "code",
   "execution_count": 19,
   "id": "endangered-circulation",
   "metadata": {},
   "outputs": [],
   "source": [
    "plot_largest.CATEGORY_PATH = plot_largest.CATEGORY_PATH.apply(lambda x: \" > \".join(x.split(\" > \")[-2:]))"
   ]
  },
  {
   "cell_type": "code",
   "execution_count": 48,
   "id": "studied-madonna",
   "metadata": {},
   "outputs": [],
   "source": [
    "plot_largest.to_csv(\"plot_largest.csv\",index=False)"
   ]
  },
  {
   "cell_type": "code",
   "execution_count": 20,
   "id": "pending-marsh",
   "metadata": {},
   "outputs": [
    {
     "data": {
      "image/png": "[encoded data removed]",
      "text/plain": [
       "<Figure size 432x288 with 1 Axes>"
      ]
     },
     "metadata": {
      "needs_background": "light"
     },
     "output_type": "display_data"
    }
   ],
   "source": [
    "sns.barplot(data=plot_largest, hue=\"CATEGORY_LEVEL\",y=\"CATEGORY_PATH\",x=\"count\")\n",
    "plt.xticks(rotation=90);\n",
    "plt.ylabel(\"\")\n",
    "plt.savefig(\"largest_categories.pdf\",bbox_inches='tight')"
   ]
  },
  {
   "cell_type": "code",
   "execution_count": 21,
   "id": "polyphonic-prefix",
   "metadata": {},
   "outputs": [],
   "source": [
    "plot_mat_counts = merge_cats.MATERIAL_ID.value_counts().reset_index()"
   ]
  },
  {
   "cell_type": "code",
   "execution_count": 49,
   "id": "thorough-savings",
   "metadata": {},
   "outputs": [],
   "source": [
    "plot_mat_counts.to_csv(\"plot_mat_counts.csv\",index=False)"
   ]
  },
  {
   "cell_type": "code",
   "execution_count": 70,
   "id": "rising-amendment",
   "metadata": {
    "tags": []
   },
   "outputs": [
    {
     "data": {
      "text/plain": [
       "<seaborn.axisgrid.FacetGrid at 0x7f42912a7be0>"
      ]
     },
     "execution_count": 70,
     "metadata": {},
     "output_type": "execute_result"
    },
    {
     "data": {
      "image/png": "[encoded data removed]",
      "text/plain": [
       "<Figure size 360x360 with 1 Axes>"
      ]
     },
     "metadata": {
      "needs_background": "light"
     },
     "output_type": "display_data"
    }
   ],
   "source": [
    "\n",
    "sns.displot(data=plot_mat_counts,x=\"MATERIAL_ID\", bins=4,)"
   ]
  },
  {
   "cell_type": "code",
   "execution_count": 23,
   "id": "remarkable-chemistry",
   "metadata": {
    "collapsed": true,
    "jupyter": {
     "outputs_hidden": true
    },
    "tags": []
   },
   "outputs": [
    {
     "data": {
      "text/html": [
       "<div>\n",
       "<style scoped>\n",
       "    .dataframe tbody tr th:only-of-type {\n",
       "        vertical-align: middle;\n",
       "    }\n",
       "\n",
       "    .dataframe tbody tr th {\n",
       "        vertical-align: top;\n",
       "    }\n",
       "\n",
       "    .dataframe thead th {\n",
       "        text-align: right;\n",
       "    }\n",
       "</style>\n",
       "<table border=\"1\" class=\"dataframe\">\n",
       "  <thead>\n",
       "    <tr style=\"text-align: right;\">\n",
       "      <th></th>\n",
       "      <th>MATERIAL_ID</th>\n",
       "      <th>MATERIAL_ODS_ID</th>\n",
       "      <th>SHOP</th>\n",
       "      <th>NAME</th>\n",
       "      <th>BRIEF</th>\n",
       "      <th>NAME_BRIEF</th>\n",
       "      <th>NAME_DESCRIPTION</th>\n",
       "      <th>NAME_BRIEF_DESCRIPTION</th>\n",
       "      <th>IS_MAIN</th>\n",
       "      <th>CATEGORY_ID</th>\n",
       "      <th>CATEGORY_PATH</th>\n",
       "      <th>CATEGORY_URL</th>\n",
       "      <th>VISIBLE</th>\n",
       "      <th>CATEGORY_NAME</th>\n",
       "      <th>CATEGORY_LEVEL</th>\n",
       "    </tr>\n",
       "  </thead>\n",
       "  <tbody>\n",
       "    <tr>\n",
       "      <th>2895</th>\n",
       "      <td>100011299113</td>\n",
       "      <td>465634732</td>\n",
       "      <td>MACZ</td>\n",
       "      <td>JUNIOR, šedá</td>\n",
       "      <td>Závěsné houpadlo pro děti od 3let.\\n</td>\n",
       "      <td>junior šed ; závěsn houpadl dít</td>\n",
       "      <td>junior šed ; hojdavak junior závěsn textiln ho...</td>\n",
       "      <td>junior šed závěsn houpadl dít hojdavak junior ...</td>\n",
       "      <td>t</td>\n",
       "      <td>80</td>\n",
       "      <td>Hobby a zahrada &gt; Zahradní nábytek &gt; Zahradní ...</td>\n",
       "      <td>https://www.mall.cz/houpaci-site</td>\n",
       "      <td>t</td>\n",
       "      <td>Houpací sítě</td>\n",
       "      <td>4</td>\n",
       "    </tr>\n",
       "    <tr>\n",
       "      <th>3134</th>\n",
       "      <td>1359260</td>\n",
       "      <td>8858132</td>\n",
       "      <td>MACZ</td>\n",
       "      <td>Plachta proti slunci a dešti ClassicFly - forest</td>\n",
       "      <td>Plachta ochrání před přímým sluncem i před pru...</td>\n",
       "      <td>placht slunc deštit classicfl forest ; placht ...</td>\n",
       "      <td>placht slunc deštit classicfl forest ; siest p...</td>\n",
       "      <td>placht slunc deštit classicfl forest placht oc...</td>\n",
       "      <td>t</td>\n",
       "      <td>80</td>\n",
       "      <td>Hobby a zahrada &gt; Zahradní nábytek &gt; Zahradní ...</td>\n",
       "      <td>https://www.mall.cz/houpaci-site</td>\n",
       "      <td>t</td>\n",
       "      <td>Houpací sítě</td>\n",
       "      <td>4</td>\n",
       "    </tr>\n",
       "    <tr>\n",
       "      <th>3714</th>\n",
       "      <td>100064594614</td>\n",
       "      <td>2460918169</td>\n",
       "      <td>MACZ</td>\n",
       "      <td>hamaka DC-C09 pro 2 osoby s nafukovacími lemy ...</td>\n",
       "      <td>Lehká, skladná a velmi pohodlná hamaka pro 2 o...</td>\n",
       "      <td>hamak osob nafukovac lem tmav šed ; lehk sklad...</td>\n",
       "      <td>hamak osob nafukovac lem tmav šed ; lehk sklad...</td>\n",
       "      <td>hamak osob nafukovac lem tmav šed lehk skladn ...</td>\n",
       "      <td>t</td>\n",
       "      <td>80</td>\n",
       "      <td>Hobby a zahrada &gt; Zahradní nábytek &gt; Houpací sítě</td>\n",
       "      <td>https://www.mall.cz/houpaci-site</td>\n",
       "      <td>t</td>\n",
       "      <td>Houpací sítě</td>\n",
       "      <td>3</td>\n",
       "    </tr>\n",
       "    <tr>\n",
       "      <th>8186</th>\n",
       "      <td>100066837328</td>\n",
       "      <td>2502910020</td>\n",
       "      <td>MACZ</td>\n",
       "      <td>Tempo Kondela Závěsné houpací křeslo, červená,...</td>\n",
       "      <td>Materiál: 100% polyester/oceľ Provedení: červe...</td>\n",
       "      <td>temp kondel závěsn houpac křesl červen klor ne...</td>\n",
       "      <td>temp kondel závěsn houpac křesl červen klor ne...</td>\n",
       "      <td>temp kondel závěsn houpac křesl červen klor ne...</td>\n",
       "      <td>t</td>\n",
       "      <td>80</td>\n",
       "      <td>Hobby a zahrada &gt; Zahradní nábytek &gt; Houpací sítě</td>\n",
       "      <td>https://www.mall.cz/houpaci-site</td>\n",
       "      <td>t</td>\n",
       "      <td>Houpací sítě</td>\n",
       "      <td>3</td>\n",
       "    </tr>\n",
       "    <tr>\n",
       "      <th>12322</th>\n",
       "      <td>100046648487</td>\n",
       "      <td>1911049318</td>\n",
       "      <td>MACZ</td>\n",
       "      <td>Houpací síť se stojanem FANTAL- bílá / smetanová</td>\n",
       "      <td>Zahradní síť včetně stojanu. Síť je vyrobena z...</td>\n",
       "      <td>houpac síť stojan fantal bíl smetan ; zahradn ...</td>\n",
       "      <td>houpac síť stojan fantal bíl smetan ; zahradn ...</td>\n",
       "      <td>houpac síť stojan fantal bíl smetan zahradn sí...</td>\n",
       "      <td>t</td>\n",
       "      <td>80</td>\n",
       "      <td>Hobby a zahrada &gt; Zahradní nábytek &gt; Zahradní ...</td>\n",
       "      <td>https://www.mall.cz/houpaci-site</td>\n",
       "      <td>t</td>\n",
       "      <td>Houpací sítě</td>\n",
       "      <td>4</td>\n",
       "    </tr>\n",
       "    <tr>\n",
       "      <th>...</th>\n",
       "      <td>...</td>\n",
       "      <td>...</td>\n",
       "      <td>...</td>\n",
       "      <td>...</td>\n",
       "      <td>...</td>\n",
       "      <td>...</td>\n",
       "      <td>...</td>\n",
       "      <td>...</td>\n",
       "      <td>...</td>\n",
       "      <td>...</td>\n",
       "      <td>...</td>\n",
       "      <td>...</td>\n",
       "      <td>...</td>\n",
       "      <td>...</td>\n",
       "      <td>...</td>\n",
       "    </tr>\n",
       "    <tr>\n",
       "      <th>225947</th>\n",
       "      <td>100057475394</td>\n",
       "      <td>2325416461</td>\n",
       "      <td>MACZ</td>\n",
       "      <td>hamaka NC9004 modrá</td>\n",
       "      <td>Hamaka NILS Camp NC9004 o rozměru 195 × 150 cm...</td>\n",
       "      <td>hamak modr ; hamak nils camp rozměr dřevěn pří...</td>\n",
       "      <td>hamak modr ; hamak hupac síť nils camp ideáln ...</td>\n",
       "      <td>hamak modr hamak nils camp rozměr dřevěn příčk...</td>\n",
       "      <td>t</td>\n",
       "      <td>80</td>\n",
       "      <td>Hobby a zahrada &gt; Zahradní nábytek &gt; Houpací sítě</td>\n",
       "      <td>https://www.mall.cz/houpaci-site</td>\n",
       "      <td>t</td>\n",
       "      <td>Houpací sítě</td>\n",
       "      <td>3</td>\n",
       "    </tr>\n",
       "    <tr>\n",
       "      <th>231897</th>\n",
       "      <td>100055658128</td>\n",
       "      <td>2286524718</td>\n",
       "      <td>MACZ</td>\n",
       "      <td>MAXIMUS INDOOR, bílá</td>\n",
       "      <td>KŘESLO PRO DOSPĚLÉ S NOSNOSTÍ 140 KG\\n</td>\n",
       "      <td>maxim indoor bíl ; křesl dospěl nosnost</td>\n",
       "      <td>maxim indoor bíl ; hojdavak maxim závěsn texti...</td>\n",
       "      <td>maxim indoor bíl křesl dospěl nosnost hojdavak...</td>\n",
       "      <td>t</td>\n",
       "      <td>80</td>\n",
       "      <td>Hobby a zahrada &gt; Zahradní nábytek &gt; Zahradní ...</td>\n",
       "      <td>https://www.mall.cz/houpaci-site</td>\n",
       "      <td>t</td>\n",
       "      <td>Houpací sítě</td>\n",
       "      <td>4</td>\n",
       "    </tr>\n",
       "    <tr>\n",
       "      <th>231914</th>\n",
       "      <td>100058075196</td>\n",
       "      <td>2343103521</td>\n",
       "      <td>MACZ</td>\n",
       "      <td>Axin Trading Ratanové houpací křeslo Swivel bí...</td>\n",
       "      <td>Ratanové houpací křeslo je vyrobeno z přírodní...</td>\n",
       "      <td>axin trading ratan houpac křesl swivel bíl pol...</td>\n",
       "      <td>axin trading ratan houpac křesl swivel bíl pol...</td>\n",
       "      <td>axin trading ratan houpac křesl swivel bíl pol...</td>\n",
       "      <td>t</td>\n",
       "      <td>80</td>\n",
       "      <td>Hobby a zahrada &gt; Zahradní nábytek &gt; Zahradní ...</td>\n",
       "      <td>https://www.mall.cz/houpaci-site</td>\n",
       "      <td>t</td>\n",
       "      <td>Houpací sítě</td>\n",
       "      <td>4</td>\n",
       "    </tr>\n",
       "    <tr>\n",
       "      <th>235207</th>\n",
       "      <td>100002328308</td>\n",
       "      <td>9761299</td>\n",
       "      <td>MACZ</td>\n",
       "      <td>Látková houpací síť - duhová</td>\n",
       "      <td>Komfortní a prostorná houpací látková síť pro ...</td>\n",
       "      <td>látk houpac síť duhov ; komfortn prostorn houp...</td>\n",
       "      <td>látk houpac síť duhov ; vícebarevn houpac síť ...</td>\n",
       "      <td>látk houpac síť duhov komfortn prostorn houpac...</td>\n",
       "      <td>t</td>\n",
       "      <td>80</td>\n",
       "      <td>Hobby a zahrada &gt; Zahradní nábytek &gt; Houpací sítě</td>\n",
       "      <td>https://www.mall.cz/houpaci-site</td>\n",
       "      <td>t</td>\n",
       "      <td>Houpací sítě</td>\n",
       "      <td>3</td>\n",
       "    </tr>\n",
       "    <tr>\n",
       "      <th>235910</th>\n",
       "      <td>660641002</td>\n",
       "      <td>9553779</td>\n",
       "      <td>MACZ</td>\n",
       "      <td>Houpací síť Orquídea Single Jungle zelená</td>\n",
       "      <td>Houpací síť pro 1 osobu disponuje závěsnými šň...</td>\n",
       "      <td>houpac síť orquíde singl jungl zelen ; houpac ...</td>\n",
       "      <td>houpac síť orquíde singl jungl zelen ; siest h...</td>\n",
       "      <td>houpac síť orquíde singl jungl zelen houpac sí...</td>\n",
       "      <td>t</td>\n",
       "      <td>80</td>\n",
       "      <td>Hobby a zahrada &gt; Zahradní nábytek &gt; Zahradní ...</td>\n",
       "      <td>https://www.mall.cz/houpaci-site</td>\n",
       "      <td>t</td>\n",
       "      <td>Houpací sítě</td>\n",
       "      <td>4</td>\n",
       "    </tr>\n",
       "  </tbody>\n",
       "</table>\n",
       "<p>112 rows × 15 columns</p>\n",
       "</div>"
      ],
      "text/plain": [
       "         MATERIAL_ID  MATERIAL_ODS_ID  SHOP  \\\n",
       "2895    100011299113        465634732  MACZ   \n",
       "3134         1359260          8858132  MACZ   \n",
       "3714    100064594614       2460918169  MACZ   \n",
       "8186    100066837328       2502910020  MACZ   \n",
       "12322   100046648487       1911049318  MACZ   \n",
       "...              ...              ...   ...   \n",
       "225947  100057475394       2325416461  MACZ   \n",
       "231897  100055658128       2286524718  MACZ   \n",
       "231914  100058075196       2343103521  MACZ   \n",
       "235207  100002328308          9761299  MACZ   \n",
       "235910     660641002          9553779  MACZ   \n",
       "\n",
       "                                                     NAME  \\\n",
       "2895                                         JUNIOR, šedá   \n",
       "3134     Plachta proti slunci a dešti ClassicFly - forest   \n",
       "3714    hamaka DC-C09 pro 2 osoby s nafukovacími lemy ...   \n",
       "8186    Tempo Kondela Závěsné houpací křeslo, červená,...   \n",
       "12322    Houpací síť se stojanem FANTAL- bílá / smetanová   \n",
       "...                                                   ...   \n",
       "225947                                hamaka NC9004 modrá   \n",
       "231897                               MAXIMUS INDOOR, bílá   \n",
       "231914  Axin Trading Ratanové houpací křeslo Swivel bí...   \n",
       "235207                       Látková houpací síť - duhová   \n",
       "235910          Houpací síť Orquídea Single Jungle zelená   \n",
       "\n",
       "                                                    BRIEF  \\\n",
       "2895                 Závěsné houpadlo pro děti od 3let.\\n   \n",
       "3134    Plachta ochrání před přímým sluncem i před pru...   \n",
       "3714    Lehká, skladná a velmi pohodlná hamaka pro 2 o...   \n",
       "8186    Materiál: 100% polyester/oceľ Provedení: červe...   \n",
       "12322   Zahradní síť včetně stojanu. Síť je vyrobena z...   \n",
       "...                                                   ...   \n",
       "225947  Hamaka NILS Camp NC9004 o rozměru 195 × 150 cm...   \n",
       "231897             KŘESLO PRO DOSPĚLÉ S NOSNOSTÍ 140 KG\\n   \n",
       "231914  Ratanové houpací křeslo je vyrobeno z přírodní...   \n",
       "235207  Komfortní a prostorná houpací látková síť pro ...   \n",
       "235910  Houpací síť pro 1 osobu disponuje závěsnými šň...   \n",
       "\n",
       "                                               NAME_BRIEF  \\\n",
       "2895                      junior šed ; závěsn houpadl dít   \n",
       "3134    placht slunc deštit classicfl forest ; placht ...   \n",
       "3714    hamak osob nafukovac lem tmav šed ; lehk sklad...   \n",
       "8186    temp kondel závěsn houpac křesl červen klor ne...   \n",
       "12322   houpac síť stojan fantal bíl smetan ; zahradn ...   \n",
       "...                                                   ...   \n",
       "225947  hamak modr ; hamak nils camp rozměr dřevěn pří...   \n",
       "231897            maxim indoor bíl ; křesl dospěl nosnost   \n",
       "231914  axin trading ratan houpac křesl swivel bíl pol...   \n",
       "235207  látk houpac síť duhov ; komfortn prostorn houp...   \n",
       "235910  houpac síť orquíde singl jungl zelen ; houpac ...   \n",
       "\n",
       "                                         NAME_DESCRIPTION  \\\n",
       "2895    junior šed ; hojdavak junior závěsn textiln ho...   \n",
       "3134    placht slunc deštit classicfl forest ; siest p...   \n",
       "3714    hamak osob nafukovac lem tmav šed ; lehk sklad...   \n",
       "8186    temp kondel závěsn houpac křesl červen klor ne...   \n",
       "12322   houpac síť stojan fantal bíl smetan ; zahradn ...   \n",
       "...                                                   ...   \n",
       "225947  hamak modr ; hamak hupac síť nils camp ideáln ...   \n",
       "231897  maxim indoor bíl ; hojdavak maxim závěsn texti...   \n",
       "231914  axin trading ratan houpac křesl swivel bíl pol...   \n",
       "235207  látk houpac síť duhov ; vícebarevn houpac síť ...   \n",
       "235910  houpac síť orquíde singl jungl zelen ; siest h...   \n",
       "\n",
       "                                   NAME_BRIEF_DESCRIPTION IS_MAIN  \\\n",
       "2895    junior šed závěsn houpadl dít hojdavak junior ...       t   \n",
       "3134    placht slunc deštit classicfl forest placht oc...       t   \n",
       "3714    hamak osob nafukovac lem tmav šed lehk skladn ...       t   \n",
       "8186    temp kondel závěsn houpac křesl červen klor ne...       t   \n",
       "12322   houpac síť stojan fantal bíl smetan zahradn sí...       t   \n",
       "...                                                   ...     ...   \n",
       "225947  hamak modr hamak nils camp rozměr dřevěn příčk...       t   \n",
       "231897  maxim indoor bíl křesl dospěl nosnost hojdavak...       t   \n",
       "231914  axin trading ratan houpac křesl swivel bíl pol...       t   \n",
       "235207  látk houpac síť duhov komfortn prostorn houpac...       t   \n",
       "235910  houpac síť orquíde singl jungl zelen houpac sí...       t   \n",
       "\n",
       "        CATEGORY_ID                                      CATEGORY_PATH  \\\n",
       "2895             80  Hobby a zahrada > Zahradní nábytek > Zahradní ...   \n",
       "3134             80  Hobby a zahrada > Zahradní nábytek > Zahradní ...   \n",
       "3714             80  Hobby a zahrada > Zahradní nábytek > Houpací sítě   \n",
       "8186             80  Hobby a zahrada > Zahradní nábytek > Houpací sítě   \n",
       "12322            80  Hobby a zahrada > Zahradní nábytek > Zahradní ...   \n",
       "...             ...                                                ...   \n",
       "225947           80  Hobby a zahrada > Zahradní nábytek > Houpací sítě   \n",
       "231897           80  Hobby a zahrada > Zahradní nábytek > Zahradní ...   \n",
       "231914           80  Hobby a zahrada > Zahradní nábytek > Zahradní ...   \n",
       "235207           80  Hobby a zahrada > Zahradní nábytek > Houpací sítě   \n",
       "235910           80  Hobby a zahrada > Zahradní nábytek > Zahradní ...   \n",
       "\n",
       "                            CATEGORY_URL VISIBLE CATEGORY_NAME  CATEGORY_LEVEL  \n",
       "2895    https://www.mall.cz/houpaci-site       t  Houpací sítě               4  \n",
       "3134    https://www.mall.cz/houpaci-site       t  Houpací sítě               4  \n",
       "3714    https://www.mall.cz/houpaci-site       t  Houpací sítě               3  \n",
       "8186    https://www.mall.cz/houpaci-site       t  Houpací sítě               3  \n",
       "12322   https://www.mall.cz/houpaci-site       t  Houpací sítě               4  \n",
       "...                                  ...     ...           ...             ...  \n",
       "225947  https://www.mall.cz/houpaci-site       t  Houpací sítě               3  \n",
       "231897  https://www.mall.cz/houpaci-site       t  Houpací sítě               4  \n",
       "231914  https://www.mall.cz/houpaci-site       t  Houpací sítě               4  \n",
       "235207  https://www.mall.cz/houpaci-site       t  Houpací sítě               3  \n",
       "235910  https://www.mall.cz/houpaci-site       t  Houpací sítě               4  \n",
       "\n",
       "[112 rows x 15 columns]"
      ]
     },
     "execution_count": 23,
     "metadata": {},
     "output_type": "execute_result"
    }
   ],
   "source": [
    "merge.query(\"CATEGORY_NAME == 'Houpací sítě'\")"
   ]
  },
  {
   "cell_type": "code",
   "execution_count": 24,
   "id": "serial-retailer",
   "metadata": {},
   "outputs": [
    {
     "data": {
      "text/plain": [
       "array(['Hobby a zahrada > Zahradní nábytek > Zahradní houpačky, houpací sítě > Houpací sítě',\n",
       "       'Hobby a zahrada > Zahradní nábytek > Houpací sítě, křesla',\n",
       "       'Hobby a zahrada > Zahradní nábytek > Houpací sítě , křesla',\n",
       "       'Hobby a zahrada > Zahradní nábytek > Houpací sítě'], dtype=object)"
      ]
     },
     "execution_count": 24,
     "metadata": {},
     "output_type": "execute_result"
    }
   ],
   "source": [
    "mat = 449172002\n",
    "merge_cats.query(\"MATERIAL_ID == @mat\").CATEGORY_PATH.unique()"
   ]
  },
  {
   "cell_type": "code",
   "execution_count": 25,
   "id": "worthy-quantity",
   "metadata": {},
   "outputs": [
    {
     "data": {
      "text/plain": [
       "array(['Hobby a zahrada > Zahradní nábytek > Houpací sítě , křesla > Příslušenství',\n",
       "       'Hobby a zahrada > Zahradní nábytek > Houpací sítě, křesla > Příslušenství',\n",
       "       'Hobby a zahrada > Zahradní nábytek > Zahradní houpačky, houpací sítě > Houpací sítě > Příslušenství',\n",
       "       'Hobby a zahrada > Zahradní nábytek > Houpací sítě > Příslušenství'],\n",
       "      dtype=object)"
      ]
     },
     "execution_count": 25,
     "metadata": {},
     "output_type": "execute_result"
    }
   ],
   "source": [
    "mat = 100068911467\n",
    "merge_cats.query(\"MATERIAL_ID == @mat\").CATEGORY_PATH.unique()"
   ]
  },
  {
   "cell_type": "code",
   "execution_count": 26,
   "id": "historical-birmingham",
   "metadata": {},
   "outputs": [
    {
     "data": {
      "text/plain": [
       "array(['Hobby a zahrada > Nářadí elektrické > Elektrické šroubováky > Akumulátorové rázové utahováky',\n",
       "       'Hobby a zahrada > Nářadí elektrické > Rázová utahováky > Akumulátorové',\n",
       "       'Hobby a zahrada > Nářadí elektrické > Elektrické šroubováky > Akumulátorové',\n",
       "       'Hobby a zahrada > Nářadí elektrické > Rázové utahováky > Akumulátorové',\n",
       "       'Hobby a zahrada > Zahradní nábytek > Houpací sítě , křesla > Příslušenství',\n",
       "       'Hobby a zahrada > Zahradní nábytek > Zahradní houpačky, houpací sítě > Houpací sítě > Příslušenství',\n",
       "       'Hobby a zahrada > Zahradní nábytek > Houpací sítě, křesla > Příslušenství',\n",
       "       'Hobby a zahrada > Zahradní nábytek > Houpací sítě > Příslušenství',\n",
       "       'Hobby a zahrada > Zahradní nábytek > Zahradní houpačky, houpací sítě > Houpací sítě',\n",
       "       'Hobby a zahrada > Zahradní nábytek > Houpací sítě , křesla',\n",
       "       'Hobby a zahrada > Zahradní nábytek > Houpací sítě, křesla',\n",
       "       'Hobby a zahrada > Zahradní nábytek > Houpací sítě'], dtype=object)"
      ]
     },
     "execution_count": 26,
     "metadata": {},
     "output_type": "execute_result"
    }
   ],
   "source": [
    "materials = plot_mat_counts.query(\"MATERIAL_ID==4\")[\"index\"].values\n",
    "merge_cats.query(\"MATERIAL_ID in @materials\").CATEGORY_PATH.unique()"
   ]
  },
  {
   "cell_type": "code",
   "execution_count": 27,
   "id": "driving-midwest",
   "metadata": {},
   "outputs": [
    {
     "name": "stdout",
     "output_type": "stream",
     "text": [
      "17\n"
     ]
    },
    {
     "data": {
      "text/plain": [
       "array(['Hobby a zahrada > Bazény, vířivky > Bazény',\n",
       "       'Hobby a zahrada > Bazény > Bazény',\n",
       "       'Hobby a zahrada > Bazény, příslušenství > Bazény',\n",
       "       'Hobby a zahrada > Zahradní nábytek > Stany, altany',\n",
       "       'Hobby a zahrada > Stavby na zahradě > Domky, altány > Altány',\n",
       "       'Hobby a zahrada > Zahradní nábytek > Slunečníky, zastínění > Stany, altany',\n",
       "       'Hobby a zahrada > Dům, byt > Koupelna a sanitární technika > Umyvadla',\n",
       "       'Hobby a zahrada > Dům, byt > Koupelna, sanitarni technika > Vany, sprchy > Umyvadla',\n",
       "       'Hobby a zahrada > Dům, byt > Koupelna, sanitarni technika > Umyvadla',\n",
       "       'Hobby a zahrada > Zahradní nábytek > Zahradní houpačky, houpací sítě > Závěsná křesla',\n",
       "       'Hobby a zahrada > Zahradní nábytek > Závěsná křesla',\n",
       "       'Hobby a zahrada > Zahradní nábytek > Houpací, závěsná křesla',\n",
       "       'Hobby a zahrada > Bazény > Bazénová chemie',\n",
       "       'Hobby a zahrada > Bazény, příslušenství > Bazénová chemie',\n",
       "       'Hobby a zahrada > Bazény, vířivky > Bazénová chemie',\n",
       "       'Hobby a zahrada > Voda v zahradě > Vodárny',\n",
       "       'Hobby a zahrada > Voda v zahradě > Domáci vodárny',\n",
       "       'Hobby a zahrada > Voda v zahradě > Domácí vodárny',\n",
       "       'Hobby a zahrada > Dům, byt > Koupelna a sanitární technika > Vany',\n",
       "       'Hobby a zahrada > Dům, byt > Koupelna, sanitarni technika > Vany',\n",
       "       'Hobby a zahrada > Dům, byt > Koupelna, sanitarni technika > Vany, sprchy > Vany',\n",
       "       'Hobby a zahrada > Bazény > Sprchy',\n",
       "       'Hobby a zahrada > Bazény, příslušenství > Sprchy',\n",
       "       'Hobby a zahrada > Bazény, vířivky > Sprchy',\n",
       "       'Hobby a zahrada > Bazény > Příslušenství k bazénům',\n",
       "       'Hobby a zahrada > Bazény, vířivky > Příslušenství k bazénům',\n",
       "       'Hobby a zahrada > Bazény, příslušenství > Příslušenství k bazénům',\n",
       "       'Hobby a zahrada > Zahradní nábytek > Úložné boxy, skříně',\n",
       "       'Hobby a zahrada > Zahradní nábytek > Boxy na polstry',\n",
       "       'Hobby a zahrada > Zahradní nábytek > Úložné boxy',\n",
       "       'Hobby a zahrada > Bazény, vířivky > Vířivky',\n",
       "       'Hobby a zahrada > Bazény > Vířivky',\n",
       "       'Hobby a zahrada > Bazény, příslušenství > Vířivky',\n",
       "       'Hobby a zahrada > Bazény > Ohřev vody',\n",
       "       'Hobby a zahrada > Bazény, příslušenství > Ohřev vody',\n",
       "       'Hobby a zahrada > Bazény, vířivky > Ohřev vody',\n",
       "       'Hobby a zahrada > Bazény, vířivky > Filtrace',\n",
       "       'Hobby a zahrada > Bazény > Filtrace',\n",
       "       'Hobby a zahrada > Bazény, příslušenství > Filtrace',\n",
       "       'Hobby a zahrada > Dům, byt > Bezdrátové zvonky',\n",
       "       'Hobby a zahrada > Dům, byt > Zvonky > Bezdrátové zvonky',\n",
       "       'Hobby a zahrada > Dům, byt > Domovní  zvonky > Bezdrátové zvonky',\n",
       "       'Hobby a zahrada > Nářadí elektrické > Elektrické šroubováky > Elektrické',\n",
       "       'Hobby a zahrada > Nářadí elektrické > Rázová utahováky > Elektrické',\n",
       "       'Hobby a zahrada > Nářadí elektrické > Rázové utahováky > Elektrické',\n",
       "       'Hobby a zahrada > Zahradní nábytek > Slunečníky, zastínění > Stany, altany > Párty stany',\n",
       "       'Hobby a zahrada > Zahradní nábytek > Stany, altany > Párty stany',\n",
       "       'Hobby a zahrada > Stavby na zahradě > Domky, altány > Párty stany',\n",
       "       'Hobby a zahrada > Nářadí elektrické > Rázová utahováky',\n",
       "       'Hobby a zahrada > Nářadí elektrické > Rázové utahováky',\n",
       "       'Hobby a zahrada > Nářadí elektrické > Elektrické šroubováky'],\n",
       "      dtype=object)"
      ]
     },
     "execution_count": 27,
     "metadata": {},
     "output_type": "execute_result"
    }
   ],
   "source": [
    "materials = plot_mat_counts.query(\"MATERIAL_ID==3\")[\"index\"].values\n",
    "print(merge_cats.query(\"MATERIAL_ID in @materials\").CATEGORY_ID.unique().shape[0])\n",
    "merge_cats.query(\"MATERIAL_ID in @materials\").CATEGORY_PATH.unique()"
   ]
  },
  {
   "cell_type": "code",
   "execution_count": 28,
   "id": "roman-future",
   "metadata": {},
   "outputs": [
    {
     "data": {
      "text/html": [
       "<div>\n",
       "<style scoped>\n",
       "    .dataframe tbody tr th:only-of-type {\n",
       "        vertical-align: middle;\n",
       "    }\n",
       "\n",
       "    .dataframe tbody tr th {\n",
       "        vertical-align: top;\n",
       "    }\n",
       "\n",
       "    .dataframe thead th {\n",
       "        text-align: right;\n",
       "    }\n",
       "</style>\n",
       "<table border=\"1\" class=\"dataframe\">\n",
       "  <thead>\n",
       "    <tr style=\"text-align: right;\">\n",
       "      <th></th>\n",
       "      <th>index</th>\n",
       "      <th>MATERIAL_ID</th>\n",
       "    </tr>\n",
       "  </thead>\n",
       "  <tbody>\n",
       "    <tr>\n",
       "      <th>8796</th>\n",
       "      <td>100066718148</td>\n",
       "      <td>2</td>\n",
       "    </tr>\n",
       "    <tr>\n",
       "      <th>8797</th>\n",
       "      <td>100042693782</td>\n",
       "      <td>2</td>\n",
       "    </tr>\n",
       "    <tr>\n",
       "      <th>8798</th>\n",
       "      <td>100064006406</td>\n",
       "      <td>2</td>\n",
       "    </tr>\n",
       "    <tr>\n",
       "      <th>8799</th>\n",
       "      <td>100066016826</td>\n",
       "      <td>2</td>\n",
       "    </tr>\n",
       "    <tr>\n",
       "      <th>8800</th>\n",
       "      <td>100039824584</td>\n",
       "      <td>2</td>\n",
       "    </tr>\n",
       "    <tr>\n",
       "      <th>...</th>\n",
       "      <td>...</td>\n",
       "      <td>...</td>\n",
       "    </tr>\n",
       "    <tr>\n",
       "      <th>53703</th>\n",
       "      <td>100052716211</td>\n",
       "      <td>2</td>\n",
       "    </tr>\n",
       "    <tr>\n",
       "      <th>53704</th>\n",
       "      <td>100044765581</td>\n",
       "      <td>2</td>\n",
       "    </tr>\n",
       "    <tr>\n",
       "      <th>53705</th>\n",
       "      <td>3176582</td>\n",
       "      <td>2</td>\n",
       "    </tr>\n",
       "    <tr>\n",
       "      <th>53706</th>\n",
       "      <td>100041390422</td>\n",
       "      <td>2</td>\n",
       "    </tr>\n",
       "    <tr>\n",
       "      <th>53707</th>\n",
       "      <td>3174592</td>\n",
       "      <td>2</td>\n",
       "    </tr>\n",
       "  </tbody>\n",
       "</table>\n",
       "<p>44912 rows × 2 columns</p>\n",
       "</div>"
      ],
      "text/plain": [
       "              index  MATERIAL_ID\n",
       "8796   100066718148            2\n",
       "8797   100042693782            2\n",
       "8798   100064006406            2\n",
       "8799   100066016826            2\n",
       "8800   100039824584            2\n",
       "...             ...          ...\n",
       "53703  100052716211            2\n",
       "53704  100044765581            2\n",
       "53705       3176582            2\n",
       "53706  100041390422            2\n",
       "53707       3174592            2\n",
       "\n",
       "[44912 rows x 2 columns]"
      ]
     },
     "execution_count": 28,
     "metadata": {},
     "output_type": "execute_result"
    }
   ],
   "source": [
    "plot_mat_counts.query(\"MATERIAL_ID==2\")"
   ]
  },
  {
   "cell_type": "code",
   "execution_count": 29,
   "id": "computational-ideal",
   "metadata": {},
   "outputs": [
    {
     "data": {
      "text/plain": [
       "array(['Hobby a zahrada > Dům, byt > Koupelna a sanitární technika > Vodovodní baterie',\n",
       "       'Hobby a zahrada > Dům, byt > Koupelna, sanitarni technika > Vodovodní baterie'],\n",
       "      dtype=object)"
      ]
     },
     "execution_count": 29,
     "metadata": {},
     "output_type": "execute_result"
    }
   ],
   "source": [
    "mat = 100051869971\n",
    "merge_cats.query(\"MATERIAL_ID == @mat\").CATEGORY_PATH.unique()"
   ]
  },
  {
   "cell_type": "code",
   "execution_count": 30,
   "id": "infectious-flush",
   "metadata": {},
   "outputs": [
    {
     "data": {
      "text/plain": [
       "array(['Hobby a zahrada > Dům, byt > Dveřní, okenní kování',\n",
       "       'Hobby a zahrada > Dům, byt > Dveře > Dveřní, okenní kování'],\n",
       "      dtype=object)"
      ]
     },
     "execution_count": 30,
     "metadata": {},
     "output_type": "execute_result"
    }
   ],
   "source": [
    "mat = 100041469886\n",
    "merge_cats.query(\"MATERIAL_ID == @mat\").CATEGORY_PATH.unique()"
   ]
  },
  {
   "cell_type": "code",
   "execution_count": 31,
   "id": "southeast-mainstream",
   "metadata": {},
   "outputs": [],
   "source": [
    "plot_counts = merge.CATEGORY_ID.value_counts().reset_index()\n"
   ]
  },
  {
   "cell_type": "code",
   "execution_count": 32,
   "id": "entire-japanese",
   "metadata": {},
   "outputs": [
    {
     "data": {
      "text/plain": [
       "82.0"
      ]
     },
     "execution_count": 32,
     "metadata": {},
     "output_type": "execute_result"
    }
   ],
   "source": [
    "plot_counts.CATEGORY_ID.median()"
   ]
  },
  {
   "cell_type": "code",
   "execution_count": 33,
   "id": "formed-carter",
   "metadata": {},
   "outputs": [
    {
     "data": {
      "text/plain": [
       "0.25     15.0\n",
       "0.75    282.0\n",
       "Name: CATEGORY_ID, dtype: float64"
      ]
     },
     "execution_count": 33,
     "metadata": {},
     "output_type": "execute_result"
    }
   ],
   "source": [
    "plot_counts.CATEGORY_ID.quantile([0.25,0.75])"
   ]
  },
  {
   "cell_type": "code",
   "execution_count": 71,
   "id": "welsh-decrease",
   "metadata": {},
   "outputs": [],
   "source": [
    "plot_counts.to_csv(\"plot_counts.csv\",index=False)"
   ]
  },
  {
   "cell_type": "code",
   "execution_count": 34,
   "id": "otherwise-safety",
   "metadata": {},
   "outputs": [
    {
     "data": {
      "image/png": "[encoded data removed]",
      "text/plain": [
       "<Figure size 360x360 with 1 Axes>"
      ]
     },
     "metadata": {
      "needs_background": "light"
     },
     "output_type": "display_data"
    }
   ],
   "source": [
    "sns.displot(data=plot_counts,x=\"CATEGORY_ID\", bins=100)\n",
    "plt.xlabel(\"number of materials in category\");\n",
    "plt.ylabel(\"count of categories\");"
   ]
  },
  {
   "cell_type": "code",
   "execution_count": 35,
   "id": "legislative-uncertainty",
   "metadata": {},
   "outputs": [
    {
     "data": {
      "image/png": "[encoded data removed]",
      "text/plain": [
       "<Figure size 360x360 with 1 Axes>"
      ]
     },
     "metadata": {
      "needs_background": "light"
     },
     "output_type": "display_data"
    }
   ],
   "source": [
    "sns.displot(data=plot_counts.query(\"CATEGORY_ID <1000\"),x=\"CATEGORY_ID\", bins=100)\n",
    "plt.xlabel(\"number of materials in category\");\n",
    "plt.ylabel(\"count of categories\");"
   ]
  },
  {
   "cell_type": "code",
   "execution_count": 36,
   "id": "billion-facility",
   "metadata": {},
   "outputs": [],
   "source": [
    "merge[\"NAME_LEN\"] = merge.NAME.str.len()"
   ]
  },
  {
   "cell_type": "code",
   "execution_count": 37,
   "id": "certain-encounter",
   "metadata": {},
   "outputs": [
    {
     "data": {
      "text/html": [
       "<div>\n",
       "<style scoped>\n",
       "    .dataframe tbody tr th:only-of-type {\n",
       "        vertical-align: middle;\n",
       "    }\n",
       "\n",
       "    .dataframe tbody tr th {\n",
       "        vertical-align: top;\n",
       "    }\n",
       "\n",
       "    .dataframe thead th {\n",
       "        text-align: right;\n",
       "    }\n",
       "</style>\n",
       "<table border=\"1\" class=\"dataframe\">\n",
       "  <thead>\n",
       "    <tr style=\"text-align: right;\">\n",
       "      <th></th>\n",
       "      <th>MATERIAL_ID</th>\n",
       "      <th>MATERIAL_ODS_ID</th>\n",
       "      <th>SHOP</th>\n",
       "      <th>NAME</th>\n",
       "      <th>BRIEF</th>\n",
       "      <th>NAME_BRIEF</th>\n",
       "      <th>NAME_DESCRIPTION</th>\n",
       "      <th>NAME_BRIEF_DESCRIPTION</th>\n",
       "      <th>IS_MAIN</th>\n",
       "      <th>CATEGORY_ID</th>\n",
       "      <th>CATEGORY_PATH</th>\n",
       "      <th>CATEGORY_URL</th>\n",
       "      <th>VISIBLE</th>\n",
       "      <th>CATEGORY_NAME</th>\n",
       "      <th>CATEGORY_LEVEL</th>\n",
       "      <th>NAME_LEN</th>\n",
       "    </tr>\n",
       "  </thead>\n",
       "  <tbody>\n",
       "  </tbody>\n",
       "</table>\n",
       "</div>"
      ],
      "text/plain": [
       "Empty DataFrame\n",
       "Columns: [MATERIAL_ID, MATERIAL_ODS_ID, SHOP, NAME, BRIEF, NAME_BRIEF, NAME_DESCRIPTION, NAME_BRIEF_DESCRIPTION, IS_MAIN, CATEGORY_ID, CATEGORY_PATH, CATEGORY_URL, VISIBLE, CATEGORY_NAME, CATEGORY_LEVEL, NAME_LEN]\n",
       "Index: []"
      ]
     },
     "execution_count": 37,
     "metadata": {},
     "output_type": "execute_result"
    }
   ],
   "source": [
    "merge[merge.NAME_LEN>7000]"
   ]
  },
  {
   "cell_type": "code",
   "execution_count": 38,
   "id": "sophisticated-traffic",
   "metadata": {},
   "outputs": [],
   "source": [
    "plot_title_char_freq = merge.NAME.str.len().value_counts().reset_index()\n",
    "plot_title_char_freq = plot_title_char_freq.rename(columns={\"NAME\":\"count\",\n",
    "                                          \"index\":\"number of characters in TITLE\"})"
   ]
  },
  {
   "cell_type": "code",
   "execution_count": 39,
   "id": "sapphire-developer",
   "metadata": {},
   "outputs": [],
   "source": [
    "plot_title_word_freq = merge.NAME.str.split().apply(lambda x: len(x)).value_counts().reset_index()\n",
    "plot_title_word_freq = plot_title_word_freq.rename(columns={\"NAME\":\"count\",\n",
    "                                          \"index\":\"number of words in TITLE\"})"
   ]
  },
  {
   "cell_type": "code",
   "execution_count": 40,
   "id": "dietary-title",
   "metadata": {},
   "outputs": [
    {
     "data": {
      "text/plain": [
       "49.697121143281976"
      ]
     },
     "execution_count": 40,
     "metadata": {},
     "output_type": "execute_result"
    }
   ],
   "source": [
    "merge.NAME.str.len().mean()"
   ]
  },
  {
   "cell_type": "code",
   "execution_count": 72,
   "id": "living-kenya",
   "metadata": {},
   "outputs": [],
   "source": [
    "plot_title_char_freq.to_csv(\"plot_title_char_freq.csv\",index=False)"
   ]
  },
  {
   "cell_type": "code",
   "execution_count": 41,
   "id": "practical-poison",
   "metadata": {},
   "outputs": [
    {
     "data": {
      "image/png": "[encoded data removed]",
      "text/plain": [
       "<Figure size 432x288 with 1 Axes>"
      ]
     },
     "metadata": {
      "needs_background": "light"
     },
     "output_type": "display_data"
    }
   ],
   "source": [
    "sns.lineplot(data=plot_title_char_freq,y=\"count\",x=\"number of characters in TITLE\")\n",
    "plt.savefig(\"char_title.pdf\",bbox_inches='tight')"
   ]
  },
  {
   "cell_type": "code",
   "execution_count": 73,
   "id": "intimate-participant",
   "metadata": {},
   "outputs": [],
   "source": [
    "plot_title_word_freq.to_csv(\"plot_title_word_freq.csv\",index=False)"
   ]
  },
  {
   "cell_type": "code",
   "execution_count": 42,
   "id": "constant-introduction",
   "metadata": {},
   "outputs": [
    {
     "data": {
      "image/png": "[encoded data removed]",
      "text/plain": [
       "<Figure size 432x288 with 1 Axes>"
      ]
     },
     "metadata": {
      "needs_background": "light"
     },
     "output_type": "display_data"
    }
   ],
   "source": [
    "sns.lineplot(data=plot_title_word_freq,y=\"count\",x=\"number of words in TITLE\")\n",
    "plt.savefig(\"word_title.pdf\",bbox_inches='tight')"
   ]
  },
  {
   "cell_type": "code",
   "execution_count": 93,
   "id": "enabling-listening",
   "metadata": {},
   "outputs": [
    {
     "data": {
      "text/html": [
       "<div>\n",
       "<style scoped>\n",
       "    .dataframe tbody tr th:only-of-type {\n",
       "        vertical-align: middle;\n",
       "    }\n",
       "\n",
       "    .dataframe tbody tr th {\n",
       "        vertical-align: top;\n",
       "    }\n",
       "\n",
       "    .dataframe thead th {\n",
       "        text-align: right;\n",
       "    }\n",
       "</style>\n",
       "<table border=\"1\" class=\"dataframe\">\n",
       "  <thead>\n",
       "    <tr style=\"text-align: right;\">\n",
       "      <th></th>\n",
       "      <th>MATERIAL_ID</th>\n",
       "      <th>MATERIAL_ODS_ID</th>\n",
       "      <th>SHOP</th>\n",
       "      <th>NAME</th>\n",
       "      <th>BRIEF</th>\n",
       "      <th>NAME_BRIEF</th>\n",
       "      <th>NAME_DESCRIPTION</th>\n",
       "      <th>NAME_BRIEF_DESCRIPTION</th>\n",
       "      <th>IS_MAIN</th>\n",
       "      <th>CATEGORY_ID</th>\n",
       "      <th>CATEGORY_PATH</th>\n",
       "      <th>CATEGORY_URL</th>\n",
       "      <th>VISIBLE</th>\n",
       "      <th>CATEGORY_NAME</th>\n",
       "      <th>CATEGORY_LEVEL</th>\n",
       "      <th>NAME_LEN</th>\n",
       "      <th>DESCRIPTION</th>\n",
       "    </tr>\n",
       "  </thead>\n",
       "  <tbody>\n",
       "    <tr>\n",
       "      <th>133697</th>\n",
       "      <td>472325</td>\n",
       "      <td>6533380</td>\n",
       "      <td>MACZ</td>\n",
       "      <td>Sonix, bezdrátový GSM alarm ALM301</td>\n",
       "      <td>Kompaktní bezdrátový zabezpečovací GSM alarm E...</td>\n",
       "      <td>sonix bezdrát gsm alarm ; kompaktn bezdrát zab...</td>\n",
       "      <td>sonix bezdrát gsm alarm ; evolve helpdesk tech...</td>\n",
       "      <td>sonix bezdrát gsm alarm kompaktn bezdrát zabez...</td>\n",
       "      <td>t</td>\n",
       "      <td>17808</td>\n",
       "      <td>Hobby a zahrada &gt; Dům, byt &gt; Alarmy</td>\n",
       "      <td>https://www.mall.cz/alarmy-dum</td>\n",
       "      <td>t</td>\n",
       "      <td>Alarmy do domu</td>\n",
       "      <td>3</td>\n",
       "      <td>34</td>\n",
       "      <td>evolve helpdesk technick podpor vyskytnout pro...</td>\n",
       "    </tr>\n",
       "  </tbody>\n",
       "</table>\n",
       "</div>"
      ],
      "text/plain": [
       "        MATERIAL_ID  MATERIAL_ODS_ID  SHOP  \\\n",
       "133697       472325          6533380  MACZ   \n",
       "\n",
       "                                      NAME  \\\n",
       "133697  Sonix, bezdrátový GSM alarm ALM301   \n",
       "\n",
       "                                                    BRIEF  \\\n",
       "133697  Kompaktní bezdrátový zabezpečovací GSM alarm E...   \n",
       "\n",
       "                                               NAME_BRIEF  \\\n",
       "133697  sonix bezdrát gsm alarm ; kompaktn bezdrát zab...   \n",
       "\n",
       "                                         NAME_DESCRIPTION  \\\n",
       "133697  sonix bezdrát gsm alarm ; evolve helpdesk tech...   \n",
       "\n",
       "                                   NAME_BRIEF_DESCRIPTION IS_MAIN  \\\n",
       "133697  sonix bezdrát gsm alarm kompaktn bezdrát zabez...       t   \n",
       "\n",
       "        CATEGORY_ID                        CATEGORY_PATH  \\\n",
       "133697        17808  Hobby a zahrada > Dům, byt > Alarmy   \n",
       "\n",
       "                          CATEGORY_URL VISIBLE   CATEGORY_NAME  \\\n",
       "133697  https://www.mall.cz/alarmy-dum       t  Alarmy do domu   \n",
       "\n",
       "        CATEGORY_LEVEL  NAME_LEN  \\\n",
       "133697               3        34   \n",
       "\n",
       "                                              DESCRIPTION  \n",
       "133697  evolve helpdesk technick podpor vyskytnout pro...  "
      ]
     },
     "execution_count": 93,
     "metadata": {},
     "output_type": "execute_result"
    }
   ],
   "source": [
    "merge[merge.BRIEF.str.len() > 600]"
   ]
  },
  {
   "cell_type": "code",
   "execution_count": 43,
   "id": "necessary-animation",
   "metadata": {},
   "outputs": [],
   "source": [
    "plot_brief_char_freq = merge.BRIEF.str.len().value_counts().reset_index()\n",
    "plot_brief_char_freq = plot_brief_char_freq.rename(columns={\"BRIEF\":\"count\",\n",
    "                                          \"index\":\"number of characters in BRIEF\"})"
   ]
  },
  {
   "cell_type": "code",
   "execution_count": 74,
   "id": "miniature-tuesday",
   "metadata": {},
   "outputs": [],
   "source": [
    "plot_brief_char_freq.to_csv(\"plot_brief_char_freq.csv\",index=False)"
   ]
  },
  {
   "cell_type": "code",
   "execution_count": 89,
   "id": "portuguese-graphic",
   "metadata": {},
   "outputs": [
    {
     "data": {
      "text/plain": [
       "665.0"
      ]
     },
     "execution_count": 89,
     "metadata": {},
     "output_type": "execute_result"
    }
   ],
   "source": [
    "plot_brief_char_freq[\"number of characters in BRIEF\"].max()"
   ]
  },
  {
   "cell_type": "code",
   "execution_count": 44,
   "id": "responsible-metadata",
   "metadata": {},
   "outputs": [
    {
     "data": {
      "image/png": "[encoded data removed]",
      "text/plain": [
       "<Figure size 432x288 with 1 Axes>"
      ]
     },
     "metadata": {
      "needs_background": "light"
     },
     "output_type": "display_data"
    }
   ],
   "source": [
    "sns.lineplot(data=plot_brief_char_freq,y=\"count\",x=\"number of characters in BRIEF\")\n",
    "plt.savefig(\"char_brief.pdf\",bbox_inches='tight')"
   ]
  },
  {
   "cell_type": "code",
   "execution_count": 78,
   "id": "protected-remainder",
   "metadata": {},
   "outputs": [],
   "source": [
    "merge[\"DESCRIPTION\"] = merge.NAME_DESCRIPTION.apply(lambda x: x.split(\" ; \")[-1])"
   ]
  },
  {
   "cell_type": "code",
   "execution_count": 85,
   "id": "center-negotiation",
   "metadata": {},
   "outputs": [],
   "source": [
    "plot_desc_char_freq = merge.DESCRIPTION.str.len().value_counts().reset_index()\n",
    "plot_desc_char_freq = plot_desc_char_freq.rename(columns={\"DESCRIPTION\":\"count\",\n",
    "                                          \"index\":\"number of characters in DESCRIPTION\"})"
   ]
  },
  {
   "cell_type": "code",
   "execution_count": 86,
   "id": "seasonal-mason",
   "metadata": {},
   "outputs": [
    {
     "data": {
      "image/png": "[encoded data removed]",
      "text/plain": [
       "<Figure size 432x288 with 1 Axes>"
      ]
     },
     "metadata": {
      "needs_background": "light"
     },
     "output_type": "display_data"
    }
   ],
   "source": [
    "sns.lineplot(data=plot_desc_char_freq,y=\"count\",x=\"number of characters in DESCRIPTION\")\n",
    "plt.savefig(\"char_brief.pdf\",bbox_inches='tight')"
   ]
  },
  {
   "cell_type": "code",
   "execution_count": 94,
   "id": "pressed-korea",
   "metadata": {},
   "outputs": [],
   "source": [
    "plot_desc_char_freq.to_csv(\"plot_desc_char_freq.csv\",index=False)"
   ]
  },
  {
   "cell_type": "code",
   "execution_count": 88,
   "id": "continuous-conversion",
   "metadata": {},
   "outputs": [
    {
     "data": {
      "text/plain": [
       "8864"
      ]
     },
     "execution_count": 88,
     "metadata": {},
     "output_type": "execute_result"
    }
   ],
   "source": [
    "plot_desc_char_freq[\"number of characters in DESCRIPTION\"].max()"
   ]
  },
  {
   "cell_type": "markdown",
   "id": "coastal-monaco",
   "metadata": {
    "tags": []
   },
   "source": [
    "# tree"
   ]
  },
  {
   "cell_type": "code",
   "execution_count": 45,
   "id": "pleased-board",
   "metadata": {
    "tags": []
   },
   "outputs": [
    {
     "name": "stdout",
     "output_type": "stream",
     "text": [
      "\u001b[31mERROR: Could not find a version that satisfies the requirement etetoolkit (from versions: none)\u001b[0m\n",
      "\u001b[31mERROR: No matching distribution found for etetoolkit\u001b[0m\n",
      "Note: you may need to restart the kernel to use updated packages.\n"
     ]
    }
   ],
   "source": [
    "pip install etetoolkit ete3 ete_toolchain"
   ]
  },
  {
   "cell_type": "code",
   "execution_count": 46,
   "id": "sharp-perfume",
   "metadata": {
    "tags": []
   },
   "outputs": [
    {
     "ename": "ModuleNotFoundError",
     "evalue": "No module named 'ete3'",
     "output_type": "error",
     "traceback": [
      "\u001b[0;31m---------------------------------------------------------------------------\u001b[0m",
      "\u001b[0;31mModuleNotFoundError\u001b[0m                       Traceback (most recent call last)",
      "\u001b[0;32m/tmp/ipykernel_272/3957966966.py\u001b[0m in \u001b[0;36m<module>\u001b[0;34m\u001b[0m\n\u001b[0;32m----> 1\u001b[0;31m \u001b[0;32mfrom\u001b[0m \u001b[0mete3\u001b[0m \u001b[0;32mimport\u001b[0m \u001b[0mTree\u001b[0m\u001b[0;34m\u001b[0m\u001b[0;34m\u001b[0m\u001b[0m\n\u001b[0m\u001b[1;32m      2\u001b[0m \u001b[0mt\u001b[0m \u001b[0;34m=\u001b[0m \u001b[0mTree\u001b[0m\u001b[0;34m(\u001b[0m \u001b[0;34m\"((a,b),c);\"\u001b[0m \u001b[0;34m)\u001b[0m\u001b[0;34m\u001b[0m\u001b[0;34m\u001b[0m\u001b[0m\n\u001b[1;32m      3\u001b[0m \u001b[0mt\u001b[0m\u001b[0;34m.\u001b[0m\u001b[0mshow\u001b[0m\u001b[0;34m(\u001b[0m\u001b[0;34m)\u001b[0m\u001b[0;34m\u001b[0m\u001b[0;34m\u001b[0m\u001b[0m\n",
      "\u001b[0;31mModuleNotFoundError\u001b[0m: No module named 'ete3'"
     ]
    }
   ],
   "source": [
    "from ete3 import Tree\n",
    "t = Tree( \"((a,b),c);\" )\n",
    "t.show()"
   ]
  },
  {
   "cell_type": "code",
   "execution_count": null,
   "id": "communist-preference",
   "metadata": {},
   "outputs": [],
   "source": []
  }
 ],
 "metadata": {
  "kernelspec": {
   "display_name": "Python 3 (ipykernel)",
   "language": "python",
   "name": "python3"
  },
  "language_info": {
   "codemirror_mode": {
    "name": "ipython",
    "version": 3
   },
   "file_extension": ".py",
   "mimetype": "text/x-python",
   "name": "python",
   "nbconvert_exporter": "python",
   "pygments_lexer": "ipython3",
   "version": "3.7.12"
  }
 },
 "nbformat": 4,
 "nbformat_minor": 5
}
