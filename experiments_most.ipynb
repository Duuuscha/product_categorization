{
 "cells": [
  {
   "cell_type": "code",
   "execution_count": 1,
   "metadata": {},
   "outputs": [],
   "source": [
    "FILES_PATH = '/data/in/files/'\n"
   ]
  },
  {
   "cell_type": "code",
   "execution_count": 2,
   "metadata": {},
   "outputs": [],
   "source": [
    "# import libraries\n",
    "import os\n",
    "import sys\n",
    "import re\n",
    "\n",
    "# get files not ending with manifest\n",
    "script_files = [f for f in os.listdir(FILES_PATH) if re.match(r'^[0-9]+_.+$', f) and not f.endswith('.manifest')]\n",
    "\n",
    "# create new name for files\n",
    "rename_dict = {f: re.sub(r'^[0-9]+_(.*)', '\\\\1', f) for f in script_files}\n",
    "\n",
    "# rename files\n",
    "for old, new in rename_dict.items():\n",
    "    os.rename(f'{FILES_PATH}{old}', f'{FILES_PATH}{new}')\n",
    "    print(f'In {FILES_PATH}, {old} renamed to {new}')\n",
    "    \n",
    "# add FILES_PATH to sys.path\n",
    "sys.path.append(FILES_PATH)\n"
   ]
  },
  {
   "cell_type": "code",
   "execution_count": 3,
   "metadata": {},
   "outputs": [],
   "source": [
    "import json\n",
    "\n",
    "import numpy as np\n",
    "import pandas as pd\n",
    "from tqdm import tqdm\n",
    "\n",
    "from fasttext import FastText\n"
   ]
  },
  {
   "cell_type": "code",
   "execution_count": 4,
   "metadata": {},
   "outputs": [],
   "source": [
    "mats = pd.read_csv(\"in/tables/MATERIALS_FOR_CLASSIFICATION_CLEAN.csv\")\n",
    "cats = pd.read_csv(\"in/tables/MATERIAL_CATEGORY_FOR_CLASSIFICATION.csv\")\n",
    "\n",
    "df = pd.merge(mats,cats,on=[\"MATERIAL_ODS_ID\",\"SHOP\"])\n",
    "\n",
    "def create_category_dict(df):\n",
    "    return df.groupby(\"CATEGORY_ID\").CATEGORY_PATH.unique().to_dict()\n",
    "category_dict = create_category_dict(df)\n",
    "\n",
    "# should be applied after category_decoder_dict\n",
    "df = df[~df.MATERIAL_ID.duplicated()].reset_index(drop=True).copy()\n"
   ]
  },
  {
   "cell_type": "markdown",
   "metadata": {},
   "source": [
    "### transformers embd"
   ]
  },
  {
   "cell_type": "code",
   "execution_count": 6,
   "metadata": {},
   "outputs": [],
   "source": [
    "contx_embd = pd.read_csv(\"in/tables/SENT_EMBD_ROBERTA.csv\", usecols=[\"MATERIAL_ID\"])"
   ]
  },
  {
   "cell_type": "code",
   "execution_count": 7,
   "metadata": {},
   "outputs": [],
   "source": [
    "to_exclude = np.setdiff1d(contx_embd.index,contx_embd.drop_duplicates().index)+1"
   ]
  },
  {
   "cell_type": "code",
   "execution_count": 26,
   "metadata": {},
   "outputs": [],
   "source": [
    "contx_embd = pd.read_csv(\"in/tables/SENT_EMBD_ROBERTA.csv\", skiprows=to_exclude)"
   ]
  },
  {
   "cell_type": "code",
   "execution_count": 27,
   "metadata": {},
   "outputs": [],
   "source": [
    "contx_embd = contx_embd.drop_duplicates(\"MATERIAL_ID\").copy()"
   ]
  },
  {
   "cell_type": "code",
   "execution_count": 28,
   "metadata": {},
   "outputs": [],
   "source": [
    "contx_embd = contx_embd[~contx_embd.MATERIAL_ID.str.contains(\"M\")].copy()\n",
    "contx_embd.MATERIAL_ID = contx_embd.MATERIAL_ID.astype(int)"
   ]
  },
  {
   "cell_type": "code",
   "execution_count": 29,
   "metadata": {},
   "outputs": [],
   "source": [
    "contx_embd.MATERIAL_ID = contx_embd.MATERIAL_ID.astype(int)"
   ]
  },
  {
   "cell_type": "code",
   "execution_count": 30,
   "metadata": {},
   "outputs": [],
   "source": [
    "df = pd.merge(df,contx_embd, on=[\"MATERIAL_ID\"])"
   ]
  },
  {
   "cell_type": "markdown",
   "metadata": {},
   "source": [
    "### image embd"
   ]
  },
  {
   "cell_type": "code",
   "execution_count": 7,
   "metadata": {},
   "outputs": [],
   "source": [
    "image_embd_mats = pd.read_csv(\"in/tables/IMAGE_EMBD.csv\", usecols=[\"MATERIAL_ID\"])"
   ]
  },
  {
   "cell_type": "code",
   "execution_count": 8,
   "metadata": {},
   "outputs": [],
   "source": [
    "image_indexes = image_embd_mats[image_embd_mats.MATERIAL_ID.isin(df.MATERIAL_ID.values)].index"
   ]
  },
  {
   "cell_type": "code",
   "execution_count": 9,
   "metadata": {},
   "outputs": [],
   "source": [
    "to_exclude = np.setdiff1d(image_embd_mats.index, image_indexes)+1\n",
    "\n",
    "df_iteration = pd.read_csv(\"in/tables/IMAGE_EMBD.csv\",\n",
    "                          skiprows=to_exclude)"
   ]
  },
  {
   "cell_type": "code",
   "execution_count": 10,
   "metadata": {},
   "outputs": [],
   "source": [
    "df = pd.merge(df,df_iteration, on=[\"MATERIAL_ID\"])"
   ]
  },
  {
   "cell_type": "code",
   "execution_count": 11,
   "metadata": {},
   "outputs": [],
   "source": [
    "del mats, cats, df_iteration, image_embd_mats"
   ]
  },
  {
   "cell_type": "code",
   "execution_count": 12,
   "metadata": {},
   "outputs": [],
   "source": [
    "columns= [\"MATERIAL_ID\",\"CATEGORY_PATH\",\"CATEGORY_ID\",\"IMAGE_EMBD\"]\n",
    "df[columns].to_csv(\"preprocess_embd.csv\", index=False)"
   ]
  },
  {
   "cell_type": "code",
   "execution_count": 31,
   "metadata": {},
   "outputs": [],
   "source": [
    "def clean_embd_from_pandas(df_embds,column):\n",
    "    clean_embeddings = []\n",
    "    for i in df_embds[column].values:\n",
    "        clean_embedding = []\n",
    "        i = (i\n",
    "           .replace(\"[\", \"\")\n",
    "           .replace (\"]\", \"\")\n",
    "           .replace (\"\\n\", \"\")\n",
    "           .replace (\",\", \"\")\n",
    "           .split())\n",
    "        for j in i:\n",
    "            clean_embedding.append(float(j))\n",
    "        clean_embeddings.append(np.array(clean_embedding))\n",
    "    df_embds[column] = clean_embeddings"
   ]
  },
  {
   "cell_type": "code",
   "execution_count": 35,
   "metadata": {},
   "outputs": [],
   "source": [
    "# clean_embd_from_pandas(df,\"MEAN_1_y\")\n",
    "clean_embd_from_pandas(df,\"SUM_4_y\")\n",
    "# clean_embd_from_pandas(df,\"CONCAT_4\")"
   ]
  },
  {
   "cell_type": "markdown",
   "metadata": {},
   "source": [
    "# fasttext model"
   ]
  },
  {
   "cell_type": "code",
   "execution_count": 6,
   "metadata": {
    "tags": []
   },
   "outputs": [
    {
     "data": {
      "text/plain": []
     },
     "execution_count": 6,
     "metadata": {},
     "output_type": "execute_result"
    }
   ],
   "source": [
    "from sh import gunzip\n",
    "\n",
    "# unzip fastext models\n",
    "gunzip(f\"{FILES_PATH}\"+\"cc.cs.300.bin.gz\")"
   ]
  },
  {
   "cell_type": "code",
   "execution_count": 5,
   "metadata": {},
   "outputs": [
    {
     "name": "stderr",
     "output_type": "stream",
     "text": [
      "Warning : `load_model` does not return WordVectorModel or SupervisedModel any more, but a `FastText` object which is very similar.\n"
     ]
    }
   ],
   "source": [
    "fasttext = FastText.load_model(f\"{FILES_PATH}\"+\"cc.cs.300.bin\")\n",
    "\n",
    "\n",
    "\n",
    "from sklearn.preprocessing import FunctionTransformer\n",
    "\n",
    "def encode_dataframe(X):\n",
    "    return np.array([fasttext.get_sentence_vector(i) for i in X])\n",
    "\n",
    "transformer = FunctionTransformer(encode_dataframe)"
   ]
  },
  {
   "cell_type": "markdown",
   "metadata": {},
   "source": [
    "# preprocessing training data"
   ]
  },
  {
   "cell_type": "code",
   "execution_count": 6,
   "metadata": {},
   "outputs": [],
   "source": [
    "df = df.drop_duplicates(\"MATERIAL_ID\").reset_index().copy()"
   ]
  },
  {
   "cell_type": "code",
   "execution_count": 7,
   "metadata": {},
   "outputs": [
    {
     "name": "stdout",
     "output_type": "stream",
     "text": [
      "Len of df before: 242110\n",
      "Len of df after: 240998\n"
     ]
    }
   ],
   "source": [
    "# test_categories = df.CATEGORY_ID.value_counts().reset_index().query(\"CATEGORY_ID > 20\")[\"index\"].values\n",
    "# df = df.query(\"CATEGORY_ID in @test_categories\").copy()\n",
    "\n",
    "def remove_too_small_categories(df, how_many=20):\n",
    "    \"\"\"\n",
    "    Remove all categories small than @how_many, \n",
    "    because it is unsufficient to add them to classification.\n",
    "    These categories need to be evaluated in final testing.\n",
    "    \"\"\"\n",
    "    too_small_cats = df.CATEGORY_ID.value_counts().reset_index().query(\"CATEGORY_ID<@how_many\")[\"index\"].unique()\n",
    "    indices = df[df.CATEGORY_ID.isin(too_small_cats)].index\n",
    "    small_cat_df = df.iloc[indices].copy()\n",
    "    print(f\"Len of df before: {df.shape[0]}\")\n",
    "    df.drop(indices, inplace=True)\n",
    "    print(f\"Len of df after: {df.shape[0]}\")\n",
    "    return small_cat_df\n",
    "\n",
    "too_small_categories_df = remove_too_small_categories(df)\n"
   ]
  },
  {
   "cell_type": "code",
   "execution_count": 8,
   "metadata": {},
   "outputs": [],
   "source": [
    "from sklearn.model_selection import train_test_split\n",
    "\n",
    "def create_datasets(df, stratify_by=\"CATEGORY_ID\",make_valid=None, random_state=1):\n",
    "    \"\"\"\n",
    "    Create train/test, possibly also validation dataset.\n",
    "    If make_valid=True, then returns df,list(df,df)\n",
    "    \"\"\"\n",
    "    train, test = train_test_split(df.reset_index(drop=True), \n",
    "                                   stratify=df[stratify_by],\n",
    "                                   test_size=0.3, \n",
    "                                   random_state=random_state)\n",
    "    if make_valid:\n",
    "        test = train_test_split(test.reset_index(drop=True),\n",
    "                                test_size=0.3,\n",
    "                                random_state=random_state)\n",
    "    \n",
    "    return train, test\n",
    "\n",
    "def over_sample(df, categories_smaller=100):\n",
    "    \"\"\"\n",
    "    Oversample for really small categories\n",
    "    \"\"\"\n",
    "    new_df = pd.DataFrame()\n",
    "    # smaller categories\n",
    "    small_categories = (df.CATEGORY_ID\n",
    "                        .value_counts()\n",
    "                        .reset_index()\n",
    "                        .query(\"CATEGORY_ID < 100\"))\n",
    "    \n",
    "    for _,cat_id, count in small_categories.itertuples():\n",
    "        append_another = categories_smaller-count\n",
    "        df_cat = df.query(\"CATEGORY_ID == @cat_id\")\n",
    "        new_df = new_df.append(df_cat.iloc[np.random.randint(df_cat.shape[0],size=append_another)])\n",
    "    \n",
    "    print(f\"Appending {new_df.shape[0]} of new samples\")\n",
    "    return pd.concat([df,new_df])\n"
   ]
  },
  {
   "cell_type": "markdown",
   "metadata": {
    "jp-MarkdownHeadingCollapsed": true,
    "tags": []
   },
   "source": [
    "# trees sample training"
   ]
  },
  {
   "cell_type": "code",
   "execution_count": 39,
   "metadata": {},
   "outputs": [],
   "source": [
    "train_sample = train.groupby(\"CATEGORY_ID\",group_keys=False).apply(lambda x: x.sample(frac=0.1))"
   ]
  },
  {
   "cell_type": "code",
   "execution_count": 24,
   "metadata": {},
   "outputs": [],
   "source": [
    "import joblib"
   ]
  },
  {
   "cell_type": "code",
   "execution_count": 44,
   "metadata": {},
   "outputs": [
    {
     "data": {
      "text/plain": [
       "['RF_3.pkl']"
      ]
     },
     "execution_count": 44,
     "metadata": {},
     "output_type": "execute_result"
    }
   ],
   "source": [
    "joblib.dump(pipeline[-1],\"RF_3.pkl\")"
   ]
  },
  {
   "cell_type": "code",
   "execution_count": 9,
   "metadata": {},
   "outputs": [],
   "source": [
    "from sklearn.decomposition import PCA"
   ]
  },
  {
   "cell_type": "code",
   "execution_count": 10,
   "metadata": {},
   "outputs": [],
   "source": [
    "train_vector = [fasttext.get_sentence_vector(i) for i in train[\"NAME_BRIEF\"]]\n",
    "pca = PCA(0.34)\n",
    "pca_features = pca.fit_transform(train_vector)"
   ]
  },
  {
   "cell_type": "code",
   "execution_count": 11,
   "metadata": {
    "tags": []
   },
   "outputs": [
    {
     "data": {
      "text/plain": [
       "RandomForestClassifier()"
      ]
     },
     "execution_count": 11,
     "metadata": {},
     "output_type": "execute_result"
    }
   ],
   "source": [
    "from sklearn.ensemble import RandomForestClassifier\n",
    "from xgboost import XGBClassifier\n",
    "from sklearn.linear_model import LogisticRegression\n",
    "from sklearn.pipeline import Pipeline\n",
    "\n",
    "algorithms = {\"RF\":RandomForestClassifier(),\n",
    "             \"XGB\":XGBClassifier()}\n",
    "METHOD=\"RF\"\n",
    "\n",
    "model = algorithms[METHOD]\n",
    "from sklearn.preprocessing import LabelEncoder\n",
    "\n",
    "X = pca_features\n",
    "y_raw = train.CATEGORY_ID\n",
    "\n",
    "label_encoder = LabelEncoder()\n",
    "y = label_encoder.fit_transform(y_raw)\n",
    "\n",
    "model.fit(X,y)\n"
   ]
  },
  {
   "cell_type": "code",
   "execution_count": 13,
   "metadata": {},
   "outputs": [],
   "source": [
    "test_vector = [fasttext.get_sentence_vector(i) for i in test[\"NAME_BRIEF\"]]\n",
    "pca_features = pca.fit_transform(test_vector)"
   ]
  },
  {
   "cell_type": "code",
   "execution_count": 14,
   "metadata": {},
   "outputs": [],
   "source": [
    "predicitons = model.predict(pca_features)"
   ]
  },
  {
   "cell_type": "code",
   "execution_count": 17,
   "metadata": {},
   "outputs": [
    {
     "name": "stderr",
     "output_type": "stream",
     "text": [
      "/home/default/lib/python3.9/site-packages/sklearn/metrics/_classification.py:1248: UndefinedMetricWarning: Precision and F-score are ill-defined and being set to 0.0 in labels with no predicted samples. Use `zero_division` parameter to control this behavior.\n",
      "  _warn_prf(average, modifier, msg_start, len(result))\n"
     ]
    }
   ],
   "source": [
    "decoded_prediction = decode_predictions(predicitons)\n",
    "    \n",
    "score = precision_recall_fscore_support(test.CATEGORY_ID, decoded_prediction[0], average=\"weighted\")"
   ]
  },
  {
   "cell_type": "code",
   "execution_count": 18,
   "metadata": {},
   "outputs": [
    {
     "data": {
      "text/plain": [
       "(0.4256630879174642, 0.3519225449515906, 0.36053210105940436, None)"
      ]
     },
     "execution_count": 18,
     "metadata": {},
     "output_type": "execute_result"
    }
   ],
   "source": [
    "score"
   ]
  },
  {
   "cell_type": "code",
   "execution_count": 180,
   "metadata": {
    "collapsed": true,
    "jupyter": {
     "outputs_hidden": true
    },
    "tags": []
   },
   "outputs": [
    {
     "ename": "KeyboardInterrupt",
     "evalue": "",
     "output_type": "error",
     "traceback": [
      "\u001b[0;31m---------------------------------------------------------------------------\u001b[0m",
      "\u001b[0;31mKeyboardInterrupt\u001b[0m                         Traceback (most recent call last)",
      "\u001b[0;32m/tmp/ipykernel_120/2110150266.py\u001b[0m in \u001b[0;36m<module>\u001b[0;34m\u001b[0m\n\u001b[1;32m     18\u001b[0m \u001b[0my\u001b[0m \u001b[0;34m=\u001b[0m \u001b[0mlabel_encoder\u001b[0m\u001b[0;34m.\u001b[0m\u001b[0mfit_transform\u001b[0m\u001b[0;34m(\u001b[0m\u001b[0my_raw\u001b[0m\u001b[0;34m)\u001b[0m\u001b[0;34m\u001b[0m\u001b[0;34m\u001b[0m\u001b[0m\n\u001b[1;32m     19\u001b[0m \u001b[0;34m\u001b[0m\u001b[0m\n\u001b[0;32m---> 20\u001b[0;31m \u001b[0mpipeline\u001b[0m\u001b[0;34m.\u001b[0m\u001b[0mfit\u001b[0m\u001b[0;34m(\u001b[0m\u001b[0mX\u001b[0m\u001b[0;34m,\u001b[0m\u001b[0my\u001b[0m\u001b[0;34m)\u001b[0m\u001b[0;34m\u001b[0m\u001b[0;34m\u001b[0m\u001b[0m\n\u001b[0m",
      "\u001b[0;32m/home/default/lib/python3.9/site-packages/sklearn/pipeline.py\u001b[0m in \u001b[0;36mfit\u001b[0;34m(self, X, y, **fit_params)\u001b[0m\n\u001b[1;32m    344\u001b[0m             \u001b[0;32mif\u001b[0m \u001b[0mself\u001b[0m\u001b[0;34m.\u001b[0m\u001b[0m_final_estimator\u001b[0m \u001b[0;34m!=\u001b[0m \u001b[0;34m'passthrough'\u001b[0m\u001b[0;34m:\u001b[0m\u001b[0;34m\u001b[0m\u001b[0;34m\u001b[0m\u001b[0m\n\u001b[1;32m    345\u001b[0m                 \u001b[0mfit_params_last_step\u001b[0m \u001b[0;34m=\u001b[0m \u001b[0mfit_params_steps\u001b[0m\u001b[0;34m[\u001b[0m\u001b[0mself\u001b[0m\u001b[0;34m.\u001b[0m\u001b[0msteps\u001b[0m\u001b[0;34m[\u001b[0m\u001b[0;34m-\u001b[0m\u001b[0;36m1\u001b[0m\u001b[0;34m]\u001b[0m\u001b[0;34m[\u001b[0m\u001b[0;36m0\u001b[0m\u001b[0;34m]\u001b[0m\u001b[0;34m]\u001b[0m\u001b[0;34m\u001b[0m\u001b[0;34m\u001b[0m\u001b[0m\n\u001b[0;32m--> 346\u001b[0;31m                 \u001b[0mself\u001b[0m\u001b[0;34m.\u001b[0m\u001b[0m_final_estimator\u001b[0m\u001b[0;34m.\u001b[0m\u001b[0mfit\u001b[0m\u001b[0;34m(\u001b[0m\u001b[0mXt\u001b[0m\u001b[0;34m,\u001b[0m \u001b[0my\u001b[0m\u001b[0;34m,\u001b[0m \u001b[0;34m**\u001b[0m\u001b[0mfit_params_last_step\u001b[0m\u001b[0;34m)\u001b[0m\u001b[0;34m\u001b[0m\u001b[0;34m\u001b[0m\u001b[0m\n\u001b[0m\u001b[1;32m    347\u001b[0m \u001b[0;34m\u001b[0m\u001b[0m\n\u001b[1;32m    348\u001b[0m         \u001b[0;32mreturn\u001b[0m \u001b[0mself\u001b[0m\u001b[0;34m\u001b[0m\u001b[0;34m\u001b[0m\u001b[0m\n",
      "\u001b[0;32m/home/default/lib/python3.9/site-packages/sklearn/ensemble/_forest.py\u001b[0m in \u001b[0;36mfit\u001b[0;34m(self, X, y, sample_weight)\u001b[0m\n\u001b[1;32m    385\u001b[0m             \u001b[0;31m# parallel_backend contexts set at a higher level,\u001b[0m\u001b[0;34m\u001b[0m\u001b[0;34m\u001b[0m\u001b[0;34m\u001b[0m\u001b[0m\n\u001b[1;32m    386\u001b[0m             \u001b[0;31m# since correctness does not rely on using threads.\u001b[0m\u001b[0;34m\u001b[0m\u001b[0;34m\u001b[0m\u001b[0;34m\u001b[0m\u001b[0m\n\u001b[0;32m--> 387\u001b[0;31m             trees = Parallel(n_jobs=self.n_jobs, verbose=self.verbose,\n\u001b[0m\u001b[1;32m    388\u001b[0m                              \u001b[0;34m**\u001b[0m\u001b[0m_joblib_parallel_args\u001b[0m\u001b[0;34m(\u001b[0m\u001b[0mprefer\u001b[0m\u001b[0;34m=\u001b[0m\u001b[0;34m'threads'\u001b[0m\u001b[0;34m)\u001b[0m\u001b[0;34m)\u001b[0m\u001b[0;34m(\u001b[0m\u001b[0;34m\u001b[0m\u001b[0;34m\u001b[0m\u001b[0m\n\u001b[1;32m    389\u001b[0m                 delayed(_parallel_build_trees)(\n",
      "\u001b[0;32m/home/default/lib/python3.9/site-packages/joblib/parallel.py\u001b[0m in \u001b[0;36m__call__\u001b[0;34m(self, iterable)\u001b[0m\n\u001b[1;32m   1042\u001b[0m                 \u001b[0mself\u001b[0m\u001b[0;34m.\u001b[0m\u001b[0m_iterating\u001b[0m \u001b[0;34m=\u001b[0m \u001b[0mself\u001b[0m\u001b[0;34m.\u001b[0m\u001b[0m_original_iterator\u001b[0m \u001b[0;32mis\u001b[0m \u001b[0;32mnot\u001b[0m \u001b[0;32mNone\u001b[0m\u001b[0;34m\u001b[0m\u001b[0;34m\u001b[0m\u001b[0m\n\u001b[1;32m   1043\u001b[0m \u001b[0;34m\u001b[0m\u001b[0m\n\u001b[0;32m-> 1044\u001b[0;31m             \u001b[0;32mwhile\u001b[0m \u001b[0mself\u001b[0m\u001b[0;34m.\u001b[0m\u001b[0mdispatch_one_batch\u001b[0m\u001b[0;34m(\u001b[0m\u001b[0miterator\u001b[0m\u001b[0;34m)\u001b[0m\u001b[0;34m:\u001b[0m\u001b[0;34m\u001b[0m\u001b[0;34m\u001b[0m\u001b[0m\n\u001b[0m\u001b[1;32m   1045\u001b[0m                 \u001b[0;32mpass\u001b[0m\u001b[0;34m\u001b[0m\u001b[0;34m\u001b[0m\u001b[0m\n\u001b[1;32m   1046\u001b[0m \u001b[0;34m\u001b[0m\u001b[0m\n",
      "\u001b[0;32m/home/default/lib/python3.9/site-packages/joblib/parallel.py\u001b[0m in \u001b[0;36mdispatch_one_batch\u001b[0;34m(self, iterator)\u001b[0m\n\u001b[1;32m    857\u001b[0m                 \u001b[0;32mreturn\u001b[0m \u001b[0;32mFalse\u001b[0m\u001b[0;34m\u001b[0m\u001b[0;34m\u001b[0m\u001b[0m\n\u001b[1;32m    858\u001b[0m             \u001b[0;32melse\u001b[0m\u001b[0;34m:\u001b[0m\u001b[0;34m\u001b[0m\u001b[0;34m\u001b[0m\u001b[0m\n\u001b[0;32m--> 859\u001b[0;31m                 \u001b[0mself\u001b[0m\u001b[0;34m.\u001b[0m\u001b[0m_dispatch\u001b[0m\u001b[0;34m(\u001b[0m\u001b[0mtasks\u001b[0m\u001b[0;34m)\u001b[0m\u001b[0;34m\u001b[0m\u001b[0;34m\u001b[0m\u001b[0m\n\u001b[0m\u001b[1;32m    860\u001b[0m                 \u001b[0;32mreturn\u001b[0m \u001b[0;32mTrue\u001b[0m\u001b[0;34m\u001b[0m\u001b[0;34m\u001b[0m\u001b[0m\n\u001b[1;32m    861\u001b[0m \u001b[0;34m\u001b[0m\u001b[0m\n",
      "\u001b[0;32m/home/default/lib/python3.9/site-packages/joblib/parallel.py\u001b[0m in \u001b[0;36m_dispatch\u001b[0;34m(self, batch)\u001b[0m\n\u001b[1;32m    775\u001b[0m         \u001b[0;32mwith\u001b[0m \u001b[0mself\u001b[0m\u001b[0;34m.\u001b[0m\u001b[0m_lock\u001b[0m\u001b[0;34m:\u001b[0m\u001b[0;34m\u001b[0m\u001b[0;34m\u001b[0m\u001b[0m\n\u001b[1;32m    776\u001b[0m             \u001b[0mjob_idx\u001b[0m \u001b[0;34m=\u001b[0m \u001b[0mlen\u001b[0m\u001b[0;34m(\u001b[0m\u001b[0mself\u001b[0m\u001b[0;34m.\u001b[0m\u001b[0m_jobs\u001b[0m\u001b[0;34m)\u001b[0m\u001b[0;34m\u001b[0m\u001b[0;34m\u001b[0m\u001b[0m\n\u001b[0;32m--> 777\u001b[0;31m             \u001b[0mjob\u001b[0m \u001b[0;34m=\u001b[0m \u001b[0mself\u001b[0m\u001b[0;34m.\u001b[0m\u001b[0m_backend\u001b[0m\u001b[0;34m.\u001b[0m\u001b[0mapply_async\u001b[0m\u001b[0;34m(\u001b[0m\u001b[0mbatch\u001b[0m\u001b[0;34m,\u001b[0m \u001b[0mcallback\u001b[0m\u001b[0;34m=\u001b[0m\u001b[0mcb\u001b[0m\u001b[0;34m)\u001b[0m\u001b[0;34m\u001b[0m\u001b[0;34m\u001b[0m\u001b[0m\n\u001b[0m\u001b[1;32m    778\u001b[0m             \u001b[0;31m# A job can complete so quickly than its callback is\u001b[0m\u001b[0;34m\u001b[0m\u001b[0;34m\u001b[0m\u001b[0;34m\u001b[0m\u001b[0m\n\u001b[1;32m    779\u001b[0m             \u001b[0;31m# called before we get here, causing self._jobs to\u001b[0m\u001b[0;34m\u001b[0m\u001b[0;34m\u001b[0m\u001b[0;34m\u001b[0m\u001b[0m\n",
      "\u001b[0;32m/home/default/lib/python3.9/site-packages/joblib/_parallel_backends.py\u001b[0m in \u001b[0;36mapply_async\u001b[0;34m(self, func, callback)\u001b[0m\n\u001b[1;32m    206\u001b[0m     \u001b[0;32mdef\u001b[0m \u001b[0mapply_async\u001b[0m\u001b[0;34m(\u001b[0m\u001b[0mself\u001b[0m\u001b[0;34m,\u001b[0m \u001b[0mfunc\u001b[0m\u001b[0;34m,\u001b[0m \u001b[0mcallback\u001b[0m\u001b[0;34m=\u001b[0m\u001b[0;32mNone\u001b[0m\u001b[0;34m)\u001b[0m\u001b[0;34m:\u001b[0m\u001b[0;34m\u001b[0m\u001b[0;34m\u001b[0m\u001b[0m\n\u001b[1;32m    207\u001b[0m         \u001b[0;34m\"\"\"Schedule a func to be run\"\"\"\u001b[0m\u001b[0;34m\u001b[0m\u001b[0;34m\u001b[0m\u001b[0m\n\u001b[0;32m--> 208\u001b[0;31m         \u001b[0mresult\u001b[0m \u001b[0;34m=\u001b[0m \u001b[0mImmediateResult\u001b[0m\u001b[0;34m(\u001b[0m\u001b[0mfunc\u001b[0m\u001b[0;34m)\u001b[0m\u001b[0;34m\u001b[0m\u001b[0;34m\u001b[0m\u001b[0m\n\u001b[0m\u001b[1;32m    209\u001b[0m         \u001b[0;32mif\u001b[0m \u001b[0mcallback\u001b[0m\u001b[0;34m:\u001b[0m\u001b[0;34m\u001b[0m\u001b[0;34m\u001b[0m\u001b[0m\n\u001b[1;32m    210\u001b[0m             \u001b[0mcallback\u001b[0m\u001b[0;34m(\u001b[0m\u001b[0mresult\u001b[0m\u001b[0;34m)\u001b[0m\u001b[0;34m\u001b[0m\u001b[0;34m\u001b[0m\u001b[0m\n",
      "\u001b[0;32m/home/default/lib/python3.9/site-packages/joblib/_parallel_backends.py\u001b[0m in \u001b[0;36m__init__\u001b[0;34m(self, batch)\u001b[0m\n\u001b[1;32m    570\u001b[0m         \u001b[0;31m# Don't delay the application, to avoid keeping the input\u001b[0m\u001b[0;34m\u001b[0m\u001b[0;34m\u001b[0m\u001b[0;34m\u001b[0m\u001b[0m\n\u001b[1;32m    571\u001b[0m         \u001b[0;31m# arguments in memory\u001b[0m\u001b[0;34m\u001b[0m\u001b[0;34m\u001b[0m\u001b[0;34m\u001b[0m\u001b[0m\n\u001b[0;32m--> 572\u001b[0;31m         \u001b[0mself\u001b[0m\u001b[0;34m.\u001b[0m\u001b[0mresults\u001b[0m \u001b[0;34m=\u001b[0m \u001b[0mbatch\u001b[0m\u001b[0;34m(\u001b[0m\u001b[0;34m)\u001b[0m\u001b[0;34m\u001b[0m\u001b[0;34m\u001b[0m\u001b[0m\n\u001b[0m\u001b[1;32m    573\u001b[0m \u001b[0;34m\u001b[0m\u001b[0m\n\u001b[1;32m    574\u001b[0m     \u001b[0;32mdef\u001b[0m \u001b[0mget\u001b[0m\u001b[0;34m(\u001b[0m\u001b[0mself\u001b[0m\u001b[0;34m)\u001b[0m\u001b[0;34m:\u001b[0m\u001b[0;34m\u001b[0m\u001b[0;34m\u001b[0m\u001b[0m\n",
      "\u001b[0;32m/home/default/lib/python3.9/site-packages/joblib/parallel.py\u001b[0m in \u001b[0;36m__call__\u001b[0;34m(self)\u001b[0m\n\u001b[1;32m    260\u001b[0m         \u001b[0;31m# change the default number of processes to -1\u001b[0m\u001b[0;34m\u001b[0m\u001b[0;34m\u001b[0m\u001b[0;34m\u001b[0m\u001b[0m\n\u001b[1;32m    261\u001b[0m         \u001b[0;32mwith\u001b[0m \u001b[0mparallel_backend\u001b[0m\u001b[0;34m(\u001b[0m\u001b[0mself\u001b[0m\u001b[0;34m.\u001b[0m\u001b[0m_backend\u001b[0m\u001b[0;34m,\u001b[0m \u001b[0mn_jobs\u001b[0m\u001b[0;34m=\u001b[0m\u001b[0mself\u001b[0m\u001b[0;34m.\u001b[0m\u001b[0m_n_jobs\u001b[0m\u001b[0;34m)\u001b[0m\u001b[0;34m:\u001b[0m\u001b[0;34m\u001b[0m\u001b[0;34m\u001b[0m\u001b[0m\n\u001b[0;32m--> 262\u001b[0;31m             return [func(*args, **kwargs)\n\u001b[0m\u001b[1;32m    263\u001b[0m                     for func, args, kwargs in self.items]\n\u001b[1;32m    264\u001b[0m \u001b[0;34m\u001b[0m\u001b[0m\n",
      "\u001b[0;32m/home/default/lib/python3.9/site-packages/joblib/parallel.py\u001b[0m in \u001b[0;36m<listcomp>\u001b[0;34m(.0)\u001b[0m\n\u001b[1;32m    260\u001b[0m         \u001b[0;31m# change the default number of processes to -1\u001b[0m\u001b[0;34m\u001b[0m\u001b[0;34m\u001b[0m\u001b[0;34m\u001b[0m\u001b[0m\n\u001b[1;32m    261\u001b[0m         \u001b[0;32mwith\u001b[0m \u001b[0mparallel_backend\u001b[0m\u001b[0;34m(\u001b[0m\u001b[0mself\u001b[0m\u001b[0;34m.\u001b[0m\u001b[0m_backend\u001b[0m\u001b[0;34m,\u001b[0m \u001b[0mn_jobs\u001b[0m\u001b[0;34m=\u001b[0m\u001b[0mself\u001b[0m\u001b[0;34m.\u001b[0m\u001b[0m_n_jobs\u001b[0m\u001b[0;34m)\u001b[0m\u001b[0;34m:\u001b[0m\u001b[0;34m\u001b[0m\u001b[0;34m\u001b[0m\u001b[0m\n\u001b[0;32m--> 262\u001b[0;31m             return [func(*args, **kwargs)\n\u001b[0m\u001b[1;32m    263\u001b[0m                     for func, args, kwargs in self.items]\n\u001b[1;32m    264\u001b[0m \u001b[0;34m\u001b[0m\u001b[0m\n",
      "\u001b[0;32m/home/default/lib/python3.9/site-packages/sklearn/utils/fixes.py\u001b[0m in \u001b[0;36m__call__\u001b[0;34m(self, *args, **kwargs)\u001b[0m\n\u001b[1;32m    220\u001b[0m     \u001b[0;32mdef\u001b[0m \u001b[0m__call__\u001b[0m\u001b[0;34m(\u001b[0m\u001b[0mself\u001b[0m\u001b[0;34m,\u001b[0m \u001b[0;34m*\u001b[0m\u001b[0margs\u001b[0m\u001b[0;34m,\u001b[0m \u001b[0;34m**\u001b[0m\u001b[0mkwargs\u001b[0m\u001b[0;34m)\u001b[0m\u001b[0;34m:\u001b[0m\u001b[0;34m\u001b[0m\u001b[0;34m\u001b[0m\u001b[0m\n\u001b[1;32m    221\u001b[0m         \u001b[0;32mwith\u001b[0m \u001b[0mconfig_context\u001b[0m\u001b[0;34m(\u001b[0m\u001b[0;34m**\u001b[0m\u001b[0mself\u001b[0m\u001b[0;34m.\u001b[0m\u001b[0mconfig\u001b[0m\u001b[0;34m)\u001b[0m\u001b[0;34m:\u001b[0m\u001b[0;34m\u001b[0m\u001b[0;34m\u001b[0m\u001b[0m\n\u001b[0;32m--> 222\u001b[0;31m             \u001b[0;32mreturn\u001b[0m \u001b[0mself\u001b[0m\u001b[0;34m.\u001b[0m\u001b[0mfunction\u001b[0m\u001b[0;34m(\u001b[0m\u001b[0;34m*\u001b[0m\u001b[0margs\u001b[0m\u001b[0;34m,\u001b[0m \u001b[0;34m**\u001b[0m\u001b[0mkwargs\u001b[0m\u001b[0;34m)\u001b[0m\u001b[0;34m\u001b[0m\u001b[0;34m\u001b[0m\u001b[0m\n\u001b[0m",
      "\u001b[0;32m/home/default/lib/python3.9/site-packages/sklearn/ensemble/_forest.py\u001b[0m in \u001b[0;36m_parallel_build_trees\u001b[0;34m(tree, forest, X, y, sample_weight, tree_idx, n_trees, verbose, class_weight, n_samples_bootstrap)\u001b[0m\n\u001b[1;32m    167\u001b[0m                                                         indices=indices)\n\u001b[1;32m    168\u001b[0m \u001b[0;34m\u001b[0m\u001b[0m\n\u001b[0;32m--> 169\u001b[0;31m         \u001b[0mtree\u001b[0m\u001b[0;34m.\u001b[0m\u001b[0mfit\u001b[0m\u001b[0;34m(\u001b[0m\u001b[0mX\u001b[0m\u001b[0;34m,\u001b[0m \u001b[0my\u001b[0m\u001b[0;34m,\u001b[0m \u001b[0msample_weight\u001b[0m\u001b[0;34m=\u001b[0m\u001b[0mcurr_sample_weight\u001b[0m\u001b[0;34m,\u001b[0m \u001b[0mcheck_input\u001b[0m\u001b[0;34m=\u001b[0m\u001b[0;32mFalse\u001b[0m\u001b[0;34m)\u001b[0m\u001b[0;34m\u001b[0m\u001b[0;34m\u001b[0m\u001b[0m\n\u001b[0m\u001b[1;32m    170\u001b[0m     \u001b[0;32melse\u001b[0m\u001b[0;34m:\u001b[0m\u001b[0;34m\u001b[0m\u001b[0;34m\u001b[0m\u001b[0m\n\u001b[1;32m    171\u001b[0m         \u001b[0mtree\u001b[0m\u001b[0;34m.\u001b[0m\u001b[0mfit\u001b[0m\u001b[0;34m(\u001b[0m\u001b[0mX\u001b[0m\u001b[0;34m,\u001b[0m \u001b[0my\u001b[0m\u001b[0;34m,\u001b[0m \u001b[0msample_weight\u001b[0m\u001b[0;34m=\u001b[0m\u001b[0msample_weight\u001b[0m\u001b[0;34m,\u001b[0m \u001b[0mcheck_input\u001b[0m\u001b[0;34m=\u001b[0m\u001b[0;32mFalse\u001b[0m\u001b[0;34m)\u001b[0m\u001b[0;34m\u001b[0m\u001b[0;34m\u001b[0m\u001b[0m\n",
      "\u001b[0;32m/home/default/lib/python3.9/site-packages/sklearn/tree/_classes.py\u001b[0m in \u001b[0;36mfit\u001b[0;34m(self, X, y, sample_weight, check_input, X_idx_sorted)\u001b[0m\n\u001b[1;32m    901\u001b[0m         \"\"\"\n\u001b[1;32m    902\u001b[0m \u001b[0;34m\u001b[0m\u001b[0m\n\u001b[0;32m--> 903\u001b[0;31m         super().fit(\n\u001b[0m\u001b[1;32m    904\u001b[0m             \u001b[0mX\u001b[0m\u001b[0;34m,\u001b[0m \u001b[0my\u001b[0m\u001b[0;34m,\u001b[0m\u001b[0;34m\u001b[0m\u001b[0;34m\u001b[0m\u001b[0m\n\u001b[1;32m    905\u001b[0m             \u001b[0msample_weight\u001b[0m\u001b[0;34m=\u001b[0m\u001b[0msample_weight\u001b[0m\u001b[0;34m,\u001b[0m\u001b[0;34m\u001b[0m\u001b[0;34m\u001b[0m\u001b[0m\n",
      "\u001b[0;32m/home/default/lib/python3.9/site-packages/sklearn/tree/_classes.py\u001b[0m in \u001b[0;36mfit\u001b[0;34m(self, X, y, sample_weight, check_input, X_idx_sorted)\u001b[0m\n\u001b[1;32m    392\u001b[0m                                            min_impurity_split)\n\u001b[1;32m    393\u001b[0m \u001b[0;34m\u001b[0m\u001b[0m\n\u001b[0;32m--> 394\u001b[0;31m         \u001b[0mbuilder\u001b[0m\u001b[0;34m.\u001b[0m\u001b[0mbuild\u001b[0m\u001b[0;34m(\u001b[0m\u001b[0mself\u001b[0m\u001b[0;34m.\u001b[0m\u001b[0mtree_\u001b[0m\u001b[0;34m,\u001b[0m \u001b[0mX\u001b[0m\u001b[0;34m,\u001b[0m \u001b[0my\u001b[0m\u001b[0;34m,\u001b[0m \u001b[0msample_weight\u001b[0m\u001b[0;34m)\u001b[0m\u001b[0;34m\u001b[0m\u001b[0;34m\u001b[0m\u001b[0m\n\u001b[0m\u001b[1;32m    395\u001b[0m \u001b[0;34m\u001b[0m\u001b[0m\n\u001b[1;32m    396\u001b[0m         \u001b[0;32mif\u001b[0m \u001b[0mself\u001b[0m\u001b[0;34m.\u001b[0m\u001b[0mn_outputs_\u001b[0m \u001b[0;34m==\u001b[0m \u001b[0;36m1\u001b[0m \u001b[0;32mand\u001b[0m \u001b[0mis_classifier\u001b[0m\u001b[0;34m(\u001b[0m\u001b[0mself\u001b[0m\u001b[0;34m)\u001b[0m\u001b[0;34m:\u001b[0m\u001b[0;34m\u001b[0m\u001b[0;34m\u001b[0m\u001b[0m\n",
      "\u001b[0;31mKeyboardInterrupt\u001b[0m: "
     ]
    }
   ],
   "source": [
    "from sklearn.ensemble import RandomForestClassifier\n",
    "from xgboost import XGBClassifier\n",
    "from sklearn.linear_model import LogisticRegression\n",
    "from sklearn.pipeline import Pipeline\n",
    "\n",
    "algorithms = {\"RF\":RandomForestClassifier(),\n",
    "             \"XGB\":XGBClassifier()}\n",
    "METHOD=\"RF\"\n",
    "pipeline = Pipeline([(\"fasttext\",transformer),\n",
    "                     (f\"{METHOD}\", algorithms[METHOD])])\n",
    "\n",
    "from sklearn.preprocessing import LabelEncoder\n",
    "\n",
    "X = train_sample[\"NAME_BRIEF\"]\n",
    "y_raw = train_sample.CATEGORY_ID\n",
    "\n",
    "label_encoder = LabelEncoder()\n",
    "y = label_encoder.fit_transform(y_raw)\n",
    "\n",
    "pipeline.fit(X,y)\n"
   ]
  },
  {
   "cell_type": "markdown",
   "metadata": {},
   "source": [
    "# Ensemble trees"
   ]
  },
  {
   "cell_type": "code",
   "execution_count": 120,
   "metadata": {},
   "outputs": [],
   "source": [
    "predictions = []\n",
    "for i in range(1,4):\n",
    "    model = joblib.load(f\"RF_{i}.pkl\")\n",
    "    pipeline = Pipeline([(\"fasttext\",transformer),\n",
    "                     (\"RF\",model)])\n",
    "    \n",
    "    predictions.append(pipeline.predict_proba(test[\"NAME_BRIEF\"]))"
   ]
  },
  {
   "cell_type": "code",
   "execution_count": 166,
   "metadata": {},
   "outputs": [],
   "source": [
    "preds = []\n",
    "for i in range(len(predictions[0])):\n",
    "    preds.append(np.max([predictions[0][i],predictions[1][i],predictions[2][i]],axis=0))"
   ]
  },
  {
   "cell_type": "code",
   "execution_count": 167,
   "metadata": {},
   "outputs": [],
   "source": [
    "test = pd.read_csv(\"out/tables/CATEGORIZER_TEST_L2_LX.csv\")"
   ]
  },
  {
   "cell_type": "code",
   "execution_count": 168,
   "metadata": {},
   "outputs": [],
   "source": [
    "y_pred = np.argmax(preds,axis=1)"
   ]
  },
  {
   "cell_type": "code",
   "execution_count": 169,
   "metadata": {},
   "outputs": [
    {
     "name": "stderr",
     "output_type": "stream",
     "text": [
      "/home/default/lib/python3.9/site-packages/sklearn/metrics/_classification.py:1248: UndefinedMetricWarning: Precision and F-score are ill-defined and being set to 0.0 in labels with no predicted samples. Use `zero_division` parameter to control this behavior.\n",
      "  _warn_prf(average, modifier, msg_start, len(result))\n"
     ]
    }
   ],
   "source": [
    "decoded_prediction = decode_predictions(y_pred)\n",
    "    \n",
    "score = precision_recall_fscore_support(test.CATEGORY_ID, decoded_prediction[0], average=\"weighted\")"
   ]
  },
  {
   "cell_type": "code",
   "execution_count": 170,
   "metadata": {},
   "outputs": [
    {
     "data": {
      "text/plain": [
       "(0.8524559419305164, 0.797551867219917, 0.7846755557187061, None)"
      ]
     },
     "execution_count": 170,
     "metadata": {},
     "output_type": "execute_result"
    }
   ],
   "source": [
    "score"
   ]
  },
  {
   "cell_type": "code",
   "execution_count": 16,
   "metadata": {},
   "outputs": [],
   "source": [
    "def decode_predictions(predictions, \n",
    "                       category_dict=category_dict, \n",
    "                       label_encoder=label_encoder):\n",
    "    category_id = label_encoder.inverse_transform(predictions)\n",
    "    categories = [category_dict[i] for i in category_id]\n",
    "    category_name = [i[0] for i in categories]\n",
    "    other_names = [None if len(i) == 1\n",
    "                           else i[1:] for i in categories]\n",
    "    \n",
    "    return category_id, category_name, other_names\n",
    "\n",
    "from sklearn.metrics import precision_recall_fscore_support\n",
    "def evaluate_results(pipeline, test, category_column, text_column):\n",
    "    df = test.copy()\n",
    "    y_true = df[category_column]\n",
    "    y_pred = pipeline.predict(df[text_column])\n",
    "    \n",
    "    \n",
    "    decoded_prediction = decode_predictions(y_pred)\n",
    "    \n",
    "    score = precision_recall_fscore_support(y_true, decoded_prediction[0], average=\"weighted\")\n",
    "    df_new = pd.concat([df,pd.DataFrame(decoded_prediction,\n",
    "                                        index=[\"PRED_CATEGORY_ID\",\"PREDICTIONS\",\"ALTERNATIVE_NAMES\"],\n",
    "                                        columns=df.index).T], \n",
    "                       axis=1)\n",
    "    df_new[\"SAME\"] = df_new.eval(\"PRED_CATEGORY_ID == CATEGORY_ID\")\n",
    "    return score[:3], df_new[[\"MATERIAL_ID\",\"SHOP\",\"CATEGORY_ID\",\n",
    "                          \"PRED_CATEGORY_ID\",\"CATEGORY_PATH\",\n",
    "                          \"PREDICTIONS\",\"ALTERNATIVE_NAMES\",\"SAME\"]]"
   ]
  },
  {
   "cell_type": "code",
   "execution_count": 54,
   "metadata": {},
   "outputs": [
    {
     "name": "stderr",
     "output_type": "stream",
     "text": [
      "/home/default/lib/python3.9/site-packages/sklearn/metrics/_classification.py:1248: UndefinedMetricWarning: Precision and F-score are ill-defined and being set to 0.0 in labels with no predicted samples. Use `zero_division` parameter to control this behavior.\n",
      "  _warn_prf(average, modifier, msg_start, len(result))\n"
     ]
    }
   ],
   "source": [
    "scores, pred_df = evaluate_results(pipeline,\n",
    "                                   test,\n",
    "                                   \"CATEGORY_ID\",\n",
    "                                   \"NAME_BRIEF\")"
   ]
  },
  {
   "cell_type": "code",
   "execution_count": null,
   "metadata": {},
   "outputs": [],
   "source": [
    "pred_df[\"MODEL\"] = METHOD + MODALITY + PRE\n",
    "pred_df.to_csv(\"out/tables/PREDICTIONS.csv\",index=False)\n",
    "\n",
    "results = [METHOD] + [MODALITY+PRE] + [i for i in scores]\n",
    "results_df = pd.DataFrame(results,index=[\"ALGORITHM\",\"MODALITIES\",\"P\",\"R\",\"F1\"]).T\n",
    "results_df[\"MODEL\"] = METHOD + MODALITY + PRE\n",
    "results_df.to_csv(\"out/tables/RESULTS.csv\",index=False)\n",
    "\n",
    "import joblib\n",
    "joblib.dump(pipeline, 'out/files/ROMAN_DP_MODEL.pkl')\n"
   ]
  },
  {
   "cell_type": "markdown",
   "metadata": {},
   "source": [
    "# trénink"
   ]
  },
  {
   "cell_type": "code",
   "execution_count": 13,
   "metadata": {},
   "outputs": [],
   "source": [
    "def generate_column_from_sources(df, column, split=False,position=None):\n",
    "    df = df[df[column].notna()].copy()\n",
    "    if split:\n",
    "        assert position != None\n",
    "        df[\"train_column\"] = df[column].apply(lambda x: x.split(\" ; \")[position])\n",
    "    else:\n",
    "        df[\"train_column\"] = df[column]\n",
    "    features = encode_dataframe(df[\"train_column\"])\n",
    "    df[\"feature_vector\"] = [i for i in features]\n",
    "    return df"
   ]
  },
  {
   "cell_type": "code",
   "execution_count": 14,
   "metadata": {},
   "outputs": [],
   "source": [
    "df_train = generate_column_from_sources(df,\"NAME_BRIEF_DESCRIPTION\")"
   ]
  },
  {
   "cell_type": "code",
   "execution_count": null,
   "metadata": {},
   "outputs": [],
   "source": [
    "np.load(\"label_error.npy\") = np.load(\"label_error.npy\")"
   ]
  },
  {
   "cell_type": "code",
   "execution_count": null,
   "metadata": {},
   "outputs": [],
   "source": [
    "# filter label errors\n",
    "df_train = df_train[~df_train.MATERIAL_ID.isin(df_train.iloc[label_error_indices_prob].MATERIAL_ID.values)]"
   ]
  },
  {
   "cell_type": "code",
   "execution_count": 43,
   "metadata": {},
   "outputs": [
    {
     "name": "stdout",
     "output_type": "stream",
     "text": [
      "Appending 8814 of new samples\n"
     ]
    }
   ],
   "source": [
    "train, test = create_datasets(df_train)\n",
    "train = over_sample(train)"
   ]
  },
  {
   "cell_type": "code",
   "execution_count": 44,
   "metadata": {},
   "outputs": [],
   "source": [
    "# df_train.to_csv(\"df_no_error.csv\",index=False)"
   ]
  },
  {
   "cell_type": "code",
   "execution_count": 68,
   "metadata": {},
   "outputs": [],
   "source": [
    "# concatenating text sources vectors\n",
    "train_vector = np.concatenate([train_name,train_desc,train_brief],axis=1)\n",
    "test_vector = np.concatenate([test_name,test_desc,test_brief],axis=1)"
   ]
  },
  {
   "cell_type": "code",
   "execution_count": 20,
   "metadata": {},
   "outputs": [],
   "source": [
    "def preprocess_embds(train,test,column, dimension):\n",
    "    \"embeddings needs to be proccessed\"\n",
    "    train_vector = np.concatenate(train[column].values, dtype=np.float32).reshape(-1,dimension)\n",
    "    test_vector = np.concatenate(test[column].values, dtype=np.float32).reshape(-1,dimension)\n",
    "    return train_vector, test_vector"
   ]
  },
  {
   "cell_type": "code",
   "execution_count": 49,
   "metadata": {},
   "outputs": [],
   "source": [
    "train_vector, test_vector = preprocess_embds(train,test,\n",
    "                                             column=\"SUM_4_y\",dimension=768)"
   ]
  },
  {
   "cell_type": "code",
   "execution_count": 45,
   "metadata": {},
   "outputs": [],
   "source": [
    "from sklearn.preprocessing import LabelEncoder\n",
    "X = np.concatenate(train.feature_vector.values).reshape(-1,300)\n",
    "y_raw = train.CATEGORY_ID\n",
    "\n",
    "label_encoder = LabelEncoder()\n",
    "y = label_encoder.fit_transform(y_raw)\n",
    "\n",
    "X_test = np.concatenate(test.feature_vector.values).reshape(-1,300)\n",
    "y_raw_test = test.CATEGORY_ID\n",
    "y_test = label_encoder.transform(y_raw_test)"
   ]
  },
  {
   "cell_type": "code",
   "execution_count": 44,
   "metadata": {
    "collapsed": true,
    "jupyter": {
     "outputs_hidden": true
    },
    "tags": []
   },
   "outputs": [
    {
     "name": "stdout",
     "output_type": "stream",
     "text": [
      "Collecting tensorflow-cpu\n",
      "  Downloading tensorflow_cpu-2.7.0-cp39-cp39-manylinux2010_x86_64.whl (179.9 MB)\n",
      "     |████████████████████████████████| 179.9 MB 5.8 kB/s              \n",
      "\u001b[?25hCollecting keras-preprocessing>=1.1.1\n",
      "  Downloading Keras_Preprocessing-1.1.2-py2.py3-none-any.whl (42 kB)\n",
      "     |████████████████████████████████| 42 kB 3.2 MB/s              \n",
      "\u001b[?25hCollecting opt-einsum>=2.3.2\n",
      "  Downloading opt_einsum-3.3.0-py3-none-any.whl (65 kB)\n",
      "     |████████████████████████████████| 65 kB 11.3 MB/s             \n",
      "\u001b[?25hRequirement already satisfied: h5py>=2.9.0 in /home/default/lib/python3.9/site-packages (from tensorflow-cpu) (3.6.0)\n",
      "Collecting tensorflow-io-gcs-filesystem>=0.21.0\n",
      "  Downloading tensorflow_io_gcs_filesystem-0.23.1-cp39-cp39-manylinux_2_12_x86_64.manylinux2010_x86_64.whl (2.1 MB)\n",
      "     |████████████████████████████████| 2.1 MB 110.0 MB/s            \n",
      "\u001b[?25hRequirement already satisfied: numpy>=1.14.5 in /home/default/lib/python3.9/site-packages (from tensorflow-cpu) (1.22.0)\n",
      "Collecting gast<0.5.0,>=0.2.1\n",
      "  Downloading gast-0.4.0-py3-none-any.whl (9.8 kB)\n",
      "Collecting grpcio<2.0,>=1.24.3\n",
      "  Downloading grpcio-1.43.0-cp39-cp39-manylinux_2_17_x86_64.manylinux2014_x86_64.whl (4.1 MB)\n",
      "     |████████████████████████████████| 4.1 MB 105.5 MB/s            \n",
      "\u001b[?25hRequirement already satisfied: wrapt>=1.11.0 in /home/default/lib/python3.9/site-packages (from tensorflow-cpu) (1.13.3)\n",
      "Collecting tensorboard~=2.6\n",
      "  Downloading tensorboard-2.7.0-py3-none-any.whl (5.8 MB)\n",
      "     |████████████████████████████████| 5.8 MB 116.4 MB/s            \n",
      "\u001b[?25hRequirement already satisfied: six>=1.12.0 in /home/default/lib/python3.9/site-packages (from tensorflow-cpu) (1.16.0)\n",
      "Collecting google-pasta>=0.1.1\n",
      "  Downloading google_pasta-0.2.0-py3-none-any.whl (57 kB)\n",
      "     |████████████████████████████████| 57 kB 14.7 MB/s             \n",
      "\u001b[?25hCollecting wheel<1.0,>=0.32.0\n",
      "  Downloading wheel-0.37.1-py2.py3-none-any.whl (35 kB)\n",
      "Collecting flatbuffers<3.0,>=1.12\n",
      "  Downloading flatbuffers-2.0-py2.py3-none-any.whl (26 kB)\n",
      "Requirement already satisfied: typing-extensions>=3.6.6 in /home/default/lib/python3.9/site-packages (from tensorflow-cpu) (4.0.1)\n",
      "Collecting absl-py>=0.4.0\n",
      "  Downloading absl_py-1.0.0-py3-none-any.whl (126 kB)\n",
      "     |████████████████████████████████| 126 kB 135.5 MB/s            \n",
      "\u001b[?25hCollecting keras<2.8,>=2.7.0rc0\n",
      "  Downloading keras-2.7.0-py2.py3-none-any.whl (1.3 MB)\n",
      "     |████████████████████████████████| 1.3 MB 114.9 MB/s            \n",
      "\u001b[?25hRequirement already satisfied: protobuf>=3.9.2 in /home/default/lib/python3.9/site-packages (from tensorflow-cpu) (3.19.1)\n",
      "Collecting astunparse>=1.6.0\n",
      "  Downloading astunparse-1.6.3-py2.py3-none-any.whl (12 kB)\n",
      "Collecting termcolor>=1.1.0\n",
      "  Downloading termcolor-1.1.0.tar.gz (3.9 kB)\n",
      "  Preparing metadata (setup.py) ... \u001b[?25ldone\n",
      "\u001b[?25hCollecting tensorflow-estimator<2.8,~=2.7.0rc0\n",
      "  Downloading tensorflow_estimator-2.7.0-py2.py3-none-any.whl (463 kB)\n",
      "     |████████████████████████████████| 463 kB 100.4 MB/s            \n",
      "\u001b[?25hCollecting libclang>=9.0.1\n",
      "  Downloading libclang-12.0.0-2-py2.py3-none-manylinux1_x86_64.whl (13.3 MB)\n",
      "     |████████████████████████████████| 13.3 MB 95.8 MB/s            \n",
      "\u001b[?25hCollecting tensorboard-data-server<0.7.0,>=0.6.0\n",
      "  Downloading tensorboard_data_server-0.6.1-py3-none-manylinux2010_x86_64.whl (4.9 MB)\n",
      "     |████████████████████████████████| 4.9 MB 87.6 MB/s            \n",
      "\u001b[?25hCollecting google-auth-oauthlib<0.5,>=0.4.1\n",
      "  Downloading google_auth_oauthlib-0.4.6-py2.py3-none-any.whl (18 kB)\n",
      "Requirement already satisfied: requests<3,>=2.21.0 in /home/default/lib/python3.9/site-packages (from tensorboard~=2.6->tensorflow-cpu) (2.26.0)\n",
      "Collecting markdown>=2.6.8\n",
      "  Downloading Markdown-3.3.6-py3-none-any.whl (97 kB)\n",
      "     |████████████████████████████████| 97 kB 18.2 MB/s             \n",
      "\u001b[?25hCollecting google-auth<3,>=1.6.3\n",
      "  Downloading google_auth-2.3.3-py2.py3-none-any.whl (155 kB)\n",
      "     |████████████████████████████████| 155 kB 132.5 MB/s            \n",
      "\u001b[?25hCollecting tensorboard-plugin-wit>=1.6.0\n",
      "  Downloading tensorboard_plugin_wit-1.8.1-py3-none-any.whl (781 kB)\n",
      "     |████████████████████████████████| 781 kB 100.2 MB/s            \n",
      "\u001b[?25hRequirement already satisfied: setuptools>=41.0.0 in /home/default/lib/python3.9/site-packages (from tensorboard~=2.6->tensorflow-cpu) (60.3.1)\n",
      "Requirement already satisfied: werkzeug>=0.11.15 in /home/default/lib/python3.9/site-packages (from tensorboard~=2.6->tensorflow-cpu) (2.0.2)\n",
      "Collecting rsa<5,>=3.1.4\n",
      "  Downloading rsa-4.8-py3-none-any.whl (39 kB)\n",
      "Collecting pyasn1-modules>=0.2.1\n",
      "  Downloading pyasn1_modules-0.2.8-py2.py3-none-any.whl (155 kB)\n",
      "     |████████████████████████████████| 155 kB 124.8 MB/s            \n",
      "\u001b[?25hCollecting cachetools<5.0,>=2.0.0\n",
      "  Downloading cachetools-4.2.4-py3-none-any.whl (10 kB)\n",
      "Requirement already satisfied: requests-oauthlib>=0.7.0 in /home/default/lib/python3.9/site-packages (from google-auth-oauthlib<0.5,>=0.4.1->tensorboard~=2.6->tensorflow-cpu) (1.3.0)\n",
      "Requirement already satisfied: importlib-metadata>=4.4 in /home/default/lib/python3.9/site-packages (from markdown>=2.6.8->tensorboard~=2.6->tensorflow-cpu) (4.8.2)\n",
      "Requirement already satisfied: urllib3<1.27,>=1.21.1 in /home/default/lib/python3.9/site-packages (from requests<3,>=2.21.0->tensorboard~=2.6->tensorflow-cpu) (1.26.7)\n",
      "Requirement already satisfied: idna<4,>=2.5 in /home/default/lib/python3.9/site-packages (from requests<3,>=2.21.0->tensorboard~=2.6->tensorflow-cpu) (3.3)\n",
      "Requirement already satisfied: charset-normalizer~=2.0.0 in /home/default/lib/python3.9/site-packages (from requests<3,>=2.21.0->tensorboard~=2.6->tensorflow-cpu) (2.0.9)\n",
      "Requirement already satisfied: certifi>=2017.4.17 in /home/default/lib/python3.9/site-packages (from requests<3,>=2.21.0->tensorboard~=2.6->tensorflow-cpu) (2021.10.8)\n",
      "Requirement already satisfied: zipp>=0.5 in /home/default/lib/python3.9/site-packages (from importlib-metadata>=4.4->markdown>=2.6.8->tensorboard~=2.6->tensorflow-cpu) (3.6.0)\n",
      "Collecting pyasn1<0.5.0,>=0.4.6\n",
      "  Downloading pyasn1-0.4.8-py2.py3-none-any.whl (77 kB)\n",
      "     |████████████████████████████████| 77 kB 15.2 MB/s             \n",
      "\u001b[?25hRequirement already satisfied: oauthlib>=3.0.0 in /home/default/lib/python3.9/site-packages (from requests-oauthlib>=0.7.0->google-auth-oauthlib<0.5,>=0.4.1->tensorboard~=2.6->tensorflow-cpu) (3.1.1)\n",
      "Using legacy 'setup.py install' for termcolor, since package 'wheel' is not installed.\n",
      "Installing collected packages: pyasn1, rsa, pyasn1-modules, cachetools, google-auth, wheel, tensorboard-plugin-wit, tensorboard-data-server, markdown, grpcio, google-auth-oauthlib, absl-py, termcolor, tensorflow-io-gcs-filesystem, tensorflow-estimator, tensorboard, opt-einsum, libclang, keras-preprocessing, keras, google-pasta, gast, flatbuffers, astunparse, tensorflow-cpu\n",
      "    Running setup.py install for termcolor ... \u001b[?25ldone\n",
      "\u001b[?25hSuccessfully installed absl-py-1.0.0 astunparse-1.6.3 cachetools-4.2.4 flatbuffers-2.0 gast-0.4.0 google-auth-2.3.3 google-auth-oauthlib-0.4.6 google-pasta-0.2.0 grpcio-1.43.0 keras-2.7.0 keras-preprocessing-1.1.2 libclang-12.0.0 markdown-3.3.6 opt-einsum-3.3.0 pyasn1-0.4.8 pyasn1-modules-0.2.8 rsa-4.8 tensorboard-2.7.0 tensorboard-data-server-0.6.1 tensorboard-plugin-wit-1.8.1 tensorflow-cpu-2.7.0 tensorflow-estimator-2.7.0 tensorflow-io-gcs-filesystem-0.23.1 termcolor-1.1.0 wheel-0.37.1\n",
      "Note: you may need to restart the kernel to use updated packages.\n"
     ]
    }
   ],
   "source": [
    "pip install tensorflow-cpu"
   ]
  },
  {
   "cell_type": "code",
   "execution_count": 17,
   "metadata": {},
   "outputs": [],
   "source": [
    "from tensorflow.keras.models import Sequential, Model\n",
    "from tensorflow.keras.layers import Dense, Activation, Dropout, Concatenate, Flatten, Input\n",
    "from keras.callbacks import EarlyStopping, ModelCheckpoint\n",
    "from sklearn.metrics import precision_recall_fscore_support\n",
    "import tensorflow as tf"
   ]
  },
  {
   "cell_type": "code",
   "execution_count": 47,
   "metadata": {
    "tags": []
   },
   "outputs": [
    {
     "name": "stdout",
     "output_type": "stream",
     "text": [
      "fasttext_NB_1_512\n",
      "Epoch 1/20\n",
      "880/880 [==============================] - 10s 12ms/step - loss: 2.5728 - accuracy: 0.4967 - val_loss: 1.3536 - val_accuracy: 0.6823\n",
      "Epoch 2/20\n",
      "880/880 [==============================] - 10s 11ms/step - loss: 1.1739 - accuracy: 0.7108 - val_loss: 0.9192 - val_accuracy: 0.7753\n",
      "Epoch 3/20\n",
      "880/880 [==============================] - 10s 11ms/step - loss: 0.8624 - accuracy: 0.7834 - val_loss: 0.7554 - val_accuracy: 0.8138\n",
      "Epoch 4/20\n",
      "880/880 [==============================] - 10s 12ms/step - loss: 0.7167 - accuracy: 0.8181 - val_loss: 0.6659 - val_accuracy: 0.8327\n",
      "Epoch 5/20\n",
      "880/880 [==============================] - 10s 12ms/step - loss: 0.6262 - accuracy: 0.8399 - val_loss: 0.6017 - val_accuracy: 0.8468\n",
      "Epoch 6/20\n",
      "880/880 [==============================] - 10s 12ms/step - loss: 0.5602 - accuracy: 0.8566 - val_loss: 0.5628 - val_accuracy: 0.8532\n",
      "Epoch 7/20\n",
      "880/880 [==============================] - 10s 11ms/step - loss: 0.5100 - accuracy: 0.8678 - val_loss: 0.5176 - val_accuracy: 0.8678\n",
      "Epoch 8/20\n",
      "880/880 [==============================] - 10s 11ms/step - loss: 0.4684 - accuracy: 0.8786 - val_loss: 0.4923 - val_accuracy: 0.8750\n",
      "Epoch 9/20\n",
      "880/880 [==============================] - 10s 12ms/step - loss: 0.4331 - accuracy: 0.8879 - val_loss: 0.4641 - val_accuracy: 0.8828\n",
      "Epoch 10/20\n",
      "880/880 [==============================] - 10s 11ms/step - loss: 0.4034 - accuracy: 0.8953 - val_loss: 0.4457 - val_accuracy: 0.8875\n",
      "Epoch 11/20\n",
      "880/880 [==============================] - 10s 11ms/step - loss: 0.3771 - accuracy: 0.9020 - val_loss: 0.4263 - val_accuracy: 0.8900\n",
      "Epoch 12/20\n",
      "880/880 [==============================] - 10s 11ms/step - loss: 0.3541 - accuracy: 0.9075 - val_loss: 0.4124 - val_accuracy: 0.8960\n",
      "Epoch 13/20\n",
      "880/880 [==============================] - 10s 11ms/step - loss: 0.3330 - accuracy: 0.9130 - val_loss: 0.4013 - val_accuracy: 0.8968\n",
      "Epoch 14/20\n",
      "880/880 [==============================] - 10s 11ms/step - loss: 0.3148 - accuracy: 0.9178 - val_loss: 0.3847 - val_accuracy: 0.9031\n",
      "Epoch 15/20\n",
      "880/880 [==============================] - 10s 11ms/step - loss: 0.2975 - accuracy: 0.9221 - val_loss: 0.3748 - val_accuracy: 0.9041\n",
      "Epoch 16/20\n",
      "880/880 [==============================] - 10s 12ms/step - loss: 0.2823 - accuracy: 0.9264 - val_loss: 0.3657 - val_accuracy: 0.9076\n",
      "Epoch 17/20\n",
      "880/880 [==============================] - 10s 11ms/step - loss: 0.2671 - accuracy: 0.9297 - val_loss: 0.3558 - val_accuracy: 0.9090\n",
      "Epoch 18/20\n",
      "880/880 [==============================] - 10s 11ms/step - loss: 0.2546 - accuracy: 0.9328 - val_loss: 0.3469 - val_accuracy: 0.9114\n",
      "Epoch 19/20\n",
      "880/880 [==============================] - 10s 11ms/step - loss: 0.2421 - accuracy: 0.9366 - val_loss: 0.3387 - val_accuracy: 0.9147\n",
      "Epoch 20/20\n",
      "880/880 [==============================] - 10s 11ms/step - loss: 0.2307 - accuracy: 0.9392 - val_loss: 0.3340 - val_accuracy: 0.9153\n",
      "Epoch 00020: early stopping\n",
      "0.9146562351132019\n"
     ]
    }
   ],
   "source": [
    "model_dict = {}\n",
    "for h_layers in [1, 2]:\n",
    "    for h_units in [128, 256, 512]:\n",
    "        if h_layers==2 and h_units in [32,64]:\n",
    "            continue\n",
    "        print(f\"fasttext_NB_{h_layers}_{h_units}\")   \n",
    "        \n",
    "        n_of_layers = h_layers\n",
    "        model = tf.keras.Sequential([\n",
    "            tf.keras.layers.Flatten()\n",
    "        ])\n",
    "        \n",
    "        while n_of_layers!=0 :\n",
    "            model.add(tf.keras.layers.Dense(h_units, activation='relu'))\n",
    "            n_of_layers-=1\n",
    "        \n",
    "        model.add(tf.keras.layers.Dense(train.CATEGORY_ID.unique().shape[0]))\n",
    "        \n",
    "        model.compile(optimizer='adam',\n",
    "              loss=tf.keras.losses.SparseCategoricalCrossentropy(from_logits=True),\n",
    "              metrics=['accuracy'])\n",
    "        \n",
    "        # simple early stopping\n",
    "        es = EarlyStopping(monitor='val_loss',mode='min', verbose=1,min_delta=0.005,patience=1)\n",
    "        \n",
    "        history = model.fit(X, y, epochs=20, batch_size=200, validation_data=(X_test, y_test), callbacks=[es],verbose=1)\n",
    "        # history = model.fit(X, y, epochs=20,validation_data=(test_vector, y_test),verbose=1)\n",
    "        predictions = model.predict(X_test)\n",
    "        predictions = np.argmax(predictions,axis=1)\n",
    "        \n",
    "        fscore = precision_recall_fscore_support(y_test, predictions,average=\"weighted\")[2]\n",
    "        print(fscore)\n",
    "        model_dict[f\"fasttext_NB_{h_layers}_{h_units}\"] = [history, fscore, model.count_params()]"
   ]
  },
  {
   "cell_type": "code",
   "execution_count": null,
   "metadata": {},
   "outputs": [],
   "source": [
    "fscore_list = []\n",
    "for k,v in model_dict.items():\n",
    "    fscore_list.append(np.round(v[1],3))\n",
    "    [print(i) for i in fscore_list]"
   ]
  },
  {
   "cell_type": "code",
   "execution_count": 48,
   "metadata": {},
   "outputs": [],
   "source": [
    "checkpoint = ModelCheckpoint('model.h5', verbose=1, monitor='val_loss',save_best_only=True, mode='auto')"
   ]
  },
  {
   "cell_type": "code",
   "execution_count": 49,
   "metadata": {
    "collapsed": true,
    "jupyter": {
     "outputs_hidden": true
    },
    "tags": []
   },
   "outputs": [
    {
     "name": "stdout",
     "output_type": "stream",
     "text": [
      "Epoch 1/20\n",
      "880/880 [==============================] - ETA: 0s - loss: 0.2198 - accuracy: 0.9419\n",
      "Epoch 00001: val_loss improved from inf to 0.32659, saving model to model.h5\n",
      "880/880 [==============================] - 10s 12ms/step - loss: 0.2198 - accuracy: 0.9419 - val_loss: 0.3266 - val_accuracy: 0.9178\n",
      "Epoch 2/20\n",
      "876/880 [============================>.] - ETA: 0s - loss: 0.2104 - accuracy: 0.9443\n",
      "Epoch 00002: val_loss improved from 0.32659 to 0.32207, saving model to model.h5\n",
      "880/880 [==============================] - 10s 12ms/step - loss: 0.2104 - accuracy: 0.9444 - val_loss: 0.3221 - val_accuracy: 0.9189\n",
      "Epoch 3/20\n",
      "873/880 [============================>.] - ETA: 0s - loss: 0.2015 - accuracy: 0.9463\n",
      "Epoch 00003: val_loss improved from 0.32207 to 0.31495, saving model to model.h5\n",
      "880/880 [==============================] - 10s 12ms/step - loss: 0.2012 - accuracy: 0.9464 - val_loss: 0.3149 - val_accuracy: 0.9211\n",
      "Epoch 4/20\n",
      "879/880 [============================>.] - ETA: 0s - loss: 0.1928 - accuracy: 0.9490\n",
      "Epoch 00004: val_loss did not improve from 0.31495\n",
      "880/880 [==============================] - 10s 11ms/step - loss: 0.1928 - accuracy: 0.9490 - val_loss: 0.3158 - val_accuracy: 0.9201\n",
      "Epoch 5/20\n",
      "880/880 [==============================] - ETA: 0s - loss: 0.1852 - accuracy: 0.9510\n",
      "Epoch 00005: val_loss improved from 0.31495 to 0.31161, saving model to model.h5\n",
      "880/880 [==============================] - 10s 12ms/step - loss: 0.1852 - accuracy: 0.9510 - val_loss: 0.3116 - val_accuracy: 0.9221\n",
      "Epoch 6/20\n",
      "874/880 [============================>.] - ETA: 0s - loss: 0.1770 - accuracy: 0.9533\n",
      "Epoch 00006: val_loss improved from 0.31161 to 0.31112, saving model to model.h5\n",
      "880/880 [==============================] - 10s 12ms/step - loss: 0.1772 - accuracy: 0.9532 - val_loss: 0.3111 - val_accuracy: 0.9218\n",
      "Epoch 7/20\n",
      "872/880 [============================>.] - ETA: 0s - loss: 0.1698 - accuracy: 0.9550\n",
      "Epoch 00007: val_loss improved from 0.31112 to 0.30164, saving model to model.h5\n",
      "880/880 [==============================] - 10s 11ms/step - loss: 0.1699 - accuracy: 0.9550 - val_loss: 0.3016 - val_accuracy: 0.9251\n",
      "Epoch 8/20\n",
      "879/880 [============================>.] - ETA: 0s - loss: 0.1629 - accuracy: 0.9569\n",
      "Epoch 00008: val_loss improved from 0.30164 to 0.29781, saving model to model.h5\n",
      "880/880 [==============================] - 10s 11ms/step - loss: 0.1630 - accuracy: 0.9569 - val_loss: 0.2978 - val_accuracy: 0.9265\n",
      "Epoch 9/20\n",
      "875/880 [============================>.] - ETA: 0s - loss: 0.1568 - accuracy: 0.9588\n",
      "Epoch 00009: val_loss improved from 0.29781 to 0.29726, saving model to model.h5\n",
      "880/880 [==============================] - 10s 12ms/step - loss: 0.1569 - accuracy: 0.9588 - val_loss: 0.2973 - val_accuracy: 0.9264\n",
      "Epoch 10/20\n",
      "871/880 [============================>.] - ETA: 0s - loss: 0.1503 - accuracy: 0.9603\n",
      "Epoch 00010: val_loss improved from 0.29726 to 0.29401, saving model to model.h5\n",
      "880/880 [==============================] - 10s 12ms/step - loss: 0.1503 - accuracy: 0.9603 - val_loss: 0.2940 - val_accuracy: 0.9280\n",
      "Epoch 11/20\n",
      "878/880 [============================>.] - ETA: 0s - loss: 0.1450 - accuracy: 0.9618\n",
      "Epoch 00011: val_loss improved from 0.29401 to 0.29336, saving model to model.h5\n",
      "880/880 [==============================] - 10s 11ms/step - loss: 0.1450 - accuracy: 0.9617 - val_loss: 0.2934 - val_accuracy: 0.9284\n",
      "Epoch 12/20\n",
      "874/880 [============================>.] - ETA: 0s - loss: 0.1392 - accuracy: 0.9635\n",
      "Epoch 00012: val_loss improved from 0.29336 to 0.28850, saving model to model.h5\n",
      "880/880 [==============================] - 10s 12ms/step - loss: 0.1392 - accuracy: 0.9635 - val_loss: 0.2885 - val_accuracy: 0.9292\n",
      "Epoch 13/20\n",
      "872/880 [============================>.] - ETA: 0s - loss: 0.1342 - accuracy: 0.9648\n",
      "Epoch 00013: val_loss improved from 0.28850 to 0.28762, saving model to model.h5\n",
      "880/880 [==============================] - 10s 11ms/step - loss: 0.1342 - accuracy: 0.9648 - val_loss: 0.2876 - val_accuracy: 0.9312\n",
      "Epoch 14/20\n",
      "871/880 [============================>.] - ETA: 0s - loss: 0.1291 - accuracy: 0.9664\n",
      "Epoch 00014: val_loss improved from 0.28762 to 0.28693, saving model to model.h5\n",
      "880/880 [==============================] - 10s 11ms/step - loss: 0.1291 - accuracy: 0.9665 - val_loss: 0.2869 - val_accuracy: 0.9305\n",
      "Epoch 15/20\n",
      "878/880 [============================>.] - ETA: 0s - loss: 0.1245 - accuracy: 0.9673\n",
      "Epoch 00015: val_loss did not improve from 0.28693\n",
      "880/880 [==============================] - 10s 11ms/step - loss: 0.1245 - accuracy: 0.9673 - val_loss: 0.2881 - val_accuracy: 0.9309\n",
      "Epoch 16/20\n",
      "875/880 [============================>.] - ETA: 0s - loss: 0.1198 - accuracy: 0.9685\n",
      "Epoch 00016: val_loss improved from 0.28693 to 0.28196, saving model to model.h5\n",
      "880/880 [==============================] - 10s 12ms/step - loss: 0.1198 - accuracy: 0.9685 - val_loss: 0.2820 - val_accuracy: 0.9330\n",
      "Epoch 17/20\n",
      "879/880 [============================>.] - ETA: 0s - loss: 0.1159 - accuracy: 0.9698\n",
      "Epoch 00017: val_loss improved from 0.28196 to 0.27978, saving model to model.h5\n",
      "880/880 [==============================] - 10s 12ms/step - loss: 0.1159 - accuracy: 0.9698 - val_loss: 0.2798 - val_accuracy: 0.9337\n",
      "Epoch 18/20\n",
      "874/880 [============================>.] - ETA: 0s - loss: 0.1112 - accuracy: 0.9712\n",
      "Epoch 00018: val_loss did not improve from 0.27978\n",
      "880/880 [==============================] - 10s 11ms/step - loss: 0.1114 - accuracy: 0.9712 - val_loss: 0.2801 - val_accuracy: 0.9336\n",
      "Epoch 19/20\n",
      "873/880 [============================>.] - ETA: 0s - loss: 0.1074 - accuracy: 0.9720\n",
      "Epoch 00019: val_loss did not improve from 0.27978\n",
      "880/880 [==============================] - 10s 11ms/step - loss: 0.1074 - accuracy: 0.9720 - val_loss: 0.2812 - val_accuracy: 0.9333\n",
      "Epoch 20/20\n",
      "880/880 [==============================] - ETA: 0s - loss: 0.1040 - accuracy: 0.9730\n",
      "Epoch 00020: val_loss improved from 0.27978 to 0.27970, saving model to model.h5\n",
      "880/880 [==============================] - 10s 12ms/step - loss: 0.1040 - accuracy: 0.9730 - val_loss: 0.2797 - val_accuracy: 0.9347\n"
     ]
    }
   ],
   "source": [
    "history = model.fit(X, y, epochs=20, batch_size=200,validation_data=(X_test, y_test), callbacks=[checkpoint],verbose=1)"
   ]
  },
  {
   "cell_type": "code",
   "execution_count": 50,
   "metadata": {},
   "outputs": [
    {
     "name": "stdout",
     "output_type": "stream",
     "text": [
      "0.9342242907893378\n"
     ]
    }
   ],
   "source": [
    "predictions = model.predict(X_test)\n",
    "predictions = np.argmax(predictions,axis=1)\n",
    "\n",
    "fscore = precision_recall_fscore_support(y_test, predictions,average=\"weighted\")[2]\n",
    "print(fscore)"
   ]
  },
  {
   "cell_type": "code",
   "execution_count": 56,
   "metadata": {},
   "outputs": [],
   "source": [
    "test_copy = test.reset_index(drop=True).copy()"
   ]
  },
  {
   "cell_type": "markdown",
   "metadata": {},
   "source": [
    "# top@5/@10"
   ]
  },
  {
   "cell_type": "code",
   "execution_count": 54,
   "metadata": {},
   "outputs": [],
   "source": [
    "def top_n_accuracy(probabilities, n, y_test):\n",
    "    topn = np.flip(np.argsort(probabilities, axis = 1), axis=1)[:,:n]\n",
    "\n",
    "    y_true = np.array(y_test)\n",
    "    return np.mean(np.array([1 if y_true[k] in topn[k] else 0 for k in range(len(topn))]))"
   ]
  },
  {
   "cell_type": "code",
   "execution_count": 55,
   "metadata": {},
   "outputs": [
    {
     "data": {
      "text/plain": [
       "0.953792453875561"
      ]
     },
     "execution_count": 55,
     "metadata": {},
     "output_type": "execute_result"
    }
   ],
   "source": [
    "top_n_accuracy(predictions, 5, y_test)"
   ]
  },
  {
   "cell_type": "code",
   "execution_count": 132,
   "metadata": {},
   "outputs": [
    {
     "data": {
      "text/plain": [
       "0.9675161609124637"
      ]
     },
     "execution_count": 132,
     "metadata": {},
     "output_type": "execute_result"
    }
   ],
   "source": [
    "top_n_accuracy(cnn_predictions, 10, y_test)"
   ]
  },
  {
   "cell_type": "code",
   "execution_count": 147,
   "metadata": {},
   "outputs": [],
   "source": [
    "predictions = model.predict(test_vector)"
   ]
  },
  {
   "cell_type": "code",
   "execution_count": 40,
   "metadata": {},
   "outputs": [],
   "source": [
    "np.save(\"text_pred.npy\",predictions)"
   ]
  },
  {
   "cell_type": "code",
   "execution_count": 70,
   "metadata": {},
   "outputs": [],
   "source": [
    "cnn_predictions = np.load(\"cnn_pred.npy\")"
   ]
  },
  {
   "cell_type": "code",
   "execution_count": 148,
   "metadata": {},
   "outputs": [],
   "source": [
    "predictions = cnn_predictions + predictions"
   ]
  },
  {
   "cell_type": "code",
   "execution_count": 150,
   "metadata": {},
   "outputs": [],
   "source": [
    "topn = np.flip(np.argsort(predictions, axis = 1), axis=1)[:,:5]"
   ]
  },
  {
   "cell_type": "code",
   "execution_count": 186,
   "metadata": {},
   "outputs": [],
   "source": [
    "y_true = np.array(y_test)\n",
    "true_list = [1 if y_true[k] in topn[k] else 0 for k in range(len(topn))]"
   ]
  },
  {
   "cell_type": "code",
   "execution_count": 165,
   "metadata": {},
   "outputs": [],
   "source": [
    "preds = []\n",
    "for i in topn:\n",
    "    pred = []\n",
    "    for j in i:\n",
    "        pred.append(label_encoder.inverse_transform([j]))\n",
    "    preds.append(pred)"
   ]
  },
  {
   "cell_type": "code",
   "execution_count": 173,
   "metadata": {
    "tags": []
   },
   "outputs": [],
   "source": [
    "pred_path_list = []\n",
    "for i in preds:\n",
    "    pred_path = []\n",
    "    for j in i:\n",
    "        pred_path.append(\" > \".join(category_dict[int(j)]))\n",
    "    pred_path_list.append(pred_path)\n",
    "    "
   ]
  },
  {
   "cell_type": "code",
   "execution_count": 182,
   "metadata": {},
   "outputs": [],
   "source": [
    "test[\"top5_paths\"] = pred_path_list"
   ]
  },
  {
   "cell_type": "code",
   "execution_count": 196,
   "metadata": {},
   "outputs": [],
   "source": [
    "test[[True if i == 0 else False for i in true_list]].to_csv(\"top5_wrong.csv\",index=False)"
   ]
  },
  {
   "cell_type": "code",
   "execution_count": 143,
   "metadata": {},
   "outputs": [
    {
     "data": {
      "text/plain": [
       "0.9923205288142184"
      ]
     },
     "execution_count": 143,
     "metadata": {},
     "output_type": "execute_result"
    }
   ],
   "source": [
    "top_n_accuracy(predictions, 10, y_test)"
   ]
  },
  {
   "cell_type": "code",
   "execution_count": 78,
   "metadata": {},
   "outputs": [
    {
     "data": {
      "text/plain": [
       "0.921739330982939"
      ]
     },
     "execution_count": 78,
     "metadata": {},
     "output_type": "execute_result"
    }
   ],
   "source": [
    "precision_recall_fscore_support(y_test, predictions,average=\"weighted\")[2]"
   ]
  },
  {
   "cell_type": "code",
   "execution_count": 46,
   "metadata": {},
   "outputs": [],
   "source": [
    "test[\"PRED_ID\"] = label_encoder.inverse_transform(predictions)\n",
    "pred_path_list = []\n",
    "for i in test[\"PRED_ID\"]:\n",
    "    pred_path_list.append(\" > \".join(category_dict[i]))\n",
    "    \n",
    "test[\"PRED_PATH\"] = pred_path_list\n",
    "\n",
    "test[[\"MATERIAL_ID\",\"NAME_BRIEF\",\n",
    "      \"NAME_DESCRIPTION\",\"CATEGORY_ID\",\n",
    "      \"PRED_ID\",\"CATEGORY_PATH\",\"PRED_PATH\"]].to_csv(\"test_CNN_mlp.csv\",index=False)"
   ]
  },
  {
   "cell_type": "markdown",
   "metadata": {},
   "source": [
    "# Clean lab"
   ]
  },
  {
   "cell_type": "code",
   "execution_count": 55,
   "metadata": {},
   "outputs": [
    {
     "name": "stdout",
     "output_type": "stream",
     "text": [
      "Collecting cleanlab\n",
      "  Downloading cleanlab-1.0-py2.py3-none-any.whl (77 kB)\n",
      "     |████████████████████████████████| 77 kB 12.7 MB/s            \n",
      "\u001b[?25hRequirement already satisfied: numpy>=1.11.3 in /home/default/lib/python3.9/site-packages (from cleanlab) (1.22.0)\n",
      "Requirement already satisfied: tqdm>=4.53.0 in /home/default/lib/python3.9/site-packages (from cleanlab) (4.62.3)\n",
      "Requirement already satisfied: scikit-learn>=0.18 in /home/default/lib/python3.9/site-packages (from cleanlab) (1.0.1)\n",
      "Requirement already satisfied: scipy>=1.1.0 in /home/default/lib/python3.9/site-packages (from cleanlab) (1.7.3)\n",
      "Requirement already satisfied: threadpoolctl>=2.0.0 in /home/default/lib/python3.9/site-packages (from scikit-learn>=0.18->cleanlab) (3.0.0)\n",
      "Requirement already satisfied: joblib>=0.11 in /home/default/lib/python3.9/site-packages (from scikit-learn>=0.18->cleanlab) (1.1.0)\n",
      "Installing collected packages: cleanlab\n",
      "Successfully installed cleanlab-1.0\n",
      "Note: you may need to restart the kernel to use updated packages.\n"
     ]
    }
   ],
   "source": [
    "pip install cleanlab"
   ]
  },
  {
   "cell_type": "code",
   "execution_count": 25,
   "metadata": {},
   "outputs": [],
   "source": [
    "probability_model = tf.keras.Sequential([model, \n",
    "                                         tf.keras.layers.Softmax()])\n",
    "probability_model.compile(optimizer='adam',\n",
    "              loss=tf.keras.losses.SparseCategoricalCrossentropy(),\n",
    "              metrics=['accuracy'])"
   ]
  },
  {
   "cell_type": "code",
   "execution_count": 26,
   "metadata": {},
   "outputs": [],
   "source": [
    "from sklearn.base import BaseEstimator\n",
    "class MyModel(BaseEstimator): # Inherits sklearn base classifier\n",
    "    def __init__(self, model):\n",
    "        self.model = model\n",
    "    def fit(self, X, y, sample_weight = None):\n",
    "        self.model.fit(X,y)\n",
    "    def predict(self, X):\n",
    "        return self.model.predict(X)\n",
    "    def predict_proba(self, X):\n",
    "        return self.model.predict(X)\n",
    "    def score(self, X, y, sample_weight = None):\n",
    "        pass"
   ]
  },
  {
   "cell_type": "code",
   "execution_count": 27,
   "metadata": {},
   "outputs": [],
   "source": [
    "test_model = MyModel(probability_model)"
   ]
  },
  {
   "cell_type": "code",
   "execution_count": 34,
   "metadata": {
    "tags": []
   },
   "outputs": [
    {
     "name": "stderr",
     "output_type": "stream",
     "text": [
      "2022-01-08 18:49:04.108990: W tensorflow/python/util/util.cc:368] Sets are not currently considered sequences, but this may change in the future, so consider avoiding using them.\n"
     ]
    },
    {
     "name": "stdout",
     "output_type": "stream",
     "text": [
      "INFO:tensorflow:Assets written to: ram://82d45d80-07d8-40cc-9ab5-827b60d73ff0/assets\n",
      "6025/6025 [==============================] - 23s 4ms/step - loss: 0.2079 - accuracy: 0.9443\n",
      "INFO:tensorflow:Assets written to: ram://74726068-a013-44ae-998a-1c09da730609/assets\n",
      "6025/6025 [==============================] - 23s 4ms/step - loss: 0.2072 - accuracy: 0.9454\n",
      "INFO:tensorflow:Assets written to: ram://c615e08c-db85-4afe-9591-25ba9ef8ff38/assets\n",
      "6025/6025 [==============================] - 23s 4ms/step - loss: 0.2071 - accuracy: 0.9442\n",
      "INFO:tensorflow:Assets written to: ram://b8bee221-aad5-4aa7-9edf-5cd9b74cdaa5/assets\n",
      "6025/6025 [==============================] - 23s 4ms/step - loss: 0.2071 - accuracy: 0.9447\n",
      "INFO:tensorflow:Assets written to: ram://b329d1e4-47e0-49ae-843d-f284edc73f4d/assets\n",
      "6025/6025 [==============================] - 23s 4ms/step - loss: 0.2070 - accuracy: 0.9447\n"
     ]
    }
   ],
   "source": [
    "from cleanlab.latent_estimation import estimate_cv_predicted_probabilities\n",
    "\n",
    "# Find the indices of label errors in 2 lines of code.\n",
    "\n",
    "probabilities = estimate_cv_predicted_probabilities(\n",
    "    np.concatenate(df_train.feature_vector.values).reshape(-1,300), \n",
    "    label_encoder.transform(df_train.CATEGORY_ID.values), \n",
    "    clf=test_model,\n",
    ")"
   ]
  },
  {
   "cell_type": "code",
   "execution_count": 36,
   "metadata": {},
   "outputs": [],
   "source": [
    "from cleanlab.pruning import get_noise_indices\n",
    "label_error_indices_prob = get_noise_indices(\n",
    "    s = label_encoder.transform(df_train.CATEGORY_ID.values), \n",
    "    psx = probabilities,\n",
    "    prune_method=\"both\",\n",
    "    sorted_index_method='prob_given_label', # Orders label errors\n",
    ")"
   ]
  },
  {
   "cell_type": "code",
   "execution_count": 37,
   "metadata": {
    "collapsed": true,
    "jupyter": {
     "outputs_hidden": true
    },
    "tags": []
   },
   "outputs": [
    {
     "data": {
      "text/html": [
       "<div>\n",
       "<style scoped>\n",
       "    .dataframe tbody tr th:only-of-type {\n",
       "        vertical-align: middle;\n",
       "    }\n",
       "\n",
       "    .dataframe tbody tr th {\n",
       "        vertical-align: top;\n",
       "    }\n",
       "\n",
       "    .dataframe thead th {\n",
       "        text-align: right;\n",
       "    }\n",
       "</style>\n",
       "<table border=\"1\" class=\"dataframe\">\n",
       "  <thead>\n",
       "    <tr style=\"text-align: right;\">\n",
       "      <th></th>\n",
       "      <th>index</th>\n",
       "      <th>MATERIAL_ID</th>\n",
       "      <th>MATERIAL_ODS_ID</th>\n",
       "      <th>SHOP</th>\n",
       "      <th>NAME</th>\n",
       "      <th>BRIEF</th>\n",
       "      <th>NAME_BRIEF</th>\n",
       "      <th>NAME_DESCRIPTION</th>\n",
       "      <th>NAME_BRIEF_DESCRIPTION</th>\n",
       "      <th>IS_MAIN</th>\n",
       "      <th>CATEGORY_ID</th>\n",
       "      <th>CATEGORY_PATH</th>\n",
       "      <th>CATEGORY_URL</th>\n",
       "      <th>VISIBLE</th>\n",
       "      <th>CATEGORY_NAME</th>\n",
       "      <th>train_column</th>\n",
       "      <th>feature_vector</th>\n",
       "    </tr>\n",
       "  </thead>\n",
       "  <tbody>\n",
       "    <tr>\n",
       "      <th>235932</th>\n",
       "      <td>235932</td>\n",
       "      <td>100053135845</td>\n",
       "      <td>2218705850</td>\n",
       "      <td>MACZ</td>\n",
       "      <td>držák bednový US 90x70mm</td>\n",
       "      <td>držák bednový US 90×70mm\\n</td>\n",
       "      <td>držák bedn ; držák bedn</td>\n",
       "      <td>držák bedn ; držák bedn</td>\n",
       "      <td>držák bedn držák bedn</td>\n",
       "      <td>t</td>\n",
       "      <td>4671463</td>\n",
       "      <td>Hobby a zahrada &gt; Stavební materiál &gt; Spojovac...</td>\n",
       "      <td>https://www.mall.cz/zavitove-tyce</td>\n",
       "      <td>t</td>\n",
       "      <td>Závitové tyče</td>\n",
       "      <td>držák bedn držák bedn</td>\n",
       "      <td>[0.03572943, 0.013761615, 0.05322641, 0.014833...</td>\n",
       "    </tr>\n",
       "    <tr>\n",
       "      <th>168704</th>\n",
       "      <td>168704</td>\n",
       "      <td>691103</td>\n",
       "      <td>7092088</td>\n",
       "      <td>MACZ</td>\n",
       "      <td>GBA 18V 2,0Ah</td>\n",
       "      <td>NaN</td>\n",
       "      <td>gba ;</td>\n",
       "      <td>gba ;</td>\n",
       "      <td>gba</td>\n",
       "      <td>t</td>\n",
       "      <td>18412293</td>\n",
       "      <td>Hobby a zahrada &gt; Aku nářadí &gt; Aku program</td>\n",
       "      <td>https://www.mall.cz/aku-program</td>\n",
       "      <td>t</td>\n",
       "      <td>Aku program</td>\n",
       "      <td>gba</td>\n",
       "      <td>[-0.0070488877, 0.007857528, -0.0048071016, -0...</td>\n",
       "    </tr>\n",
       "    <tr>\n",
       "      <th>77061</th>\n",
       "      <td>77061</td>\n",
       "      <td>100019709901</td>\n",
       "      <td>940072111</td>\n",
       "      <td>MACZ</td>\n",
       "      <td>Těsnění 60x42x1mm</td>\n",
       "      <td>Těsnění 60×42×1mm\\n</td>\n",
       "      <td>těsněn ; těsněn</td>\n",
       "      <td>těsněn ; těsněn</td>\n",
       "      <td>těsněn těsněn</td>\n",
       "      <td>t</td>\n",
       "      <td>19165480</td>\n",
       "      <td>Hobby a zahrada &gt; Ohřev vody, vytápění &gt; Topid...</td>\n",
       "      <td>https://www.mall.cz/radiatory</td>\n",
       "      <td>t</td>\n",
       "      <td>Radiátory</td>\n",
       "      <td>těsněn těsněn</td>\n",
       "      <td>[0.022997703, -0.020094737, -0.035796724, -0.0...</td>\n",
       "    </tr>\n",
       "    <tr>\n",
       "      <th>151168</th>\n",
       "      <td>151168</td>\n",
       "      <td>100050373650</td>\n",
       "      <td>2080663653</td>\n",
       "      <td>MACZ</td>\n",
       "      <td>Chránič kabelů SignUS DH 2</td>\n",
       "      <td>…\\n</td>\n",
       "      <td>chránič kabel sign ;</td>\n",
       "      <td>chránič kabel sign ;</td>\n",
       "      <td>chránič kabel sign</td>\n",
       "      <td>t</td>\n",
       "      <td>37425</td>\n",
       "      <td>Hobby a zahrada &gt; Ohřev vody, vytápění &gt; Topid...</td>\n",
       "      <td>https://www.mall.cz/prislusenstvi-topidla</td>\n",
       "      <td>t</td>\n",
       "      <td>Příslušenství k topidlům</td>\n",
       "      <td>chránič kabel sign</td>\n",
       "      <td>[0.009975115, 0.02095398, -0.013715243, -0.025...</td>\n",
       "    </tr>\n",
       "    <tr>\n",
       "      <th>61354</th>\n",
       "      <td>61354</td>\n",
       "      <td>100053131049</td>\n",
       "      <td>2218701283</td>\n",
       "      <td>MACZ</td>\n",
       "      <td>ND matka křídlová</td>\n",
       "      <td>ND matka křídlová\\n</td>\n",
       "      <td>matk křídl ; matk křídl</td>\n",
       "      <td>matk křídl ; matk křídl</td>\n",
       "      <td>matk křídl matk křídl</td>\n",
       "      <td>t</td>\n",
       "      <td>3772507</td>\n",
       "      <td>Hobby a zahrada &gt; Stavební materiál &gt; Spojovac...</td>\n",
       "      <td>https://www.mall.cz/matice</td>\n",
       "      <td>t</td>\n",
       "      <td>Matice</td>\n",
       "      <td>matk křídl matk křídl</td>\n",
       "      <td>[-0.028289039, 0.01964222, -0.051437143, -0.07...</td>\n",
       "    </tr>\n",
       "    <tr>\n",
       "      <th>...</th>\n",
       "      <td>...</td>\n",
       "      <td>...</td>\n",
       "      <td>...</td>\n",
       "      <td>...</td>\n",
       "      <td>...</td>\n",
       "      <td>...</td>\n",
       "      <td>...</td>\n",
       "      <td>...</td>\n",
       "      <td>...</td>\n",
       "      <td>...</td>\n",
       "      <td>...</td>\n",
       "      <td>...</td>\n",
       "      <td>...</td>\n",
       "      <td>...</td>\n",
       "      <td>...</td>\n",
       "      <td>...</td>\n",
       "      <td>...</td>\n",
       "    </tr>\n",
       "    <tr>\n",
       "      <th>153642</th>\n",
       "      <td>153642</td>\n",
       "      <td>100070379327</td>\n",
       "      <td>2563067392</td>\n",
       "      <td>MACZ</td>\n",
       "      <td>Osmocote Exact 12-14M 25kg 15-9-11+2MgO+TE</td>\n",
       "      <td>Osmocote Exact Standard 12–14M uvolňuje živiny...</td>\n",
       "      <td>osmocot exact ; osmocot exact standard uvolň ž...</td>\n",
       "      <td>osmocot exact ; osmocot exact standard uvolň ž...</td>\n",
       "      <td>osmocot exact osmocot exact standard uvolň živ...</td>\n",
       "      <td>t</td>\n",
       "      <td>9462</td>\n",
       "      <td>Hobby a zahrada &gt; Zahradní a travní doplňky &gt; ...</td>\n",
       "      <td>https://www.mall.cz/substraty</td>\n",
       "      <td>t</td>\n",
       "      <td>Zahradnické substráty</td>\n",
       "      <td>osmocot exact osmocot exact standard uvolň živ...</td>\n",
       "      <td>[0.018194634, 0.013261504, -0.008259728, 0.002...</td>\n",
       "    </tr>\n",
       "    <tr>\n",
       "      <th>241925</th>\n",
       "      <td>241925</td>\n",
       "      <td>100053124138</td>\n",
       "      <td>2218501872</td>\n",
       "      <td>MACZ</td>\n",
       "      <td>Skalice modrá - 500 g</td>\n",
       "      <td>Skalice modrá – síran měďnatý – se používá pro...</td>\n",
       "      <td>skalic modr ; skalic modr síran měďnat použív ...</td>\n",
       "      <td>skalic modr ; měďnat hnojiv určen doplňk výživ...</td>\n",
       "      <td>skalic modr skalic modr síran měďnat použív ho...</td>\n",
       "      <td>t</td>\n",
       "      <td>9462</td>\n",
       "      <td>Hobby a zahrada &gt; Zahradní a travní doplňky &gt; ...</td>\n",
       "      <td>https://www.mall.cz/substraty</td>\n",
       "      <td>t</td>\n",
       "      <td>Zahradnické substráty</td>\n",
       "      <td>skalic modr skalic modr síran měďnat použív ho...</td>\n",
       "      <td>[0.0018271597, 0.023830907, -0.010452954, -0.0...</td>\n",
       "    </tr>\n",
       "    <tr>\n",
       "      <th>29539</th>\n",
       "      <td>29539</td>\n",
       "      <td>100058198990</td>\n",
       "      <td>2347564770</td>\n",
       "      <td>MACZ</td>\n",
       "      <td>Hnojivo NG univerzální 1l</td>\n",
       "      <td>Tekuté hnojivo je určeno k výživě ovoce, zelen...</td>\n",
       "      <td>hnojiv univerzáln ; tekut hnojiv určen výživ o...</td>\n",
       "      <td>hnojiv univerzáln ; tekut hnojiv určen výživ o...</td>\n",
       "      <td>hnojiv univerzáln tekut hnojiv určen výživ ovo...</td>\n",
       "      <td>t</td>\n",
       "      <td>9462</td>\n",
       "      <td>Hobby a zahrada &gt; Zahradní a travní doplňky &gt; ...</td>\n",
       "      <td>https://www.mall.cz/substraty</td>\n",
       "      <td>t</td>\n",
       "      <td>Zahradnické substráty</td>\n",
       "      <td>hnojiv univerzáln tekut hnojiv určen výživ ovo...</td>\n",
       "      <td>[0.032500856, 0.021207426, 0.021358028, -0.002...</td>\n",
       "    </tr>\n",
       "    <tr>\n",
       "      <th>142670</th>\n",
       "      <td>142670</td>\n",
       "      <td>100057388110</td>\n",
       "      <td>2321282394</td>\n",
       "      <td>MACZ</td>\n",
       "      <td>SFMCD721D2K-QW příklepová aku vrtačka, 2x Li-I...</td>\n",
       "      <td>Stanley SFMCD721D2K-QW příklepová aku vrtačka,...</td>\n",
       "      <td>příklep aku vrtačk ion bateri ; stanle příklep...</td>\n",
       "      <td>příklep aku vrtačk ion bateri ; robustn celoko...</td>\n",
       "      <td>příklep aku vrtačk ion bateri stanle příklep a...</td>\n",
       "      <td>t</td>\n",
       "      <td>28031247</td>\n",
       "      <td>Hobby a zahrada &gt; Nářadí elektrické &gt; Akuvrtač...</td>\n",
       "      <td>https://www.mall.cz/aku-vrtacky</td>\n",
       "      <td>t</td>\n",
       "      <td>Akuvrtačky</td>\n",
       "      <td>příklep aku vrtačk ion bateri stanle příklep a...</td>\n",
       "      <td>[0.04078143, 0.0087382, -0.012844167, 8.054620...</td>\n",
       "    </tr>\n",
       "    <tr>\n",
       "      <th>175997</th>\n",
       "      <td>175997</td>\n",
       "      <td>100048611792</td>\n",
       "      <td>2003845984</td>\n",
       "      <td>MACZ</td>\n",
       "      <td>Koupelnový radiátor 750x800mm bílé rovné</td>\n",
       "      <td>Obsah dodávky: 1 x ručník Odvzdušňovací ventil...</td>\n",
       "      <td>koupeln radiátor bíl rovn ; obsah dodávk ruční...</td>\n",
       "      <td>koupeln radiátor bíl rovn ; obsah dodávk ruční...</td>\n",
       "      <td>koupeln radiátor bíl rovn obsah dodávk ručník ...</td>\n",
       "      <td>t</td>\n",
       "      <td>90174</td>\n",
       "      <td>Hobby a zahrada &gt; Ohřev vody, vytápění &gt; Topid...</td>\n",
       "      <td>https://www.mall.cz/koupelnove-radiatory</td>\n",
       "      <td>t</td>\n",
       "      <td>Koupelnové radiátory</td>\n",
       "      <td>koupeln radiátor bíl rovn obsah dodávk ručník ...</td>\n",
       "      <td>[0.030671785, 0.0146695245, -0.026674492, -0.0...</td>\n",
       "    </tr>\n",
       "  </tbody>\n",
       "</table>\n",
       "<p>2224 rows × 17 columns</p>\n",
       "</div>"
      ],
      "text/plain": [
       "         index   MATERIAL_ID  MATERIAL_ODS_ID  SHOP  \\\n",
       "235932  235932  100053135845       2218705850  MACZ   \n",
       "168704  168704        691103          7092088  MACZ   \n",
       "77061    77061  100019709901        940072111  MACZ   \n",
       "151168  151168  100050373650       2080663653  MACZ   \n",
       "61354    61354  100053131049       2218701283  MACZ   \n",
       "...        ...           ...              ...   ...   \n",
       "153642  153642  100070379327       2563067392  MACZ   \n",
       "241925  241925  100053124138       2218501872  MACZ   \n",
       "29539    29539  100058198990       2347564770  MACZ   \n",
       "142670  142670  100057388110       2321282394  MACZ   \n",
       "175997  175997  100048611792       2003845984  MACZ   \n",
       "\n",
       "                                                     NAME  \\\n",
       "235932                           držák bednový US 90x70mm   \n",
       "168704                                      GBA 18V 2,0Ah   \n",
       "77061                                   Těsnění 60x42x1mm   \n",
       "151168                         Chránič kabelů SignUS DH 2   \n",
       "61354                                   ND matka křídlová   \n",
       "...                                                   ...   \n",
       "153642         Osmocote Exact 12-14M 25kg 15-9-11+2MgO+TE   \n",
       "241925                              Skalice modrá - 500 g   \n",
       "29539                           Hnojivo NG univerzální 1l   \n",
       "142670  SFMCD721D2K-QW příklepová aku vrtačka, 2x Li-I...   \n",
       "175997           Koupelnový radiátor 750x800mm bílé rovné   \n",
       "\n",
       "                                                    BRIEF  \\\n",
       "235932                         držák bednový US 90×70mm\\n   \n",
       "168704                                                NaN   \n",
       "77061                                 Těsnění 60×42×1mm\\n   \n",
       "151168                                                …\\n   \n",
       "61354                                 ND matka křídlová\\n   \n",
       "...                                                   ...   \n",
       "153642  Osmocote Exact Standard 12–14M uvolňuje živiny...   \n",
       "241925  Skalice modrá – síran měďnatý – se používá pro...   \n",
       "29539   Tekuté hnojivo je určeno k výživě ovoce, zelen...   \n",
       "142670  Stanley SFMCD721D2K-QW příklepová aku vrtačka,...   \n",
       "175997  Obsah dodávky: 1 x ručník Odvzdušňovací ventil...   \n",
       "\n",
       "                                               NAME_BRIEF  \\\n",
       "235932                            držák bedn ; držák bedn   \n",
       "168704                                             gba ;    \n",
       "77061                                     těsněn ; těsněn   \n",
       "151168                              chránič kabel sign ;    \n",
       "61354                             matk křídl ; matk křídl   \n",
       "...                                                   ...   \n",
       "153642  osmocot exact ; osmocot exact standard uvolň ž...   \n",
       "241925  skalic modr ; skalic modr síran měďnat použív ...   \n",
       "29539   hnojiv univerzáln ; tekut hnojiv určen výživ o...   \n",
       "142670  příklep aku vrtačk ion bateri ; stanle příklep...   \n",
       "175997  koupeln radiátor bíl rovn ; obsah dodávk ruční...   \n",
       "\n",
       "                                         NAME_DESCRIPTION  \\\n",
       "235932                            držák bedn ; držák bedn   \n",
       "168704                                             gba ;    \n",
       "77061                                     těsněn ; těsněn   \n",
       "151168                              chránič kabel sign ;    \n",
       "61354                             matk křídl ; matk křídl   \n",
       "...                                                   ...   \n",
       "153642  osmocot exact ; osmocot exact standard uvolň ž...   \n",
       "241925  skalic modr ; měďnat hnojiv určen doplňk výživ...   \n",
       "29539   hnojiv univerzáln ; tekut hnojiv určen výživ o...   \n",
       "142670  příklep aku vrtačk ion bateri ; robustn celoko...   \n",
       "175997  koupeln radiátor bíl rovn ; obsah dodávk ruční...   \n",
       "\n",
       "                                   NAME_BRIEF_DESCRIPTION IS_MAIN  \\\n",
       "235932                              držák bedn držák bedn       t   \n",
       "168704                                                gba       t   \n",
       "77061                                       těsněn těsněn       t   \n",
       "151168                                 chránič kabel sign       t   \n",
       "61354                               matk křídl matk křídl       t   \n",
       "...                                                   ...     ...   \n",
       "153642  osmocot exact osmocot exact standard uvolň živ...       t   \n",
       "241925  skalic modr skalic modr síran měďnat použív ho...       t   \n",
       "29539   hnojiv univerzáln tekut hnojiv určen výživ ovo...       t   \n",
       "142670  příklep aku vrtačk ion bateri stanle příklep a...       t   \n",
       "175997  koupeln radiátor bíl rovn obsah dodávk ručník ...       t   \n",
       "\n",
       "        CATEGORY_ID                                      CATEGORY_PATH  \\\n",
       "235932      4671463  Hobby a zahrada > Stavební materiál > Spojovac...   \n",
       "168704     18412293         Hobby a zahrada > Aku nářadí > Aku program   \n",
       "77061      19165480  Hobby a zahrada > Ohřev vody, vytápění > Topid...   \n",
       "151168        37425  Hobby a zahrada > Ohřev vody, vytápění > Topid...   \n",
       "61354       3772507  Hobby a zahrada > Stavební materiál > Spojovac...   \n",
       "...             ...                                                ...   \n",
       "153642         9462  Hobby a zahrada > Zahradní a travní doplňky > ...   \n",
       "241925         9462  Hobby a zahrada > Zahradní a travní doplňky > ...   \n",
       "29539          9462  Hobby a zahrada > Zahradní a travní doplňky > ...   \n",
       "142670     28031247  Hobby a zahrada > Nářadí elektrické > Akuvrtač...   \n",
       "175997        90174  Hobby a zahrada > Ohřev vody, vytápění > Topid...   \n",
       "\n",
       "                                     CATEGORY_URL VISIBLE  \\\n",
       "235932          https://www.mall.cz/zavitove-tyce       t   \n",
       "168704            https://www.mall.cz/aku-program       t   \n",
       "77061               https://www.mall.cz/radiatory       t   \n",
       "151168  https://www.mall.cz/prislusenstvi-topidla       t   \n",
       "61354                  https://www.mall.cz/matice       t   \n",
       "...                                           ...     ...   \n",
       "153642              https://www.mall.cz/substraty       t   \n",
       "241925              https://www.mall.cz/substraty       t   \n",
       "29539               https://www.mall.cz/substraty       t   \n",
       "142670            https://www.mall.cz/aku-vrtacky       t   \n",
       "175997   https://www.mall.cz/koupelnove-radiatory       t   \n",
       "\n",
       "                   CATEGORY_NAME  \\\n",
       "235932             Závitové tyče   \n",
       "168704               Aku program   \n",
       "77061                  Radiátory   \n",
       "151168  Příslušenství k topidlům   \n",
       "61354                     Matice   \n",
       "...                          ...   \n",
       "153642     Zahradnické substráty   \n",
       "241925     Zahradnické substráty   \n",
       "29539      Zahradnické substráty   \n",
       "142670                Akuvrtačky   \n",
       "175997      Koupelnové radiátory   \n",
       "\n",
       "                                             train_column  \\\n",
       "235932                              držák bedn držák bedn   \n",
       "168704                                                gba   \n",
       "77061                                       těsněn těsněn   \n",
       "151168                                 chránič kabel sign   \n",
       "61354                               matk křídl matk křídl   \n",
       "...                                                   ...   \n",
       "153642  osmocot exact osmocot exact standard uvolň živ...   \n",
       "241925  skalic modr skalic modr síran měďnat použív ho...   \n",
       "29539   hnojiv univerzáln tekut hnojiv určen výživ ovo...   \n",
       "142670  příklep aku vrtačk ion bateri stanle příklep a...   \n",
       "175997  koupeln radiátor bíl rovn obsah dodávk ručník ...   \n",
       "\n",
       "                                           feature_vector  \n",
       "235932  [0.03572943, 0.013761615, 0.05322641, 0.014833...  \n",
       "168704  [-0.0070488877, 0.007857528, -0.0048071016, -0...  \n",
       "77061   [0.022997703, -0.020094737, -0.035796724, -0.0...  \n",
       "151168  [0.009975115, 0.02095398, -0.013715243, -0.025...  \n",
       "61354   [-0.028289039, 0.01964222, -0.051437143, -0.07...  \n",
       "...                                                   ...  \n",
       "153642  [0.018194634, 0.013261504, -0.008259728, 0.002...  \n",
       "241925  [0.0018271597, 0.023830907, -0.010452954, -0.0...  \n",
       "29539   [0.032500856, 0.021207426, 0.021358028, -0.002...  \n",
       "142670  [0.04078143, 0.0087382, -0.012844167, 8.054620...  \n",
       "175997  [0.030671785, 0.0146695245, -0.026674492, -0.0...  \n",
       "\n",
       "[2224 rows x 17 columns]"
      ]
     },
     "execution_count": 37,
     "metadata": {},
     "output_type": "execute_result"
    }
   ],
   "source": [
    "df_train.iloc[label_error_indices_prob]"
   ]
  },
  {
   "cell_type": "code",
   "execution_count": 81,
   "metadata": {
    "collapsed": true,
    "jupyter": {
     "outputs_hidden": true
    },
    "tags": []
   },
   "outputs": [
    {
     "data": {
      "text/plain": [
       "array([['Přepravní vozík plošinový sklopný 150 kg PRAKTIK',\n",
       "        'Hobby a zahrada > Dílna, stavební technika > Boxy na nářadí, organizéry'],\n",
       "       ['Zavlažovač se zinkovým bodcem 1/2&quot;, impulzní',\n",
       "        'Hobby a zahrada > Voda v zahradě > Zavlažování zahrady > Hadice'],\n",
       "       ['Rainpoint AQRP001 - Smart Wi-Fi ventil + stanice',\n",
       "        'Hobby a zahrada > Voda v zahradě > Zavlažování > Zavlažovací hodiny, automaty'],\n",
       "       ['Velda Zahradní potůček 80 cm',\n",
       "        'Hobby a zahrada > Nářadí zahradní > Příslušenství'],\n",
       "       ['Koupelnové topení 400x1200mm Bílé zakřivené',\n",
       "        'Hobby a zahrada > Ohřev vody, vytápění > Topidla > Tepelné zářiče'],\n",
       "       ['Koupelnové topení 400x1200mm Bílé zakřivené',\n",
       "        'Hobby a zahrada > Ohřev vody, vytápění > Topidla > Tepelné zářiče'],\n",
       "       ['16-zubu vyztužené hrábě se zahnutou trubkovou násadou - 80B052',\n",
       "        'Hobby a zahrada > Voda v zahradě > Čerpadla'],\n",
       "       ['BGS 108042 Smršťovací černé dutinky - sortiment 127 dílů',\n",
       "        'Hobby a zahrada > Dílna, stavební technika > Pneumatické nářadí > Příslušenství'],\n",
       "       ['Odpuzovač vlhkosti, odstraňovač rzi GT 7',\n",
       "        'Hobby a zahrada > Dům, byt > Kuchyně > Příslušenství'],\n",
       "       ['Škrabka, 50 mm, 2 nože | TOPEX 16B471',\n",
       "        'Hobby a zahrada > Dům, byt > Malířské potřeby > Malířské příslušensví'],\n",
       "       ['Svářecí kukla samostmívací-MAGG ASK300',\n",
       "        'Hobby a zahrada > Pracovní výstroj > Ochranné pracovní pomůcky'],\n",
       "       ['Akumulátorová úhlová bruska Energy + 18 V, Li-Ion, kotouč 115 x 22,2 mm, bez akumulátoru | GRAPHITE 58G003',\n",
       "        'Hobby a zahrada > Nářadí elektrické > Brusky > Dvoukotoučové brusky'],\n",
       "       ['Koupelnové radiátor 500x1800mm bílé, zakřivené, univerzální',\n",
       "        'Hobby a zahrada > Ohřev vody, vytápění > Topidla > Tepelné zářiče'],\n",
       "       ['Pneumatická vrtačka přímá - JONNESWAY JAD-6252A',\n",
       "        'Hobby a zahrada > Nářadí elektrické > Vrtačky'],\n",
       "       ['Dřevovlna FORESTINA DEKOR 850g',\n",
       "        'Hobby a zahrada > Zahradní a travní doplňky > Substráty'],\n",
       "       ['Cetus umyvadlová baterie, chrom (744300-00)',\n",
       "        'Hobby a zahrada > Dům, byt > Koupelna a sanitární technika > Vodovodní baterie > Umyvadlové baterie'],\n",
       "       ['MARC Well Sprchový set s termostatickou baterií - hranatá',\n",
       "        'Hobby a zahrada > Dům, byt > Koupelna, sanitarni technika > Sprchy'],\n",
       "       ['4místná zahradní pohovka s poduškami černá polyratan',\n",
       "        'Hobby a zahrada > Zahradní nábytek > Sety nábytku'],\n",
       "       ['Lešticí kartáč ø 80 mm do vrtačky',\n",
       "        'Hobby a zahrada > Nářadí elektrické > Příslušenství'],\n",
       "       ['Pneumatický rázový utahovák 3/4\", 1890 Nm - HA212347',\n",
       "        'Hobby a zahrada > Dílna, stavební technika > Pneumatické nářadí > Ostatní pneumatické nářadí']],\n",
       "      dtype=object)"
      ]
     },
     "execution_count": 81,
     "metadata": {},
     "output_type": "execute_result"
    }
   ],
   "source": [
    "train.iloc[label_error_indices][[\"NAME\",\"CATEGORY_PATH\"]].values[500:520]"
   ]
  },
  {
   "cell_type": "code",
   "execution_count": 31,
   "metadata": {
    "tags": []
   },
   "outputs": [
    {
     "data": {
      "image/png": "[encoded data removed]",
      "text/plain": [
       "<Figure size 432x288 with 1 Axes>"
      ]
     },
     "metadata": {
      "needs_background": "light"
     },
     "output_type": "display_data"
    },
    {
     "data": {
      "image/png": "[encoded data removed]",
      "text/plain": [
       "<Figure size 432x288 with 1 Axes>"
      ]
     },
     "metadata": {
      "needs_background": "light"
     },
     "output_type": "display_data"
    }
   ],
   "source": [
    "import keras\n",
    "from matplotlib import pyplot as plt\n",
    "\n",
    "plt.plot(history.history['accuracy'])\n",
    "plt.plot(history.history['val_accuracy'])\n",
    "plt.title('model accuracy')\n",
    "plt.ylabel('accuracy')\n",
    "plt.xlabel('epoch')\n",
    "plt.legend(['train', 'val'], loc='upper left')\n",
    "plt.show()\n",
    "\n",
    "plt.plot(history.history['loss'])\n",
    "plt.plot(history.history['val_loss'])\n",
    "plt.title('model loss')\n",
    "plt.ylabel('loss')\n",
    "plt.xlabel('epoch')\n",
    "plt.legend(['train', 'val'], loc='upper left')\n",
    "plt.show()"
   ]
  },
  {
   "cell_type": "code",
   "execution_count": 106,
   "metadata": {},
   "outputs": [
    {
     "data": {
      "text/plain": [
       "(0.8973216160687406, 0.8947302904564315, 0.8929054162681139, None)"
      ]
     },
     "execution_count": 106,
     "metadata": {},
     "output_type": "execute_result"
    }
   ],
   "source": [
    "precision_recall_fscore_support(y_test, predictions, average=\"weighted\")"
   ]
  },
  {
   "cell_type": "markdown",
   "metadata": {},
   "source": [
    "# Fasttetx using faiss"
   ]
  },
  {
   "cell_type": "code",
   "execution_count": 49,
   "metadata": {},
   "outputs": [
    {
     "name": "stdout",
     "output_type": "stream",
     "text": [
      "Collecting faiss-cpu\n",
      "  Downloading faiss_cpu-1.7.1.post3-cp39-cp39-manylinux_2_17_x86_64.manylinux2014_x86_64.whl (8.5 MB)\n",
      "     |████████████████████████████████| 8.5 MB 19.0 MB/s            \n",
      "\u001b[?25hInstalling collected packages: faiss-cpu\n",
      "Successfully installed faiss-cpu-1.7.1.post3\n",
      "Note: you may need to restart the kernel to use updated packages.\n"
     ]
    }
   ],
   "source": [
    "pip install faiss-cpu"
   ]
  },
  {
   "cell_type": "code",
   "execution_count": 50,
   "metadata": {},
   "outputs": [],
   "source": [
    "import faiss\n",
    "from sklearn.model_selection import train_test_split\n",
    "from sklearn.metrics import f1_score"
   ]
  },
  {
   "cell_type": "code",
   "execution_count": 51,
   "metadata": {},
   "outputs": [],
   "source": [
    "def get_n_similar_materials(features, k=50):\n",
    "    \n",
    "    index = faiss.IndexFlatIP(features.shape[1])\n",
    "    faiss.normalize_L2(features)\n",
    "    index.add(features)\n",
    "\n",
    "    distances, neighbours = index.search(features, k)\n",
    "    \n",
    "    return distances, neighbours"
   ]
  },
  {
   "cell_type": "code",
   "execution_count": 52,
   "metadata": {},
   "outputs": [],
   "source": [
    "index = faiss.IndexFlatIP(train_vector.shape[1])\n",
    "faiss.normalize_L2(train_vector)\n",
    "index.add(train_vector)\n",
    "faiss.write_index(index, \"faiss_index.pkl\")"
   ]
  },
  {
   "cell_type": "code",
   "execution_count": 53,
   "metadata": {},
   "outputs": [
    {
     "name": "stdout",
     "output_type": "stream",
     "text": [
      "0.8803615327749309\n"
     ]
    }
   ],
   "source": [
    "model_dict = {}\n",
    "for kNN in [1]:\n",
    "    faiss.normalize_L2(test_vector)\n",
    "    nearest_neighbours = index.search(test_vector, kNN)\n",
    "    predictions = [train.iloc[neighbour].CATEGORY_ID.value_counts().index[0] for neighbour in nearest_neighbours[1]]\n",
    "    test[\"pred\"] = predictions\n",
    "    print(precision_recall_fscore_support(test.CATEGORY_ID, test.pred, average=\"weighted\")[2])"
   ]
  },
  {
   "cell_type": "code",
   "execution_count": 54,
   "metadata": {},
   "outputs": [],
   "source": [
    "predictions = [train.iloc[neighbour].CATEGORY_ID.value_counts().index[0] for neighbour in nearest_neighbours[1]]"
   ]
  },
  {
   "cell_type": "code",
   "execution_count": 75,
   "metadata": {},
   "outputs": [],
   "source": [
    "test[\"PRED_ID\"] = predictions"
   ]
  },
  {
   "cell_type": "code",
   "execution_count": 76,
   "metadata": {},
   "outputs": [],
   "source": [
    "pred_path_list = []\n",
    "for i in test[\"PRED_ID\"]:\n",
    "    pred_path_list.append(\" > \".join(category_dict[i]))\n",
    "    \n",
    "test[\"PRED_PATH\"] = pred_path_list"
   ]
  },
  {
   "cell_type": "code",
   "execution_count": 77,
   "metadata": {},
   "outputs": [],
   "source": [
    "test[[\"MATERIAL_ID\",\"NAME_BRIEF\",\n",
    "      \"NAME_DESCRIPTION\",\"CATEGORY_ID\",\n",
    "      \"PRED_ID\",\"CATEGORY_PATH\",\"PRED_PATH\"]].to_csv(\"test_faiss_CNN.csv\",index=False)"
   ]
  },
  {
   "cell_type": "code",
   "execution_count": null,
   "metadata": {},
   "outputs": [],
   "source": []
  }
 ],
 "metadata": {
  "kernelspec": {
   "display_name": "Python 3 (ipykernel)",
   "language": "python",
   "name": "python3"
  },
  "language_info": {
   "codemirror_mode": {
    "name": "ipython",
    "version": 3
   },
   "file_extension": ".py",
   "mimetype": "text/x-python",
   "name": "python",
   "nbconvert_exporter": "python",
   "pygments_lexer": "ipython3",
   "version": "3.7.12"
  }
 },
 "nbformat": 4,
 "nbformat_minor": 4
}
