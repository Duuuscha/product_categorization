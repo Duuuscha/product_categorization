{
 "cells": [
  {
   "cell_type": "code",
   "execution_count": 2,
   "id": "toxic-simpson",
   "metadata": {},
   "outputs": [],
   "source": [
    "import json\n",
    "\n",
    "import numpy as np\n",
    "import pandas as pd\n",
    "import plotly.express as px\n",
    "import matplotlib.pyplot as plt\n",
    "import seaborn as sns\n",
    "\n",
    "from pprint import pprint\n",
    "\n",
    "import plotly.io as pio\n",
    "pio.renderers.default='jupyterlab'  # notebook doesn't work check https://plotly.com/python/renderers/\n",
    "pd.options.display.max_columns = 100\n",
    "pd.options.display.max_rows = 300"
   ]
  },
  {
   "cell_type": "code",
   "execution_count": 3,
   "id": "historic-slovak",
   "metadata": {},
   "outputs": [],
   "source": [
    "mats = pd.read_csv(\"in/tables/MATERIALS_FOR_CLASSIFICATION_CLEAN.csv\")\n",
    "cats = pd.read_csv(\"in/tables/MATERIAL_CATEGORY_FOR_CLASSIFICATION.csv\")\n",
    "\n",
    "df = pd.merge(mats,cats,on=[\"MATERIAL_ODS_ID\",\"SHOP\"])\n",
    "\n",
    "def create_category_dict(df):\n",
    "    return df.groupby(\"CATEGORY_ID\").CATEGORY_PATH.unique().to_dict()\n",
    "category_dict = create_category_dict(df)\n",
    "\n",
    "# should be applied after category_decoder_dict\n",
    "df = df[~df.MATERIAL_ID.duplicated()].reset_index(drop=True).copy()\n",
    "\n",
    "for k,v in category_dict.items():\n",
    "    df.loc[df.CATEGORY_ID == k,\"CATEGORY_PATH_FIX\"] = v[0]"
   ]
  },
  {
   "cell_type": "code",
   "execution_count": 4,
   "id": "lucky-conference",
   "metadata": {},
   "outputs": [],
   "source": [
    "subset = df.copy()"
   ]
  },
  {
   "cell_type": "code",
   "execution_count": 5,
   "id": "alpine-doctor",
   "metadata": {},
   "outputs": [],
   "source": [
    "subset.CATEGORY_PATH = subset.CATEGORY_PATH.str.split(\" > \").apply(lambda x: \" > \".join(x[1:]))"
   ]
  },
  {
   "cell_type": "code",
   "execution_count": 6,
   "id": "demonstrated-command",
   "metadata": {},
   "outputs": [],
   "source": [
    "from sklearn.preprocessing import LabelEncoder\n",
    "\n",
    "# encode matcat names as integer values because transformer models do not accept strings\n",
    "subset['CATEGORY_SEQ_TOKENS'] = subset['CATEGORY_PATH'].str.split(\" > \")\n",
    "unique_tokens = []\n",
    "for i in subset['CATEGORY_SEQ_TOKENS']:\n",
    "    unique_tokens.extend(i)\n",
    "    \n",
    "label_enc = LabelEncoder()\n",
    "labeled_tokens = label_enc.fit_transform(unique_tokens)\n",
    "\n",
    "tokens_seq = []\n",
    "pos=0\n",
    "for i in subset['CATEGORY_SEQ_TOKENS']:\n",
    "    tokens_seq.append(labeled_tokens[pos:pos+len(i)])\n",
    "    pos+=len(i)\n",
    "    \n",
    "# new from transformers\n",
    "int_tokens_seq = [str(i).strip(\"[ ]\").split(\" \") for i in tokens_seq]"
   ]
  },
  {
   "cell_type": "code",
   "execution_count": 7,
   "id": "dressed-drilling",
   "metadata": {},
   "outputs": [],
   "source": [
    "for i in int_tokens_seq:\n",
    "    try:\n",
    "        for _ in range(10): del i[i.index(\"\")]\n",
    "    except:\n",
    "        continue"
   ]
  },
  {
   "cell_type": "code",
   "execution_count": 8,
   "id": "experimental-spare",
   "metadata": {},
   "outputs": [],
   "source": [
    "subset['CATEGORY_SEQ'] = tokens_seq"
   ]
  },
  {
   "cell_type": "code",
   "execution_count": 9,
   "id": "working-water",
   "metadata": {},
   "outputs": [],
   "source": [
    "subset[\"CATEGORY_SEQ_STR\"] = subset.CATEGORY_SEQ.apply(lambda x: \" \".join(x.astype(str)))"
   ]
  },
  {
   "cell_type": "code",
   "execution_count": 10,
   "id": "communist-dealing",
   "metadata": {},
   "outputs": [],
   "source": [
    "def prepare_MT_data(row):\n",
    "    return row[\"NAME_BRIEF\"] + \" \\t \" + row[\"CATEGORY_SEQ_STR\"]"
   ]
  },
  {
   "cell_type": "code",
   "execution_count": 11,
   "id": "presidential-necklace",
   "metadata": {},
   "outputs": [],
   "source": [
    "subset[\"text\"] = subset.apply(prepare_MT_data, axis=1)"
   ]
  },
  {
   "cell_type": "code",
   "execution_count": 12,
   "id": "coupled-hartford",
   "metadata": {},
   "outputs": [
    {
     "name": "stdout",
     "output_type": "stream",
     "text": [
      "Len of df before: 242110\n",
      "Len of df after: 240998\n"
     ]
    }
   ],
   "source": [
    "# test_categories = df.CATEGORY_ID.value_counts().reset_index().query(\"CATEGORY_ID > 20\")[\"index\"].values\n",
    "# df = df.query(\"CATEGORY_ID in @test_categories\").copy()\n",
    "\n",
    "def remove_too_small_categories(df, how_many=20):\n",
    "    \"\"\"\n",
    "    Remove all categories small than @how_many, \n",
    "    because it is unsufficient to add them to classification.\n",
    "    These categories need to be evaluated in final testing.\n",
    "    \"\"\"\n",
    "    too_small_cats = df.CATEGORY_ID.value_counts().reset_index().query(\"CATEGORY_ID<@how_many\")[\"index\"].unique()\n",
    "    indices = df[df.CATEGORY_ID.isin(too_small_cats)].index\n",
    "    small_cat_df = df.iloc[indices].copy()\n",
    "    print(f\"Len of df before: {df.shape[0]}\")\n",
    "    df.drop(indices, inplace=True)\n",
    "    print(f\"Len of df after: {df.shape[0]}\")\n",
    "    return small_cat_df\n",
    "\n",
    "too_small_categories_df = remove_too_small_categories(subset)\n",
    "\n"
   ]
  },
  {
   "cell_type": "code",
   "execution_count": 16,
   "id": "competitive-softball",
   "metadata": {},
   "outputs": [],
   "source": [
    "from sklearn.model_selection import train_test_split\n",
    "\n",
    "def create_datasets(df, stratify_by=\"CATEGORY_ID\",make_valid=None, random_state=1):\n",
    "    \"\"\"\n",
    "    Create train/test, possibly also validation dataset.\n",
    "    If make_valid=True, then returns df,list(df,df)\n",
    "    \"\"\"\n",
    "    train, test = train_test_split(df.reset_index(drop=True), \n",
    "                                   stratify=df[stratify_by],\n",
    "                                   test_size=0.3, \n",
    "                                   random_state=random_state)\n",
    "    if make_valid:\n",
    "        test = train_test_split(test.reset_index(drop=True),\n",
    "                                test_size=0.3,\n",
    "                                random_state=random_state)\n",
    "    \n",
    "    return train, test\n",
    "\n",
    "def over_sample(df, categories_smaller=100):\n",
    "    \"\"\"\n",
    "    Oversample for really small categories\n",
    "    \"\"\"\n",
    "    new_df = pd.DataFrame()\n",
    "    # smaller categories\n",
    "    small_categories = (df.CATEGORY_ID\n",
    "                        .value_counts()\n",
    "                        .reset_index()\n",
    "                        .query(\"CATEGORY_ID < 100\"))\n",
    "    \n",
    "    for _,cat_id, count in small_categories.itertuples():\n",
    "        append_another = categories_smaller-count\n",
    "        df_cat = df.query(\"CATEGORY_ID == @cat_id\")\n",
    "        new_df = new_df.append(df_cat.iloc[np.random.randint(df_cat.shape[0],size=append_another)])\n",
    "    \n",
    "    print(f\"Appending {new_df.shape[0]} of new samples\")\n",
    "    return pd.concat([df,new_df])\n",
    "\n"
   ]
  },
  {
   "cell_type": "code",
   "execution_count": 17,
   "id": "intensive-psychiatry",
   "metadata": {},
   "outputs": [],
   "source": [
    "subset = subset[[\"MATERIAL_ID\",\"NAME_BRIEF\",\"text\",\"CATEGORY_SEQ\", \"CATEGORY_PATH\", \"CATEGORY_ID\"]].copy()\n",
    "# subset = subset[subset.NAME.str.len() >9].copy().reset_index()\n",
    "# subset.NAME = subset.NAME.str.lower()\n",
    "# subset.NAME = subset.NAME.str.replace('\\n', '')"
   ]
  },
  {
   "cell_type": "code",
   "execution_count": 18,
   "id": "awful-stylus",
   "metadata": {},
   "outputs": [],
   "source": [
    "\n",
    "train, test = create_datasets(subset)\n",
    "test, validation = create_datasets(test)"
   ]
  },
  {
   "cell_type": "code",
   "execution_count": 19,
   "id": "considered-darkness",
   "metadata": {},
   "outputs": [
    {
     "data": {
      "text/plain": [
       "((168698, 6), (50610, 6), (21690, 6))"
      ]
     },
     "execution_count": 19,
     "metadata": {},
     "output_type": "execute_result"
    }
   ],
   "source": [
    "train.shape, test.shape, validation.shape"
   ]
  },
  {
   "cell_type": "code",
   "execution_count": 20,
   "id": "expensive-spending",
   "metadata": {},
   "outputs": [],
   "source": [
    "import csv\n",
    "def save_set(subset,name):\n",
    "    subset[[\"text\"]].to_csv(f'data/mt/categorizer.cs_cat.{name}.tsv', index=False, sep=\"$\", header=False,\n",
    "                           quoting = csv.QUOTE_NONE, escapechar = ' ')\n",
    "    subset[[\"NAME_BRIEF\"]].to_csv(f'data/mt/categorizer.cs_cat.{name}.tok.cs', index=False, sep=\"$\", header=False,\n",
    "                           quoting = csv.QUOTE_NONE, escapechar = ' ')\n",
    "    subset[[\"CATEGORY_SEQ\"]].to_csv(f'data/mt/categorizer.cs_cat.{name}.tok.cat', index=False, sep=\"$\", header=False,\n",
    "                           quoting = csv.QUOTE_NONE, escapechar = ' ')"
   ]
  },
  {
   "cell_type": "code",
   "execution_count": 21,
   "id": "prospective-contract",
   "metadata": {},
   "outputs": [],
   "source": [
    "!mkdir -p data/mt"
   ]
  },
  {
   "cell_type": "code",
   "execution_count": 24,
   "id": "mature-joining",
   "metadata": {},
   "outputs": [],
   "source": [
    "save_set(train, \"train\")\n",
    "save_set(test, \"test\")\n",
    "save_set(validation, \"valid\")"
   ]
  },
  {
   "cell_type": "code",
   "execution_count": 25,
   "id": "individual-clearing",
   "metadata": {
    "tags": []
   },
   "outputs": [
    {
     "name": "stdout",
     "output_type": "stream",
     "text": [
      "2022-01-04 15:10:53 | INFO | fairseq_cli.preprocess | Namespace(align_suffix=None, alignfile=None, all_gather_list_size=16384, bf16=False, bpe=None, checkpoint_shard_count=1, checkpoint_suffix='', cpu=False, criterion='cross_entropy', dataset_impl='mmap', destdir='data/mt-bin', empty_cache_freq=0, fp16=False, fp16_init_scale=128, fp16_no_flatten_grads=False, fp16_scale_tolerance=0.0, fp16_scale_window=None, joined_dictionary=False, log_format=None, log_interval=100, lr_scheduler='fixed', memory_efficient_bf16=False, memory_efficient_fp16=False, min_loss_scale=0.0001, model_parallel_size=1, no_progress_bar=False, nwordssrc=-1, nwordstgt=-1, only_source=False, optimizer=None, padding_factor=8, profile=False, quantization_config_path=None, scoring='bleu', seed=1, source_lang='cs', srcdict=None, target_lang='cat', task='translation', tensorboard_logdir=None, testpref='data/mt/categorizer.cs_cat.test.tok', tgtdict=None, threshold_loss_scale=None, thresholdsrc=3, thresholdtgt=3, tokenizer='moses', tpu=False, trainpref='data/mt/categorizer.cs_cat.train.tok', user_dir=None, validpref='data/mt/categorizer.cs_cat.valid.tok', workers=1)\n",
      "2022-01-04 15:11:09 | INFO | fairseq_cli.preprocess | [cs] Dictionary: 22888 types\n",
      "2022-01-04 15:11:29 | INFO | fairseq_cli.preprocess | [cs] data/mt/categorizer.cs_cat.train.tok.cs: 168698 sents, 4294289 tokens, 0.499% replaced by <unk>\n",
      "2022-01-04 15:11:29 | INFO | fairseq_cli.preprocess | [cs] Dictionary: 22888 types\n",
      "2022-01-04 15:11:31 | INFO | fairseq_cli.preprocess | [cs] data/mt/categorizer.cs_cat.valid.tok.cs: 21690 sents, 551425 tokens, 0.76% replaced by <unk>\n",
      "2022-01-04 15:11:31 | INFO | fairseq_cli.preprocess | [cs] Dictionary: 22888 types\n",
      "2022-01-04 15:11:37 | INFO | fairseq_cli.preprocess | [cs] data/mt/categorizer.cs_cat.test.tok.cs: 50610 sents, 1291409 tokens, 0.752% replaced by <unk>\n",
      "2022-01-04 15:11:37 | INFO | fairseq_cli.preprocess | [cat] Dictionary: 472 types\n",
      "2022-01-04 15:11:41 | INFO | fairseq_cli.preprocess | [cat] data/mt/categorizer.cs_cat.train.tok.cat: 168698 sents, 606520 tokens, 0.0% replaced by <unk>\n",
      "2022-01-04 15:11:41 | INFO | fairseq_cli.preprocess | [cat] Dictionary: 472 types\n",
      "2022-01-04 15:11:41 | INFO | fairseq_cli.preprocess | [cat] data/mt/categorizer.cs_cat.valid.tok.cat: 21690 sents, 77989 tokens, 0.0% replaced by <unk>\n",
      "2022-01-04 15:11:41 | INFO | fairseq_cli.preprocess | [cat] Dictionary: 472 types\n",
      "2022-01-04 15:11:42 | INFO | fairseq_cli.preprocess | [cat] data/mt/categorizer.cs_cat.test.tok.cat: 50610 sents, 181930 tokens, 0.0% replaced by <unk>\n",
      "2022-01-04 15:11:42 | INFO | fairseq_cli.preprocess | Wrote preprocessed data to data/mt-bin\n"
     ]
    }
   ],
   "source": [
    "!fairseq-preprocess \\\n",
    "    --source-lang cs \\\n",
    "    --target-lang cat \\\n",
    "    --trainpref data/mt/categorizer.cs_cat.train.tok \\\n",
    "    --validpref data/mt/categorizer.cs_cat.valid.tok \\\n",
    "    --testpref data/mt/categorizer.cs_cat.test.tok \\\n",
    "    --tokenizer moses \\\n",
    "    --destdir data/mt-bin \\\n",
    "    --thresholdsrc 3 \\\n",
    "    --thresholdtgt 3"
   ]
  },
  {
   "cell_type": "code",
   "execution_count": 54,
   "id": "searching-organization",
   "metadata": {
    "collapsed": true,
    "jupyter": {
     "outputs_hidden": true
    },
    "tags": []
   },
   "outputs": [
    {
     "name": "stdout",
     "output_type": "stream",
     "text": [
      "2022-01-04 17:30:40 | INFO | fairseq_cli.train | Namespace(activation_dropout=0.0, activation_fn='relu', adam_betas='(0.9, 0.98)', adam_eps=1e-08, adaptive_input=False, adaptive_softmax_cutoff=None, adaptive_softmax_dropout=0, all_gather_list_size=16384, arch='transformer', attention_dropout=0.0, batch_size=None, batch_size_valid=None, best_checkpoint_metric='loss', bf16=False, bpe=None, broadcast_buffers=False, bucket_cap_mb=25, checkpoint_shard_count=1, checkpoint_suffix='', clip_norm=0.0, cpu=False, criterion='label_smoothed_cross_entropy', cross_self_attention=False, curriculum=0, data='data/mt-bin', data_buffer_size=10, dataset_impl=None, ddp_backend='c10d', decoder_attention_heads=8, decoder_embed_dim=512, decoder_embed_path=None, decoder_ffn_embed_dim=512, decoder_input_dim=512, decoder_layerdrop=0, decoder_layers=1, decoder_layers_to_keep=None, decoder_learned_pos=False, decoder_normalize_before=False, decoder_output_dim=512, device_id=0, disable_validation=False, distributed_backend='nccl', distributed_init_method=None, distributed_no_spawn=False, distributed_num_procs=0, distributed_port=-1, distributed_rank=0, distributed_world_size=1, distributed_wrapper='DDP', dropout=0.2, empty_cache_freq=0, encoder_attention_heads=8, encoder_embed_dim=512, encoder_embed_path=None, encoder_ffn_embed_dim=512, encoder_layerdrop=0, encoder_layers=1, encoder_layers_to_keep=None, encoder_learned_pos=False, encoder_normalize_before=False, eval_bleu=False, eval_bleu_args=None, eval_bleu_detok='space', eval_bleu_detok_args=None, eval_bleu_print_samples=False, eval_bleu_remove_bpe=None, eval_tokenized_bleu=False, fast_stat_sync=False, find_unused_parameters=False, finetune_from_model=None, fix_batches_to_gpus=False, fixed_validation_seed=None, fp16=False, fp16_init_scale=128, fp16_no_flatten_grads=False, fp16_scale_tolerance=0.0, fp16_scale_window=None, gen_subset='test', ignore_prefix_size=0, keep_best_checkpoints=-1, keep_interval_updates=-1, keep_last_epochs=-1, label_smoothing=0.1, layernorm_embedding=False, left_pad_source='True', left_pad_target='False', load_alignments=False, localsgd_frequency=3, log_format=None, log_interval=100, lr=[0.0005], lr_scheduler='inverse_sqrt', max_epoch=30, max_source_positions=1024, max_target_positions=1024, max_tokens=4096, max_tokens_valid=4096, max_update=0, maximize_best_checkpoint_metric=False, memory_efficient_bf16=False, memory_efficient_fp16=False, min_loss_scale=0.0001, min_lr=-1.0, model_parallel_size=1, moses_no_dash_splits=False, moses_no_escape=False, moses_source_lang=None, moses_target_lang=None, no_cross_attention=False, no_epoch_checkpoints=False, no_last_checkpoints=False, no_progress_bar=False, no_save=False, no_save_optimizer_state=False, no_scale_embedding=False, no_seed_provided=False, no_token_positional_embeddings=False, nprocs_per_node=1, num_batch_buckets=0, num_shards=1, num_workers=1, optimizer='adam', optimizer_overrides='{}', patience=-1, pipeline_balance=None, pipeline_checkpoint='never', pipeline_chunks=0, pipeline_decoder_balance=None, pipeline_decoder_devices=None, pipeline_devices=None, pipeline_encoder_balance=None, pipeline_encoder_devices=None, pipeline_model_parallel=False, profile=False, quant_noise_pq=0, quant_noise_pq_block_size=8, quant_noise_scalar=0, quantization_config_path=None, report_accuracy=False, required_batch_size_multiple=8, required_seq_len_multiple=1, reset_dataloader=False, reset_lr_scheduler=False, reset_meters=False, reset_optimizer=False, restore_file='checkpoint_last.pt', save_dir='data/mt-ckpt-transformer', save_interval=1, save_interval_updates=0, scoring='bleu', seed=1, sentence_avg=False, shard_id=0, share_all_embeddings=False, share_decoder_input_output_embed=False, skip_invalid_size_inputs_valid_test=False, slowmo_algorithm='LocalSGD', slowmo_momentum=None, source_lang=None, stop_time_hours=0, target_lang=None, task='translation', tensorboard_logdir='data/mt-tensorboard', threshold_loss_scale=None, tie_adaptive_weights=False, tokenizer='moses', tpu=False, train_subset='train', truncate_source=False, update_freq=[1], upsample_primary=1, use_bmuf=False, use_old_adam=False, user_dir=None, valid_subset='valid', validate_after_updates=0, validate_interval=1, validate_interval_updates=0, warmup_init_lr=-1, warmup_updates=4000, weight_decay=0.0, zero_sharding='none')\n",
      "2022-01-04 17:30:40 | INFO | fairseq.tasks.translation | [cs] dictionary: 22888 types\n",
      "2022-01-04 17:30:40 | INFO | fairseq.tasks.translation | [cat] dictionary: 472 types\n",
      "2022-01-04 17:30:40 | INFO | fairseq.data.data_utils | loaded 21690 examples from: data/mt-bin/valid.cs-cat.cs\n",
      "2022-01-04 17:30:40 | INFO | fairseq.data.data_utils | loaded 21690 examples from: data/mt-bin/valid.cs-cat.cat\n",
      "2022-01-04 17:30:40 | INFO | fairseq.tasks.translation | data/mt-bin valid cs-cat 21690 examples\n",
      "2022-01-04 17:30:40 | INFO | fairseq_cli.train | TransformerModel(\n",
      "  (encoder): TransformerEncoder(\n",
      "    (dropout_module): FairseqDropout()\n",
      "    (embed_tokens): Embedding(22888, 512, padding_idx=1)\n",
      "    (embed_positions): SinusoidalPositionalEmbedding()\n",
      "    (layers): ModuleList(\n",
      "      (0): TransformerEncoderLayer(\n",
      "        (self_attn): MultiheadAttention(\n",
      "          (dropout_module): FairseqDropout()\n",
      "          (k_proj): Linear(in_features=512, out_features=512, bias=True)\n",
      "          (v_proj): Linear(in_features=512, out_features=512, bias=True)\n",
      "          (q_proj): Linear(in_features=512, out_features=512, bias=True)\n",
      "          (out_proj): Linear(in_features=512, out_features=512, bias=True)\n",
      "        )\n",
      "        (self_attn_layer_norm): LayerNorm((512,), eps=1e-05, elementwise_affine=True)\n",
      "        (dropout_module): FairseqDropout()\n",
      "        (activation_dropout_module): FairseqDropout()\n",
      "        (fc1): Linear(in_features=512, out_features=512, bias=True)\n",
      "        (fc2): Linear(in_features=512, out_features=512, bias=True)\n",
      "        (final_layer_norm): LayerNorm((512,), eps=1e-05, elementwise_affine=True)\n",
      "      )\n",
      "    )\n",
      "  )\n",
      "  (decoder): TransformerDecoder(\n",
      "    (dropout_module): FairseqDropout()\n",
      "    (embed_tokens): Embedding(472, 512, padding_idx=1)\n",
      "    (embed_positions): SinusoidalPositionalEmbedding()\n",
      "    (layers): ModuleList(\n",
      "      (0): TransformerDecoderLayer(\n",
      "        (dropout_module): FairseqDropout()\n",
      "        (self_attn): MultiheadAttention(\n",
      "          (dropout_module): FairseqDropout()\n",
      "          (k_proj): Linear(in_features=512, out_features=512, bias=True)\n",
      "          (v_proj): Linear(in_features=512, out_features=512, bias=True)\n",
      "          (q_proj): Linear(in_features=512, out_features=512, bias=True)\n",
      "          (out_proj): Linear(in_features=512, out_features=512, bias=True)\n",
      "        )\n",
      "        (activation_dropout_module): FairseqDropout()\n",
      "        (self_attn_layer_norm): LayerNorm((512,), eps=1e-05, elementwise_affine=True)\n",
      "        (encoder_attn): MultiheadAttention(\n",
      "          (dropout_module): FairseqDropout()\n",
      "          (k_proj): Linear(in_features=512, out_features=512, bias=True)\n",
      "          (v_proj): Linear(in_features=512, out_features=512, bias=True)\n",
      "          (q_proj): Linear(in_features=512, out_features=512, bias=True)\n",
      "          (out_proj): Linear(in_features=512, out_features=512, bias=True)\n",
      "        )\n",
      "        (encoder_attn_layer_norm): LayerNorm((512,), eps=1e-05, elementwise_affine=True)\n",
      "        (fc1): Linear(in_features=512, out_features=512, bias=True)\n",
      "        (fc2): Linear(in_features=512, out_features=512, bias=True)\n",
      "        (final_layer_norm): LayerNorm((512,), eps=1e-05, elementwise_affine=True)\n",
      "      )\n",
      "    )\n",
      "    (output_projection): Linear(in_features=512, out_features=472, bias=False)\n",
      "  )\n",
      ")\n",
      "2022-01-04 17:30:40 | INFO | fairseq_cli.train | task: translation (TranslationTask)\n",
      "2022-01-04 17:30:40 | INFO | fairseq_cli.train | model: transformer (TransformerModel)\n",
      "2022-01-04 17:30:40 | INFO | fairseq_cli.train | criterion: label_smoothed_cross_entropy (LabelSmoothedCrossEntropyCriterion)\n",
      "2022-01-04 17:30:40 | INFO | fairseq_cli.train | num. model params: 16409600 (num. trained: 16409600)\n",
      "2022-01-04 17:30:40 | INFO | fairseq_cli.train | training on 1 devices (GPUs/TPUs)\n",
      "2022-01-04 17:30:40 | INFO | fairseq_cli.train | max tokens per GPU = 4096 and max sentences per GPU = None\n",
      "2022-01-04 17:30:40 | INFO | fairseq.trainer | loaded checkpoint data/mt-ckpt-transformer/checkpoint_last.pt (epoch 7 @ 6480 updates)\n",
      "2022-01-04 17:30:40 | INFO | fairseq.trainer | loading train data for epoch 7\n",
      "2022-01-04 17:30:40 | INFO | fairseq.data.data_utils | loaded 168698 examples from: data/mt-bin/train.cs-cat.cs\n",
      "2022-01-04 17:30:40 | INFO | fairseq.data.data_utils | loaded 168698 examples from: data/mt-bin/train.cs-cat.cat\n",
      "2022-01-04 17:30:40 | INFO | fairseq.tasks.translation | data/mt-bin train cs-cat 168698 examples\n",
      "epoch 007:   0%|                                       | 0/1080 [00:00<?, ?it/s]2022-01-04 17:30:40 | WARNING | fairseq.logging.progress_bar | tensorboard not found, please install with: pip install tensorboardX\n",
      "2022-01-04 17:30:40 | INFO | fairseq.trainer | begin training epoch 7\n",
      "epoch 007: 100%|▉| 1079/1080 [08:29<00:00,  2.31it/s, loss=1.501, nll_loss=0.3022022-01-04 17:39:11 | INFO | fairseq_cli.train | begin validation on \"valid\" subset\n",
      "\n",
      "epoch 007 | valid on 'valid' subset:   0%|              | 0/140 [00:00<?, ?it/s]\u001b[A2022-01-04 17:39:11 | WARNING | fairseq.logging.progress_bar | tensorboard not found, please install with: pip install tensorboardX\n",
      "\n",
      "epoch 007 | valid on 'valid' subset:   1%|      | 1/140 [00:00<01:18,  1.77it/s]\u001b[A\n",
      "epoch 007 | valid on 'valid' subset:   1%|      | 2/140 [00:00<00:49,  2.80it/s]\u001b[A\n",
      "epoch 007 | valid on 'valid' subset:   2%|▏     | 3/140 [00:00<00:39,  3.45it/s]\u001b[A\n",
      "epoch 007 | valid on 'valid' subset:   3%|▏     | 4/140 [00:01<00:34,  3.97it/s]\u001b[A\n",
      "epoch 007 | valid on 'valid' subset:   4%|▏     | 5/140 [00:01<00:31,  4.35it/s]\u001b[A\n",
      "epoch 007 | valid on 'valid' subset:   4%|▎     | 6/140 [00:01<00:28,  4.66it/s]\u001b[A\n",
      "epoch 007 | valid on 'valid' subset:   5%|▎     | 7/140 [00:01<00:24,  5.36it/s]\u001b[A\n",
      "epoch 007 | valid on 'valid' subset:   6%|▎     | 8/140 [00:01<00:24,  5.48it/s]\u001b[A\n",
      "epoch 007 | valid on 'valid' subset:   6%|▍     | 9/140 [00:01<00:21,  6.23it/s]\u001b[A\n",
      "epoch 007 | valid on 'valid' subset:   7%|▎    | 10/140 [00:02<00:18,  7.04it/s]\u001b[A\n",
      "epoch 007 | valid on 'valid' subset:   8%|▍    | 11/140 [00:02<00:16,  7.60it/s]\u001b[A\n",
      "epoch 007 | valid on 'valid' subset:   9%|▍    | 12/140 [00:02<00:15,  8.17it/s]\u001b[A\n",
      "epoch 007 | valid on 'valid' subset:   9%|▍    | 13/140 [00:02<00:14,  8.52it/s]\u001b[A\n",
      "epoch 007 | valid on 'valid' subset:  10%|▌    | 14/140 [00:02<00:16,  7.48it/s]\u001b[A\n",
      "epoch 007 | valid on 'valid' subset:  11%|▌    | 15/140 [00:02<00:15,  7.94it/s]\u001b[A\n",
      "epoch 007 | valid on 'valid' subset:  11%|▌    | 16/140 [00:02<00:14,  8.40it/s]\u001b[A\n",
      "epoch 007 | valid on 'valid' subset:  12%|▌    | 17/140 [00:02<00:14,  8.72it/s]\u001b[A\n",
      "epoch 007 | valid on 'valid' subset:  13%|▋    | 18/140 [00:02<00:13,  9.07it/s]\u001b[A\n",
      "epoch 007 | valid on 'valid' subset:  14%|▋    | 19/140 [00:03<00:13,  9.11it/s]\u001b[A\n",
      "epoch 007 | valid on 'valid' subset:  15%|▊    | 21/140 [00:03<00:12,  9.53it/s]\u001b[A\n",
      "epoch 007 | valid on 'valid' subset:  16%|▊    | 23/140 [00:03<00:11,  9.78it/s]\u001b[A\n",
      "epoch 007 | valid on 'valid' subset:  18%|▉    | 25/140 [00:03<00:11,  9.82it/s]\u001b[A\n",
      "epoch 007 | valid on 'valid' subset:  19%|▉    | 27/140 [00:03<00:11,  9.94it/s]\u001b[A\n",
      "epoch 007 | valid on 'valid' subset:  21%|█    | 29/140 [00:04<00:11, 10.02it/s]\u001b[A\n",
      "epoch 007 | valid on 'valid' subset:  22%|█    | 31/140 [00:04<00:10, 10.06it/s]\u001b[A\n",
      "epoch 007 | valid on 'valid' subset:  24%|█▏   | 33/140 [00:04<00:10, 10.01it/s]\u001b[A\n",
      "epoch 007 | valid on 'valid' subset:  25%|█▎   | 35/140 [00:04<00:10, 10.10it/s]\u001b[A\n",
      "epoch 007 | valid on 'valid' subset:  26%|█▎   | 37/140 [00:04<00:10, 10.19it/s]\u001b[A\n",
      "epoch 007 | valid on 'valid' subset:  28%|█▍   | 39/140 [00:05<00:10, 10.08it/s]\u001b[A\n",
      "epoch 007 | valid on 'valid' subset:  29%|█▍   | 41/140 [00:05<00:09, 10.09it/s]\u001b[A\n",
      "epoch 007 | valid on 'valid' subset:  31%|█▌   | 43/140 [00:05<00:09, 10.11it/s]\u001b[A\n",
      "epoch 007 | valid on 'valid' subset:  32%|█▌   | 45/140 [00:05<00:09, 10.11it/s]\u001b[A\n",
      "epoch 007 | valid on 'valid' subset:  34%|█▋   | 47/140 [00:05<00:09, 10.16it/s]\u001b[A\n",
      "epoch 007 | valid on 'valid' subset:  35%|█▊   | 49/140 [00:05<00:08, 11.26it/s]\u001b[A\n",
      "epoch 007 | valid on 'valid' subset:  36%|█▊   | 51/140 [00:06<00:08, 11.07it/s]\u001b[A\n",
      "epoch 007 | valid on 'valid' subset:  38%|█▉   | 53/140 [00:06<00:07, 10.89it/s]\u001b[A\n",
      "epoch 007 | valid on 'valid' subset:  39%|█▉   | 55/140 [00:06<00:07, 10.81it/s]\u001b[A\n",
      "epoch 007 | valid on 'valid' subset:  41%|██   | 57/140 [00:06<00:07, 10.45it/s]\u001b[A\n",
      "epoch 007 | valid on 'valid' subset:  42%|██   | 59/140 [00:06<00:06, 11.60it/s]\u001b[A\n",
      "epoch 007 | valid on 'valid' subset:  44%|██▏  | 61/140 [00:07<00:06, 11.31it/s]\u001b[A\n",
      "epoch 007 | valid on 'valid' subset:  45%|██▎  | 63/140 [00:07<00:07, 10.91it/s]\u001b[A\n",
      "epoch 007 | valid on 'valid' subset:  46%|██▎  | 65/140 [00:07<00:07, 10.36it/s]\u001b[A\n",
      "epoch 007 | valid on 'valid' subset:  48%|██▍  | 67/140 [00:07<00:07,  9.25it/s]\u001b[A\n",
      "epoch 007 | valid on 'valid' subset:  49%|██▍  | 69/140 [00:07<00:06, 10.43it/s]\u001b[A\n",
      "epoch 007 | valid on 'valid' subset:  51%|██▌  | 71/140 [00:08<00:06, 10.52it/s]\u001b[A\n",
      "epoch 007 | valid on 'valid' subset:  52%|██▌  | 73/140 [00:08<00:06, 10.70it/s]\u001b[A\n",
      "epoch 007 | valid on 'valid' subset:  54%|██▋  | 75/140 [00:08<00:06, 10.41it/s]\u001b[A\n",
      "epoch 007 | valid on 'valid' subset:  55%|██▊  | 77/140 [00:08<00:06, 10.01it/s]\u001b[A\n",
      "epoch 007 | valid on 'valid' subset:  56%|██▊  | 79/140 [00:08<00:05, 10.23it/s]\u001b[A\n",
      "epoch 007 | valid on 'valid' subset:  58%|██▉  | 81/140 [00:09<00:05, 10.33it/s]\u001b[A\n",
      "epoch 007 | valid on 'valid' subset:  59%|██▉  | 83/140 [00:09<00:05, 11.33it/s]\u001b[A\n",
      "epoch 007 | valid on 'valid' subset:  61%|███  | 85/140 [00:09<00:04, 11.23it/s]\u001b[A\n",
      "epoch 007 | valid on 'valid' subset:  62%|███  | 87/140 [00:09<00:04, 10.84it/s]\u001b[A\n",
      "epoch 007 | valid on 'valid' subset:  64%|███▏ | 89/140 [00:09<00:04, 10.29it/s]\u001b[A\n",
      "epoch 007 | valid on 'valid' subset:  65%|███▎ | 91/140 [00:10<00:05,  9.25it/s]\u001b[A\n",
      "epoch 007 | valid on 'valid' subset:  66%|███▎ | 92/140 [00:10<00:05,  9.22it/s]\u001b[A\n",
      "epoch 007 | valid on 'valid' subset:  66%|███▎ | 93/140 [00:10<00:05,  9.20it/s]\u001b[A\n",
      "epoch 007 | valid on 'valid' subset:  67%|███▎ | 94/140 [00:10<00:04,  9.24it/s]\u001b[A\n",
      "epoch 007 | valid on 'valid' subset:  68%|███▍ | 95/140 [00:10<00:04,  9.20it/s]\u001b[A\n",
      "epoch 007 | valid on 'valid' subset:  69%|███▍ | 96/140 [00:10<00:05,  8.24it/s]\u001b[A\n",
      "epoch 007 | valid on 'valid' subset:  69%|███▍ | 97/140 [00:10<00:05,  8.46it/s]\u001b[A\n",
      "epoch 007 | valid on 'valid' subset:  70%|███▌ | 98/140 [00:10<00:04,  8.70it/s]\u001b[A\n",
      "epoch 007 | valid on 'valid' subset:  71%|███▌ | 99/140 [00:10<00:04,  8.82it/s]\u001b[A\n",
      "epoch 007 | valid on 'valid' subset:  71%|██▊ | 100/140 [00:11<00:04,  8.98it/s]\u001b[A\n",
      "epoch 007 | valid on 'valid' subset:  73%|██▉ | 102/140 [00:11<00:03,  9.51it/s]\u001b[A\n",
      "epoch 007 | valid on 'valid' subset:  74%|██▉ | 104/140 [00:11<00:03,  9.91it/s]\u001b[A\n",
      "epoch 007 | valid on 'valid' subset:  76%|███ | 106/140 [00:11<00:02, 11.41it/s]\u001b[A\n",
      "epoch 007 | valid on 'valid' subset:  77%|███ | 108/140 [00:11<00:02, 11.06it/s]\u001b[A\n",
      "epoch 007 | valid on 'valid' subset:  79%|███▏| 110/140 [00:11<00:02, 10.90it/s]\u001b[A\n",
      "epoch 007 | valid on 'valid' subset:  80%|███▏| 112/140 [00:12<00:02, 10.90it/s]\u001b[A\n",
      "epoch 007 | valid on 'valid' subset:  81%|███▎| 114/140 [00:12<00:02, 12.01it/s]\u001b[A\n",
      "epoch 007 | valid on 'valid' subset:  83%|███▎| 116/140 [00:12<00:02, 11.70it/s]\u001b[A\n",
      "epoch 007 | valid on 'valid' subset:  84%|███▎| 118/140 [00:12<00:01, 12.73it/s]\u001b[A\n",
      "epoch 007 | valid on 'valid' subset:  86%|███▍| 120/140 [00:12<00:01, 11.71it/s]\u001b[A\n",
      "epoch 007 | valid on 'valid' subset:  87%|███▍| 122/140 [00:12<00:01, 11.56it/s]\u001b[A\n",
      "epoch 007 | valid on 'valid' subset:  89%|███▌| 124/140 [00:13<00:01, 11.22it/s]\u001b[A\n",
      "epoch 007 | valid on 'valid' subset:  90%|███▌| 126/140 [00:13<00:01, 12.29it/s]\u001b[A\n",
      "epoch 007 | valid on 'valid' subset:  91%|███▋| 128/140 [00:13<00:00, 12.02it/s]\u001b[A\n",
      "epoch 007 | valid on 'valid' subset:  93%|███▋| 130/140 [00:13<00:00, 11.52it/s]\u001b[A\n",
      "epoch 007 | valid on 'valid' subset:  94%|███▊| 132/140 [00:13<00:00, 12.47it/s]\u001b[A\n",
      "epoch 007 | valid on 'valid' subset:  96%|███▊| 134/140 [00:13<00:00, 12.25it/s]\u001b[A\n",
      "epoch 007 | valid on 'valid' subset:  97%|███▉| 136/140 [00:14<00:00, 13.43it/s]\u001b[A\n",
      "epoch 007 | valid on 'valid' subset:  99%|███▉| 138/140 [00:14<00:00, 14.12it/s]\u001b[A\n",
      "epoch 007 | valid on 'valid' subset: 100%|████| 140/140 [00:14<00:00, 13.67it/s]\u001b[A\n",
      "                                                                                \u001b[A2022-01-04 17:39:25 | INFO | valid | epoch 007 | valid on 'valid' subset | loss 1.573 | nll_loss 0.27 | ppl 1.21 | wps 5505.2 | wpb 557.1 | bsz 154.9 | num_updates 7560 | best_loss 1.573\n",
      "2022-01-04 17:39:25 | INFO | fairseq_cli.train | begin save checkpoint\n",
      "2022-01-04 17:39:27 | INFO | fairseq.checkpoint_utils | saved checkpoint data/mt-ckpt-transformer/checkpoint7.pt (epoch 7 @ 7560 updates, score 1.573) (writing took 2.028099676594138 seconds)\n",
      "2022-01-04 17:39:27 | INFO | fairseq_cli.train | end of epoch 7 (average epoch stats below)\n",
      "2022-01-04 17:39:27 | INFO | train | epoch 007 | loss 1.521 | nll_loss 0.319 | ppl 1.25 | wps 1183 | ups 2.11 | wpb 561.6 | bsz 156.2 | num_updates 7560 | lr 0.000363696 | gnorm 0.427 | train_wall 972 | wall 0\n",
      "epoch 008:   0%|                                       | 0/1080 [00:00<?, ?it/s]2022-01-04 17:39:27 | WARNING | fairseq.logging.progress_bar | tensorboard not found, please install with: pip install tensorboardX\n",
      "2022-01-04 17:39:27 | INFO | fairseq.trainer | begin training epoch 8\n",
      "epoch 008: 100%|▉| 1079/1080 [08:16<00:00,  2.19it/s, loss=1.496, nll_loss=0.2972022-01-04 17:47:44 | INFO | fairseq_cli.train | begin validation on \"valid\" subset\n",
      "\n",
      "epoch 008 | valid on 'valid' subset:   0%|              | 0/140 [00:00<?, ?it/s]\u001b[A2022-01-04 17:47:44 | WARNING | fairseq.logging.progress_bar | tensorboard not found, please install with: pip install tensorboardX\n",
      "\n",
      "epoch 008 | valid on 'valid' subset:   1%|      | 1/140 [00:00<01:18,  1.76it/s]\u001b[A\n",
      "epoch 008 | valid on 'valid' subset:   1%|      | 2/140 [00:00<00:57,  2.39it/s]\u001b[A\n",
      "epoch 008 | valid on 'valid' subset:   2%|▏     | 3/140 [00:01<00:47,  2.89it/s]\u001b[A\n",
      "epoch 008 | valid on 'valid' subset:   3%|▏     | 4/140 [00:01<00:39,  3.40it/s]\u001b[A\n",
      "epoch 008 | valid on 'valid' subset:   4%|▏     | 5/140 [00:01<00:34,  3.92it/s]\u001b[A\n",
      "epoch 008 | valid on 'valid' subset:   4%|▎     | 6/140 [00:01<00:29,  4.62it/s]\u001b[A\n",
      "epoch 008 | valid on 'valid' subset:   5%|▎     | 7/140 [00:01<00:27,  4.83it/s]\u001b[A\n",
      "epoch 008 | valid on 'valid' subset:   6%|▎     | 8/140 [00:01<00:23,  5.71it/s]\u001b[A\n",
      "epoch 008 | valid on 'valid' subset:   6%|▍     | 9/140 [00:02<00:22,  5.72it/s]\u001b[A\n",
      "epoch 008 | valid on 'valid' subset:   7%|▎    | 10/140 [00:02<00:20,  6.42it/s]\u001b[A\n",
      "epoch 008 | valid on 'valid' subset:   8%|▍    | 11/140 [00:02<00:21,  6.14it/s]\u001b[A\n",
      "epoch 008 | valid on 'valid' subset:   9%|▍    | 12/140 [00:02<00:19,  6.57it/s]\u001b[A\n",
      "epoch 008 | valid on 'valid' subset:   9%|▍    | 13/140 [00:02<00:20,  6.30it/s]\u001b[A\n",
      "epoch 008 | valid on 'valid' subset:  10%|▌    | 14/140 [00:02<00:18,  6.71it/s]\u001b[A\n",
      "epoch 008 | valid on 'valid' subset:  11%|▌    | 15/140 [00:03<00:19,  6.32it/s]\u001b[A\n",
      "epoch 008 | valid on 'valid' subset:  11%|▌    | 16/140 [00:03<00:18,  6.64it/s]\u001b[A\n",
      "epoch 008 | valid on 'valid' subset:  12%|▌    | 17/140 [00:03<00:19,  6.36it/s]\u001b[A\n",
      "epoch 008 | valid on 'valid' subset:  13%|▋    | 18/140 [00:03<00:18,  6.71it/s]\u001b[A\n",
      "epoch 008 | valid on 'valid' subset:  14%|▋    | 19/140 [00:03<00:18,  6.37it/s]\u001b[A\n",
      "epoch 008 | valid on 'valid' subset:  14%|▋    | 20/140 [00:03<00:17,  6.86it/s]\u001b[A\n",
      "epoch 008 | valid on 'valid' subset:  15%|▊    | 21/140 [00:03<00:18,  6.51it/s]\u001b[A\n",
      "epoch 008 | valid on 'valid' subset:  16%|▊    | 22/140 [00:04<00:16,  7.03it/s]\u001b[A\n",
      "epoch 008 | valid on 'valid' subset:  16%|▊    | 23/140 [00:04<00:17,  6.64it/s]\u001b[A\n",
      "epoch 008 | valid on 'valid' subset:  17%|▊    | 24/140 [00:04<00:16,  7.08it/s]\u001b[A\n",
      "epoch 008 | valid on 'valid' subset:  18%|▉    | 25/140 [00:04<00:15,  7.43it/s]\u001b[A\n",
      "epoch 008 | valid on 'valid' subset:  19%|▉    | 26/140 [00:04<00:16,  6.95it/s]\u001b[A\n",
      "epoch 008 | valid on 'valid' subset:  19%|▉    | 27/140 [00:04<00:15,  7.30it/s]\u001b[A\n",
      "epoch 008 | valid on 'valid' subset:  20%|█    | 28/140 [00:04<00:14,  7.58it/s]\u001b[A\n",
      "epoch 008 | valid on 'valid' subset:  21%|█    | 29/140 [00:05<00:15,  6.97it/s]\u001b[A\n",
      "epoch 008 | valid on 'valid' subset:  21%|█    | 30/140 [00:05<00:14,  7.38it/s]\u001b[A\n",
      "epoch 008 | valid on 'valid' subset:  22%|█    | 31/140 [00:05<00:15,  6.85it/s]\u001b[A\n",
      "epoch 008 | valid on 'valid' subset:  23%|█▏   | 32/140 [00:05<00:14,  7.30it/s]\u001b[A\n",
      "epoch 008 | valid on 'valid' subset:  24%|█▏   | 33/140 [00:05<00:14,  7.62it/s]\u001b[A\n",
      "epoch 008 | valid on 'valid' subset:  24%|█▏   | 34/140 [00:05<00:13,  8.00it/s]\u001b[A\n",
      "epoch 008 | valid on 'valid' subset:  25%|█▎   | 35/140 [00:05<00:14,  7.22it/s]\u001b[A\n",
      "epoch 008 | valid on 'valid' subset:  26%|█▎   | 36/140 [00:05<00:13,  7.61it/s]\u001b[A\n",
      "epoch 008 | valid on 'valid' subset:  26%|█▎   | 37/140 [00:06<00:12,  7.95it/s]\u001b[A\n",
      "epoch 008 | valid on 'valid' subset:  27%|█▎   | 38/140 [00:06<00:13,  7.30it/s]\u001b[A\n",
      "epoch 008 | valid on 'valid' subset:  28%|█▍   | 39/140 [00:06<00:13,  7.73it/s]\u001b[A\n",
      "epoch 008 | valid on 'valid' subset:  29%|█▍   | 41/140 [00:06<00:11,  8.77it/s]\u001b[A\n",
      "epoch 008 | valid on 'valid' subset:  30%|█▌   | 42/140 [00:06<00:10,  8.98it/s]\u001b[A\n",
      "epoch 008 | valid on 'valid' subset:  31%|█▌   | 44/140 [00:06<00:10,  9.50it/s]\u001b[A\n",
      "epoch 008 | valid on 'valid' subset:  32%|█▌   | 45/140 [00:06<00:09,  9.56it/s]\u001b[A\n",
      "epoch 008 | valid on 'valid' subset:  34%|█▋   | 47/140 [00:07<00:09,  9.89it/s]\u001b[A\n",
      "epoch 008 | valid on 'valid' subset:  35%|█▊   | 49/140 [00:07<00:08, 11.13it/s]\u001b[A\n",
      "epoch 008 | valid on 'valid' subset:  36%|█▊   | 51/140 [00:07<00:09,  9.37it/s]\u001b[A\n",
      "epoch 008 | valid on 'valid' subset:  37%|█▊   | 52/140 [00:07<00:09,  9.25it/s]\u001b[A\n",
      "epoch 008 | valid on 'valid' subset:  38%|█▉   | 53/140 [00:07<00:10,  8.27it/s]\u001b[A\n",
      "epoch 008 | valid on 'valid' subset:  39%|█▉   | 54/140 [00:07<00:10,  8.46it/s]\u001b[A\n",
      "epoch 008 | valid on 'valid' subset:  39%|█▉   | 55/140 [00:08<00:09,  8.57it/s]\u001b[A\n",
      "epoch 008 | valid on 'valid' subset:  40%|██   | 56/140 [00:08<00:09,  8.59it/s]\u001b[A\n",
      "epoch 008 | valid on 'valid' subset:  41%|██   | 57/140 [00:08<00:09,  8.77it/s]\u001b[A\n",
      "epoch 008 | valid on 'valid' subset:  41%|██   | 58/140 [00:08<00:10,  7.83it/s]\u001b[A\n",
      "epoch 008 | valid on 'valid' subset:  42%|██   | 59/140 [00:08<00:09,  8.13it/s]\u001b[A\n",
      "epoch 008 | valid on 'valid' subset:  43%|██▏  | 60/140 [00:08<00:09,  8.50it/s]\u001b[A\n",
      "epoch 008 | valid on 'valid' subset:  44%|██▏  | 62/140 [00:08<00:08,  9.31it/s]\u001b[A\n",
      "epoch 008 | valid on 'valid' subset:  46%|██▎  | 64/140 [00:09<00:07,  9.77it/s]\u001b[A\n",
      "epoch 008 | valid on 'valid' subset:  47%|██▎  | 66/140 [00:09<00:06, 11.15it/s]\u001b[A\n",
      "epoch 008 | valid on 'valid' subset:  49%|██▍  | 68/140 [00:09<00:06, 11.01it/s]\u001b[A\n",
      "epoch 008 | valid on 'valid' subset:  50%|██▌  | 70/140 [00:09<00:06, 10.50it/s]\u001b[A\n",
      "epoch 008 | valid on 'valid' subset:  51%|██▌  | 72/140 [00:09<00:06, 10.45it/s]\u001b[A\n",
      "epoch 008 | valid on 'valid' subset:  53%|██▋  | 74/140 [00:09<00:06, 10.16it/s]\u001b[A\n",
      "epoch 008 | valid on 'valid' subset:  54%|██▋  | 76/140 [00:10<00:07,  9.06it/s]\u001b[A\n",
      "epoch 008 | valid on 'valid' subset:  55%|██▊  | 77/140 [00:10<00:06,  9.02it/s]\u001b[A\n",
      "epoch 008 | valid on 'valid' subset:  56%|██▊  | 78/140 [00:10<00:06,  9.05it/s]\u001b[A\n",
      "epoch 008 | valid on 'valid' subset:  56%|██▊  | 79/140 [00:10<00:07,  8.08it/s]\u001b[A\n",
      "epoch 008 | valid on 'valid' subset:  57%|██▊  | 80/140 [00:10<00:07,  8.30it/s]\u001b[A\n",
      "epoch 008 | valid on 'valid' subset:  58%|██▉  | 81/140 [00:10<00:06,  8.58it/s]\u001b[A\n",
      "epoch 008 | valid on 'valid' subset:  59%|██▉  | 82/140 [00:10<00:06,  8.85it/s]\u001b[A\n",
      "epoch 008 | valid on 'valid' subset:  59%|██▉  | 83/140 [00:11<00:06,  9.03it/s]\u001b[A\n",
      "epoch 008 | valid on 'valid' subset:  60%|███  | 84/140 [00:11<00:06,  9.18it/s]\u001b[A\n",
      "epoch 008 | valid on 'valid' subset:  61%|███  | 85/140 [00:11<00:05,  9.38it/s]\u001b[A\n",
      "epoch 008 | valid on 'valid' subset:  61%|███  | 86/140 [00:11<00:06,  7.97it/s]\u001b[A\n",
      "epoch 008 | valid on 'valid' subset:  62%|███  | 87/140 [00:11<00:06,  8.19it/s]\u001b[A\n",
      "epoch 008 | valid on 'valid' subset:  63%|███▏ | 88/140 [00:11<00:06,  8.31it/s]\u001b[A\n",
      "epoch 008 | valid on 'valid' subset:  64%|███▏ | 89/140 [00:11<00:06,  7.37it/s]\u001b[A\n",
      "epoch 008 | valid on 'valid' subset:  64%|███▏ | 90/140 [00:11<00:06,  7.71it/s]\u001b[A\n",
      "epoch 008 | valid on 'valid' subset:  65%|███▎ | 91/140 [00:12<00:06,  7.98it/s]\u001b[A\n",
      "epoch 008 | valid on 'valid' subset:  66%|███▎ | 92/140 [00:12<00:06,  7.23it/s]\u001b[A\n",
      "epoch 008 | valid on 'valid' subset:  66%|███▎ | 93/140 [00:12<00:05,  7.84it/s]\u001b[A\n",
      "epoch 008 | valid on 'valid' subset:  67%|███▎ | 94/140 [00:12<00:05,  8.31it/s]\u001b[A\n",
      "epoch 008 | valid on 'valid' subset:  68%|███▍ | 95/140 [00:12<00:05,  8.44it/s]\u001b[A\n",
      "epoch 008 | valid on 'valid' subset:  69%|███▍ | 96/140 [00:12<00:05,  8.53it/s]\u001b[A\n",
      "epoch 008 | valid on 'valid' subset:  69%|███▍ | 97/140 [00:12<00:05,  7.49it/s]\u001b[A\n",
      "epoch 008 | valid on 'valid' subset:  70%|███▌ | 98/140 [00:12<00:05,  7.84it/s]\u001b[A\n",
      "epoch 008 | valid on 'valid' subset:  71%|███▌ | 99/140 [00:13<00:05,  8.11it/s]\u001b[A\n",
      "epoch 008 | valid on 'valid' subset:  71%|██▊ | 100/140 [00:13<00:05,  7.20it/s]\u001b[A\n",
      "epoch 008 | valid on 'valid' subset:  72%|██▉ | 101/140 [00:13<00:05,  7.61it/s]\u001b[A\n",
      "epoch 008 | valid on 'valid' subset:  73%|██▉ | 102/140 [00:13<00:05,  6.90it/s]\u001b[A\n",
      "epoch 008 | valid on 'valid' subset:  74%|██▉ | 103/140 [00:13<00:05,  7.28it/s]\u001b[A\n",
      "epoch 008 | valid on 'valid' subset:  74%|██▉ | 104/140 [00:13<00:04,  7.64it/s]\u001b[A\n",
      "epoch 008 | valid on 'valid' subset:  75%|███ | 105/140 [00:13<00:05,  6.92it/s]\u001b[A\n",
      "epoch 008 | valid on 'valid' subset:  76%|███ | 106/140 [00:14<00:04,  7.38it/s]\u001b[A\n",
      "epoch 008 | valid on 'valid' subset:  76%|███ | 107/140 [00:14<00:04,  7.83it/s]\u001b[A\n",
      "epoch 008 | valid on 'valid' subset:  77%|███ | 108/140 [00:14<00:03,  8.24it/s]\u001b[A\n",
      "epoch 008 | valid on 'valid' subset:  78%|███ | 109/140 [00:14<00:04,  7.55it/s]\u001b[A\n",
      "epoch 008 | valid on 'valid' subset:  79%|███▏| 110/140 [00:14<00:03,  7.97it/s]\u001b[A\n",
      "epoch 008 | valid on 'valid' subset:  79%|███▏| 111/140 [00:14<00:03,  8.27it/s]\u001b[A\n",
      "epoch 008 | valid on 'valid' subset:  80%|███▏| 112/140 [00:14<00:03,  8.47it/s]\u001b[A\n",
      "epoch 008 | valid on 'valid' subset:  81%|███▏| 113/140 [00:14<00:03,  8.73it/s]\u001b[A\n",
      "epoch 008 | valid on 'valid' subset:  81%|███▎| 114/140 [00:14<00:02,  8.91it/s]\u001b[A\n",
      "epoch 008 | valid on 'valid' subset:  82%|███▎| 115/140 [00:15<00:03,  7.96it/s]\u001b[A\n",
      "epoch 008 | valid on 'valid' subset:  83%|███▎| 116/140 [00:15<00:02,  8.40it/s]\u001b[A\n",
      "epoch 008 | valid on 'valid' subset:  84%|███▎| 117/140 [00:15<00:02,  8.66it/s]\u001b[A\n",
      "epoch 008 | valid on 'valid' subset:  84%|███▎| 118/140 [00:15<00:02,  8.84it/s]\u001b[A\n",
      "epoch 008 | valid on 'valid' subset:  85%|███▍| 119/140 [00:15<00:02,  8.97it/s]\u001b[A\n",
      "epoch 008 | valid on 'valid' subset:  86%|███▍| 120/140 [00:15<00:02,  9.04it/s]\u001b[A\n",
      "epoch 008 | valid on 'valid' subset:  86%|███▍| 121/140 [00:15<00:02,  9.10it/s]\u001b[A\n",
      "epoch 008 | valid on 'valid' subset:  87%|███▍| 122/140 [00:15<00:02,  7.92it/s]\u001b[A\n",
      "epoch 008 | valid on 'valid' subset:  88%|███▌| 123/140 [00:16<00:02,  8.29it/s]\u001b[A\n",
      "epoch 008 | valid on 'valid' subset:  89%|███▌| 124/140 [00:16<00:01,  8.52it/s]\u001b[A\n",
      "epoch 008 | valid on 'valid' subset:  89%|███▌| 125/140 [00:16<00:01,  8.77it/s]\u001b[A\n",
      "epoch 008 | valid on 'valid' subset:  90%|███▌| 126/140 [00:16<00:01,  8.94it/s]\u001b[A\n",
      "epoch 008 | valid on 'valid' subset:  91%|███▋| 127/140 [00:16<00:01,  7.91it/s]\u001b[A\n",
      "epoch 008 | valid on 'valid' subset:  91%|███▋| 128/140 [00:16<00:01,  8.28it/s]\u001b[A\n",
      "epoch 008 | valid on 'valid' subset:  92%|███▋| 129/140 [00:16<00:01,  8.57it/s]\u001b[A\n",
      "epoch 008 | valid on 'valid' subset:  93%|███▋| 130/140 [00:16<00:01,  8.63it/s]\u001b[A\n",
      "epoch 008 | valid on 'valid' subset:  94%|███▋| 131/140 [00:16<00:01,  8.79it/s]\u001b[A\n",
      "epoch 008 | valid on 'valid' subset:  94%|███▊| 132/140 [00:17<00:00,  8.93it/s]\u001b[A\n",
      "epoch 008 | valid on 'valid' subset:  96%|███▊| 134/140 [00:17<00:00,  9.86it/s]\u001b[A\n",
      "epoch 008 | valid on 'valid' subset:  97%|███▉| 136/140 [00:17<00:00, 11.77it/s]\u001b[A\n",
      "epoch 008 | valid on 'valid' subset:  99%|███▉| 138/140 [00:17<00:00, 11.49it/s]\u001b[A\n",
      "epoch 008 | valid on 'valid' subset: 100%|████| 140/140 [00:17<00:00, 11.42it/s]\u001b[A\n",
      "                                                                                \u001b[A2022-01-04 17:48:02 | INFO | valid | epoch 008 | valid on 'valid' subset | loss 1.571 | nll_loss 0.271 | ppl 1.21 | wps 4418.4 | wpb 557.1 | bsz 154.9 | num_updates 8640 | best_loss 1.571\n",
      "2022-01-04 17:48:02 | INFO | fairseq_cli.train | begin save checkpoint\n",
      "2022-01-04 17:48:04 | INFO | fairseq.checkpoint_utils | saved checkpoint data/mt-ckpt-transformer/checkpoint8.pt (epoch 8 @ 8640 updates, score 1.571) (writing took 2.067474908195436 seconds)\n",
      "2022-01-04 17:48:04 | INFO | fairseq_cli.train | end of epoch 8 (average epoch stats below)\n",
      "2022-01-04 17:48:04 | INFO | train | epoch 008 | loss 1.496 | nll_loss 0.296 | ppl 1.23 | wps 1172.8 | ups 2.09 | wpb 561.6 | bsz 156.2 | num_updates 8640 | lr 0.000340207 | gnorm 0.391 | train_wall 486 | wall 0\n",
      "epoch 009:   0%|                                       | 0/1080 [00:00<?, ?it/s]2022-01-04 17:48:04 | WARNING | fairseq.logging.progress_bar | tensorboard not found, please install with: pip install tensorboardX\n",
      "2022-01-04 17:48:04 | INFO | fairseq.trainer | begin training epoch 9\n",
      "epoch 009: 100%|▉| 1079/1080 [11:53<00:01,  1.16s/it, loss=1.491, nll_loss=0.2922022-01-04 17:59:58 | INFO | fairseq_cli.train | begin validation on \"valid\" subset\n",
      "\n",
      "epoch 009 | valid on 'valid' subset:   0%|              | 0/140 [00:00<?, ?it/s]\u001b[A2022-01-04 17:59:59 | WARNING | fairseq.logging.progress_bar | tensorboard not found, please install with: pip install tensorboardX\n",
      "\n",
      "epoch 009 | valid on 'valid' subset:   1%|      | 1/140 [00:01<03:13,  1.39s/it]\u001b[A\n",
      "epoch 009 | valid on 'valid' subset:   1%|      | 2/140 [00:02<02:32,  1.10s/it]\u001b[A\n",
      "epoch 009 | valid on 'valid' subset:   2%|▏     | 3/140 [00:02<01:58,  1.15it/s]\u001b[A\n",
      "epoch 009 | valid on 'valid' subset:   3%|▏     | 4/140 [00:03<01:48,  1.25it/s]\u001b[A\n",
      "epoch 009 | valid on 'valid' subset:   4%|▏     | 5/140 [00:03<01:23,  1.61it/s]\u001b[A\n",
      "epoch 009 | valid on 'valid' subset:   4%|▎     | 6/140 [00:04<01:08,  1.95it/s]\u001b[A\n",
      "epoch 009 | valid on 'valid' subset:   5%|▎     | 7/140 [00:04<01:03,  2.10it/s]\u001b[A\n",
      "epoch 009 | valid on 'valid' subset:   6%|▎     | 8/140 [00:04<00:59,  2.20it/s]\u001b[A\n",
      "epoch 009 | valid on 'valid' subset:   6%|▍     | 9/140 [00:05<00:53,  2.47it/s]\u001b[A\n",
      "epoch 009 | valid on 'valid' subset:   7%|▎    | 10/140 [00:05<00:52,  2.47it/s]\u001b[A\n",
      "epoch 009 | valid on 'valid' subset:   8%|▍    | 11/140 [00:06<00:52,  2.47it/s]\u001b[A\n",
      "epoch 009 | valid on 'valid' subset:   9%|▍    | 12/140 [00:06<00:50,  2.52it/s]\u001b[A\n",
      "epoch 009 | valid on 'valid' subset:   9%|▍    | 13/140 [00:06<00:47,  2.69it/s]\u001b[A\n",
      "epoch 009 | valid on 'valid' subset:  10%|▌    | 14/140 [00:07<00:43,  2.87it/s]\u001b[A\n",
      "epoch 009 | valid on 'valid' subset:  11%|▌    | 15/140 [00:07<00:45,  2.76it/s]\u001b[A\n",
      "epoch 009 | valid on 'valid' subset:  11%|▌    | 16/140 [00:07<00:42,  2.90it/s]\u001b[A\n",
      "epoch 009 | valid on 'valid' subset:  12%|▌    | 17/140 [00:08<00:40,  3.01it/s]\u001b[A\n",
      "epoch 009 | valid on 'valid' subset:  13%|▋    | 18/140 [00:08<00:42,  2.85it/s]\u001b[A\n",
      "epoch 009 | valid on 'valid' subset:  14%|▋    | 19/140 [00:08<00:40,  2.96it/s]\u001b[A\n",
      "epoch 009 | valid on 'valid' subset:  14%|▋    | 20/140 [00:09<00:39,  3.05it/s]\u001b[A\n",
      "epoch 009 | valid on 'valid' subset:  15%|▊    | 21/140 [00:09<00:41,  2.86it/s]\u001b[A\n",
      "epoch 009 | valid on 'valid' subset:  16%|▊    | 22/140 [00:09<00:42,  2.78it/s]\u001b[A\n",
      "epoch 009 | valid on 'valid' subset:  16%|▊    | 23/140 [00:10<00:40,  2.92it/s]\u001b[A\n",
      "epoch 009 | valid on 'valid' subset:  17%|▊    | 24/140 [00:10<00:35,  3.27it/s]\u001b[A\n",
      "epoch 009 | valid on 'valid' subset:  18%|▉    | 25/140 [00:10<00:34,  3.30it/s]\u001b[A\n",
      "epoch 009 | valid on 'valid' subset:  19%|▉    | 26/140 [00:10<00:34,  3.33it/s]\u001b[A\n",
      "epoch 009 | valid on 'valid' subset:  19%|▉    | 27/140 [00:11<00:33,  3.35it/s]\u001b[A\n",
      "epoch 009 | valid on 'valid' subset:  20%|█    | 28/140 [00:11<00:33,  3.33it/s]\u001b[A\n",
      "epoch 009 | valid on 'valid' subset:  21%|█    | 29/140 [00:11<00:33,  3.31it/s]\u001b[A\n",
      "epoch 009 | valid on 'valid' subset:  21%|█    | 30/140 [00:12<00:33,  3.33it/s]\u001b[A\n",
      "epoch 009 | valid on 'valid' subset:  22%|█    | 31/140 [00:12<00:32,  3.34it/s]\u001b[A\n",
      "epoch 009 | valid on 'valid' subset:  23%|█▏   | 32/140 [00:12<00:32,  3.36it/s]\u001b[A\n",
      "epoch 009 | valid on 'valid' subset:  24%|█▏   | 33/140 [00:13<00:31,  3.36it/s]\u001b[A\n",
      "epoch 009 | valid on 'valid' subset:  24%|█▏   | 34/140 [00:13<00:29,  3.64it/s]\u001b[A\n",
      "epoch 009 | valid on 'valid' subset:  25%|█▎   | 35/140 [00:13<00:29,  3.56it/s]\u001b[A\n",
      "epoch 009 | valid on 'valid' subset:  26%|█▎   | 36/140 [00:13<00:32,  3.20it/s]\u001b[A\n",
      "epoch 009 | valid on 'valid' subset:  26%|█▎   | 37/140 [00:14<00:31,  3.25it/s]\u001b[A\n",
      "epoch 009 | valid on 'valid' subset:  27%|█▎   | 38/140 [00:14<00:31,  3.26it/s]\u001b[A\n",
      "epoch 009 | valid on 'valid' subset:  28%|█▍   | 39/140 [00:14<00:28,  3.59it/s]\u001b[A\n",
      "epoch 009 | valid on 'valid' subset:  29%|█▍   | 40/140 [00:15<00:28,  3.55it/s]\u001b[A\n",
      "epoch 009 | valid on 'valid' subset:  29%|█▍   | 41/140 [00:15<00:25,  3.84it/s]\u001b[A\n",
      "epoch 009 | valid on 'valid' subset:  30%|█▌   | 42/140 [00:15<00:26,  3.65it/s]\u001b[A\n",
      "epoch 009 | valid on 'valid' subset:  31%|█▌   | 43/140 [00:15<00:27,  3.56it/s]\u001b[A\n",
      "epoch 009 | valid on 'valid' subset:  31%|█▌   | 44/140 [00:16<00:27,  3.52it/s]\u001b[A\n",
      "epoch 009 | valid on 'valid' subset:  32%|█▌   | 45/140 [00:16<00:27,  3.46it/s]\u001b[A\n",
      "epoch 009 | valid on 'valid' subset:  33%|█▋   | 46/140 [00:16<00:27,  3.43it/s]\u001b[A\n",
      "epoch 009 | valid on 'valid' subset:  34%|█▋   | 47/140 [00:17<00:27,  3.43it/s]\u001b[A\n",
      "epoch 009 | valid on 'valid' subset:  34%|█▋   | 48/140 [00:17<00:24,  3.73it/s]\u001b[A\n",
      "epoch 009 | valid on 'valid' subset:  35%|█▊   | 49/140 [00:17<00:25,  3.59it/s]\u001b[A\n",
      "epoch 009 | valid on 'valid' subset:  36%|█▊   | 50/140 [00:17<00:25,  3.52it/s]\u001b[A\n",
      "epoch 009 | valid on 'valid' subset:  36%|█▊   | 51/140 [00:18<00:25,  3.47it/s]\u001b[A\n",
      "epoch 009 | valid on 'valid' subset:  37%|█▊   | 52/140 [00:18<00:25,  3.46it/s]\u001b[A\n",
      "epoch 009 | valid on 'valid' subset:  38%|█▉   | 53/140 [00:18<00:23,  3.76it/s]\u001b[A\n",
      "epoch 009 | valid on 'valid' subset:  39%|█▉   | 54/140 [00:18<00:23,  3.67it/s]\u001b[A\n",
      "epoch 009 | valid on 'valid' subset:  39%|█▉   | 55/140 [00:19<00:21,  3.93it/s]\u001b[A\n",
      "epoch 009 | valid on 'valid' subset:  40%|██   | 56/140 [00:19<00:22,  3.77it/s]\u001b[A\n",
      "epoch 009 | valid on 'valid' subset:  41%|██   | 57/140 [00:19<00:20,  4.00it/s]\u001b[A\n",
      "epoch 009 | valid on 'valid' subset:  41%|██   | 58/140 [00:19<00:21,  3.77it/s]\u001b[A\n",
      "epoch 009 | valid on 'valid' subset:  42%|██   | 59/140 [00:20<00:22,  3.65it/s]\u001b[A\n",
      "epoch 009 | valid on 'valid' subset:  43%|██▏  | 60/140 [00:20<00:24,  3.25it/s]\u001b[A\n",
      "epoch 009 | valid on 'valid' subset:  44%|██▏  | 61/140 [00:20<00:24,  3.26it/s]\u001b[A\n",
      "epoch 009 | valid on 'valid' subset:  44%|██▏  | 62/140 [00:21<00:23,  3.29it/s]\u001b[A\n",
      "epoch 009 | valid on 'valid' subset:  45%|██▎  | 63/140 [00:21<00:21,  3.62it/s]\u001b[A\n",
      "epoch 009 | valid on 'valid' subset:  46%|██▎  | 64/140 [00:21<00:23,  3.18it/s]\u001b[A\n",
      "epoch 009 | valid on 'valid' subset:  46%|██▎  | 65/140 [00:22<00:25,  2.97it/s]\u001b[A\n",
      "epoch 009 | valid on 'valid' subset:  47%|██▎  | 66/140 [00:22<00:22,  3.34it/s]\u001b[A\n",
      "epoch 009 | valid on 'valid' subset:  48%|██▍  | 67/140 [00:22<00:21,  3.34it/s]\u001b[A\n",
      "epoch 009 | valid on 'valid' subset:  49%|██▍  | 68/140 [00:23<00:25,  2.80it/s]\u001b[A\n",
      "epoch 009 | valid on 'valid' subset:  49%|██▍  | 69/140 [00:23<00:24,  2.95it/s]\u001b[A\n",
      "epoch 009 | valid on 'valid' subset:  50%|██▌  | 70/140 [00:23<00:23,  3.02it/s]\u001b[A\n",
      "epoch 009 | valid on 'valid' subset:  51%|██▌  | 71/140 [00:24<00:22,  3.12it/s]\u001b[A\n",
      "epoch 009 | valid on 'valid' subset:  51%|██▌  | 72/140 [00:24<00:21,  3.17it/s]\u001b[A\n",
      "epoch 009 | valid on 'valid' subset:  52%|██▌  | 73/140 [00:24<00:20,  3.29it/s]\u001b[A\n",
      "epoch 009 | valid on 'valid' subset:  53%|██▋  | 74/140 [00:24<00:18,  3.62it/s]\u001b[A\n",
      "epoch 009 | valid on 'valid' subset:  54%|██▋  | 75/140 [00:25<00:16,  3.90it/s]\u001b[A\n",
      "epoch 009 | valid on 'valid' subset:  54%|██▋  | 76/140 [00:25<00:15,  4.18it/s]\u001b[A\n",
      "epoch 009 | valid on 'valid' subset:  55%|██▊  | 77/140 [00:25<00:21,  2.90it/s]\u001b[A\n",
      "epoch 009 | valid on 'valid' subset:  56%|██▊  | 78/140 [00:26<00:18,  3.29it/s]\u001b[A\n",
      "epoch 009 | valid on 'valid' subset:  56%|██▊  | 79/140 [00:26<00:18,  3.34it/s]\u001b[A\n",
      "epoch 009 | valid on 'valid' subset:  57%|██▊  | 80/140 [00:26<00:17,  3.37it/s]\u001b[A\n",
      "epoch 009 | valid on 'valid' subset:  58%|██▉  | 81/140 [00:27<00:17,  3.35it/s]\u001b[A\n",
      "epoch 009 | valid on 'valid' subset:  59%|██▉  | 82/140 [00:27<00:15,  3.64it/s]\u001b[A\n",
      "epoch 009 | valid on 'valid' subset:  59%|██▉  | 83/140 [00:27<00:15,  3.59it/s]\u001b[A\n",
      "epoch 009 | valid on 'valid' subset:  60%|███  | 84/140 [00:27<00:14,  3.87it/s]\u001b[A\n",
      "epoch 009 | valid on 'valid' subset:  61%|███  | 85/140 [00:28<00:14,  3.69it/s]\u001b[A\n",
      "epoch 009 | valid on 'valid' subset:  61%|███  | 86/140 [00:28<00:15,  3.57it/s]\u001b[A\n",
      "epoch 009 | valid on 'valid' subset:  62%|███  | 87/140 [00:28<00:14,  3.56it/s]\u001b[A\n",
      "epoch 009 | valid on 'valid' subset:  63%|███▏ | 88/140 [00:28<00:13,  3.86it/s]\u001b[A\n",
      "epoch 009 | valid on 'valid' subset:  64%|███▏ | 89/140 [00:29<00:13,  3.71it/s]\u001b[A\n",
      "epoch 009 | valid on 'valid' subset:  64%|███▏ | 90/140 [00:29<00:13,  3.59it/s]\u001b[A\n",
      "epoch 009 | valid on 'valid' subset:  65%|███▎ | 91/140 [00:29<00:12,  3.93it/s]\u001b[A\n",
      "epoch 009 | valid on 'valid' subset:  66%|███▎ | 92/140 [00:29<00:11,  4.13it/s]\u001b[A\n",
      "epoch 009 | valid on 'valid' subset:  66%|███▎ | 93/140 [00:30<00:12,  3.84it/s]\u001b[A\n",
      "epoch 009 | valid on 'valid' subset:  67%|███▎ | 94/140 [00:30<00:12,  3.68it/s]\u001b[A\n",
      "epoch 009 | valid on 'valid' subset:  68%|███▍ | 95/140 [00:30<00:12,  3.63it/s]\u001b[A\n",
      "epoch 009 | valid on 'valid' subset:  69%|███▍ | 96/140 [00:30<00:11,  3.91it/s]\u001b[A\n",
      "epoch 009 | valid on 'valid' subset:  69%|███▍ | 97/140 [00:31<00:11,  3.75it/s]\u001b[A\n",
      "epoch 009 | valid on 'valid' subset:  70%|███▌ | 98/140 [00:31<00:10,  4.00it/s]\u001b[A\n",
      "epoch 009 | valid on 'valid' subset:  71%|███▌ | 99/140 [00:31<00:10,  3.80it/s]\u001b[A\n",
      "epoch 009 | valid on 'valid' subset:  71%|██▊ | 100/140 [00:31<00:09,  4.05it/s]\u001b[A\n",
      "epoch 009 | valid on 'valid' subset:  72%|██▉ | 101/140 [00:32<00:10,  3.84it/s]\u001b[A\n",
      "epoch 009 | valid on 'valid' subset:  73%|██▉ | 102/140 [00:32<00:10,  3.68it/s]\u001b[A\n",
      "epoch 009 | valid on 'valid' subset:  74%|██▉ | 103/140 [00:32<00:10,  3.57it/s]\u001b[A\n",
      "epoch 009 | valid on 'valid' subset:  74%|██▉ | 104/140 [00:33<00:10,  3.53it/s]\u001b[A\n",
      "epoch 009 | valid on 'valid' subset:  75%|███ | 105/140 [00:33<00:10,  3.48it/s]\u001b[A\n",
      "epoch 009 | valid on 'valid' subset:  76%|███ | 106/140 [00:33<00:09,  3.42it/s]\u001b[A\n",
      "epoch 009 | valid on 'valid' subset:  76%|███ | 107/140 [00:33<00:08,  3.71it/s]\u001b[A\n",
      "epoch 009 | valid on 'valid' subset:  77%|███ | 108/140 [00:34<00:08,  3.65it/s]\u001b[A\n",
      "epoch 009 | valid on 'valid' subset:  78%|███ | 109/140 [00:34<00:07,  3.90it/s]\u001b[A\n",
      "epoch 009 | valid on 'valid' subset:  79%|███▏| 110/140 [00:34<00:08,  3.75it/s]\u001b[A\n",
      "epoch 009 | valid on 'valid' subset:  79%|███▏| 111/140 [00:34<00:07,  3.99it/s]\u001b[A\n",
      "epoch 009 | valid on 'valid' subset:  80%|███▏| 112/140 [00:35<00:07,  3.86it/s]\u001b[A\n",
      "epoch 009 | valid on 'valid' subset:  81%|███▏| 113/140 [00:35<00:06,  4.09it/s]\u001b[A\n",
      "epoch 009 | valid on 'valid' subset:  81%|███▎| 114/140 [00:35<00:06,  3.85it/s]\u001b[A\n",
      "epoch 009 | valid on 'valid' subset:  82%|███▎| 115/140 [00:36<00:06,  3.70it/s]\u001b[A\n",
      "epoch 009 | valid on 'valid' subset:  83%|███▎| 116/140 [00:36<00:06,  3.99it/s]\u001b[A\n",
      "epoch 009 | valid on 'valid' subset:  84%|███▎| 117/140 [00:36<00:05,  4.21it/s]\u001b[A\n",
      "epoch 009 | valid on 'valid' subset:  84%|███▎| 118/140 [00:36<00:06,  3.48it/s]\u001b[A\n",
      "epoch 009 | valid on 'valid' subset:  85%|███▍| 119/140 [00:37<00:06,  3.48it/s]\u001b[A\n",
      "epoch 009 | valid on 'valid' subset:  86%|███▍| 120/140 [00:37<00:05,  3.80it/s]\u001b[A\n",
      "epoch 009 | valid on 'valid' subset:  86%|███▍| 121/140 [00:37<00:04,  4.05it/s]\u001b[A\n",
      "epoch 009 | valid on 'valid' subset:  87%|███▍| 122/140 [00:37<00:04,  3.85it/s]\u001b[A\n",
      "epoch 009 | valid on 'valid' subset:  88%|███▌| 123/140 [00:38<00:04,  3.71it/s]\u001b[A\n",
      "epoch 009 | valid on 'valid' subset:  89%|███▌| 124/140 [00:38<00:04,  3.94it/s]\u001b[A\n",
      "epoch 009 | valid on 'valid' subset:  89%|███▌| 125/140 [00:38<00:03,  3.77it/s]\u001b[A\n",
      "epoch 009 | valid on 'valid' subset:  90%|███▌| 126/140 [00:38<00:03,  3.64it/s]\u001b[A\n",
      "epoch 009 | valid on 'valid' subset:  91%|███▋| 127/140 [00:39<00:03,  3.56it/s]\u001b[A\n",
      "epoch 009 | valid on 'valid' subset:  91%|███▋| 128/140 [00:39<00:03,  3.82it/s]\u001b[A\n",
      "epoch 009 | valid on 'valid' subset:  92%|███▋| 129/140 [00:39<00:02,  3.71it/s]\u001b[A\n",
      "epoch 009 | valid on 'valid' subset:  93%|███▋| 130/140 [00:39<00:02,  3.95it/s]\u001b[A\n",
      "epoch 009 | valid on 'valid' subset:  94%|███▋| 131/140 [00:40<00:02,  3.80it/s]\u001b[A\n",
      "epoch 009 | valid on 'valid' subset:  94%|███▊| 132/140 [00:40<00:01,  4.03it/s]\u001b[A\n",
      "epoch 009 | valid on 'valid' subset:  95%|███▊| 133/140 [00:40<00:01,  3.86it/s]\u001b[A\n",
      "epoch 009 | valid on 'valid' subset:  96%|███▊| 134/140 [00:40<00:01,  4.13it/s]\u001b[A\n",
      "epoch 009 | valid on 'valid' subset:  96%|███▊| 135/140 [00:41<00:01,  4.29it/s]\u001b[A\n",
      "epoch 009 | valid on 'valid' subset:  97%|███▉| 136/140 [00:41<00:01,  4.00it/s]\u001b[A\n",
      "epoch 009 | valid on 'valid' subset:  98%|███▉| 137/140 [00:41<00:00,  3.82it/s]\u001b[A\n",
      "epoch 009 | valid on 'valid' subset:  99%|███▉| 138/140 [00:41<00:00,  4.06it/s]\u001b[A\n",
      "epoch 009 | valid on 'valid' subset:  99%|███▉| 139/140 [00:42<00:00,  3.86it/s]\u001b[A\n",
      "epoch 009 | valid on 'valid' subset: 100%|████| 140/140 [00:42<00:00,  4.65it/s]\u001b[A\n",
      "                                                                                \u001b[A2022-01-04 18:00:41 | INFO | valid | epoch 009 | valid on 'valid' subset | loss 1.576 | nll_loss 0.279 | ppl 1.21 | wps 1851.3 | wpb 557.1 | bsz 154.9 | num_updates 9720 | best_loss 1.571\n",
      "2022-01-04 18:00:41 | INFO | fairseq_cli.train | begin save checkpoint\n",
      "2022-01-04 18:00:42 | INFO | fairseq.checkpoint_utils | saved checkpoint data/mt-ckpt-transformer/checkpoint9.pt (epoch 9 @ 9720 updates, score 1.576) (writing took 0.9140243860892951 seconds)\n",
      "2022-01-04 18:00:42 | INFO | fairseq_cli.train | end of epoch 9 (average epoch stats below)\n",
      "2022-01-04 18:00:42 | INFO | train | epoch 009 | loss 1.483 | nll_loss 0.283 | ppl 1.22 | wps 800.5 | ups 1.43 | wpb 561.6 | bsz 156.2 | num_updates 9720 | lr 0.00032075 | gnorm 0.37 | train_wall 700 | wall 0\n",
      "epoch 010:   0%|                                       | 0/1080 [00:00<?, ?it/s]2022-01-04 18:00:42 | WARNING | fairseq.logging.progress_bar | tensorboard not found, please install with: pip install tensorboardX\n",
      "2022-01-04 18:00:42 | INFO | fairseq.trainer | begin training epoch 10\n",
      "epoch 010:   4%|█                             | 39/1080 [00:49<21:11,  1.22s/it]^C\n",
      "Traceback (most recent call last):                                              \n",
      "  File \"/home/default/bin/fairseq-train\", line 8, in <module>\n",
      "    sys.exit(cli_main())\n",
      "  File \"/home/default/lib/python3.8/site-packages/fairseq_cli/train.py\", line 352, in cli_main\n",
      "    distributed_utils.call_main(args, main)\n",
      "  File \"/home/default/lib/python3.8/site-packages/fairseq/distributed_utils.py\", line 301, in call_main\n",
      "    main(args, **kwargs)\n",
      "  File \"/home/default/lib/python3.8/site-packages/fairseq_cli/train.py\", line 125, in main\n",
      "    valid_losses, should_stop = train(args, trainer, task, epoch_itr)\n",
      "  File \"/usr/local/lib/python3.8/contextlib.py\", line 75, in inner\n",
      "    return func(*args, **kwds)\n",
      "  File \"/home/default/lib/python3.8/site-packages/fairseq_cli/train.py\", line 208, in train\n",
      "    log_output = trainer.train_step(samples)\n",
      "  File \"/usr/local/lib/python3.8/contextlib.py\", line 75, in inner\n",
      "    return func(*args, **kwds)\n",
      "  File \"/home/default/lib/python3.8/site-packages/fairseq/trainer.py\", line 596, in train_step\n",
      "    self.optimizer.step()\n",
      "  File \"/home/default/lib/python3.8/site-packages/fairseq/optim/fairseq_optimizer.py\", line 114, in step\n",
      "    self.optimizer.step(closure)\n",
      "  File \"/home/default/lib/python3.8/site-packages/torch/optim/optimizer.py\", line 88, in wrapper\n",
      "    return func(*args, **kwargs)\n",
      "  File \"/home/default/lib/python3.8/site-packages/fairseq/optim/adam.py\", line 218, in step\n",
      "    p_data_fp32.addcdiv_(exp_avg, denom, value=-step_size)\n",
      "KeyboardInterrupt\n"
     ]
    }
   ],
   "source": [
    "!fairseq-train \\\n",
    "    data/mt-bin \\\n",
    "    --arch transformer \\\n",
    "    --optimizer adam \\\n",
    "    --adam-betas '(0.9, 0.98)' \\\n",
    "    --clip-norm 0.0 \\\n",
    "    --lr 5e-4 \\\n",
    "    --tokenizer moses \\\n",
    "    --lr-scheduler inverse_sqrt \\\n",
    "    --dropout 0.2 \\\n",
    "    --criterion label_smoothed_cross_entropy \\\n",
    "    --label-smoothing 0.1 \\\n",
    "    --max-tokens 4096 \\\n",
    "    --max-epoch 30 \\\n",
    "    --save-dir data/mt-ckpt-transformer \\\n",
    "    --encoder-layers 1 \\\n",
    "    --encoder-ffn-embed-dim 512 \\\n",
    "    --decoder-layers 1 \\\n",
    "    --decoder-ffn-embed-dim 512 \\\n",
    "    --tensorboard-logdir data/mt-tensorboard"
   ]
  },
  {
   "cell_type": "markdown",
   "id": "respective-hawaii",
   "metadata": {},
   "source": [
    "# Validation"
   ]
  },
  {
   "cell_type": "code",
   "execution_count": 55,
   "id": "metric-muscle",
   "metadata": {},
   "outputs": [],
   "source": [
    "from fairseq.models.transformer import TransformerModel\n",
    "model = TransformerModel.from_pretrained(model_name_or_path='/data/data',\n",
    "                                  checkpoint_file='/data/data/mt-ckpt-transformer/checkpoint_best.pt',\n",
    "                                         data_name_or_path='/data/data/mt-bin',\n",
    ")"
   ]
  },
  {
   "cell_type": "code",
   "execution_count": 56,
   "id": "otherwise-genealogy",
   "metadata": {},
   "outputs": [
    {
     "name": "stderr",
     "output_type": "stream",
     "text": [
      "/home/default/lib/python3.8/site-packages/fairseq/search.py:140: UserWarning:\n",
      "\n",
      "__floordiv__ is deprecated, and its behavior will change in a future version of pytorch. It currently rounds toward 0 (like the 'trunc' function NOT 'floor'). This results in incorrect rounding for negative values. To keep the current behavior, use torch.div(a, b, rounding_mode='trunc'), or for actual floor division, use torch.div(a, b, rounding_mode='floor').\n",
      "\n",
      "/home/default/lib/python3.8/site-packages/fairseq/sequence_generator.py:651: UserWarning:\n",
      "\n",
      "__floordiv__ is deprecated, and its behavior will change in a future version of pytorch. It currently rounds toward 0 (like the 'trunc' function NOT 'floor'). This results in incorrect rounding for negative values. To keep the current behavior, use torch.div(a, b, rounding_mode='trunc'), or for actual floor division, use torch.div(a, b, rounding_mode='floor').\n",
      "\n"
     ]
    }
   ],
   "source": [
    "test_example = model.translate(test.NAME_BRIEF.values, beam=1,verbose=True)"
   ]
  },
  {
   "cell_type": "code",
   "execution_count": 57,
   "id": "abstract-practice",
   "metadata": {
    "tags": []
   },
   "outputs": [],
   "source": [
    "predictions = []\n",
    "seq = []\n",
    "for i in test_example:\n",
    "    sequence = i.split(\"]\")[0].replace(\"[\",\"\").replace(\"]\",\"\").split()\n",
    "    prediction = label_enc.inverse_transform([int(j) for j in sequence])\n",
    "    \n",
    "    seq.append(sequence)\n",
    "    predictions.append(prediction)"
   ]
  },
  {
   "cell_type": "code",
   "execution_count": 58,
   "id": "strange-provider",
   "metadata": {},
   "outputs": [
    {
     "data": {
      "text/plain": [
       "[['528', '387', '355', '433'],\n",
       " ['90', '577'],\n",
       " ['327', '426'],\n",
       " ['371', '280'],\n",
       " ['419', '301', '355'],\n",
       " ['334', '257'],\n",
       " ['334', '257'],\n",
       " ['90', '175', '491'],\n",
       " ['523', '201'],\n",
       " ['513', '126']]"
      ]
     },
     "execution_count": 58,
     "metadata": {},
     "output_type": "execute_result"
    }
   ],
   "source": [
    "seq[:10]"
   ]
  },
  {
   "cell_type": "code",
   "execution_count": 115,
   "id": "limited-mountain",
   "metadata": {},
   "outputs": [],
   "source": [
    "train.to_csv(\"train_data_seq2seq.csv\",index=False)"
   ]
  },
  {
   "cell_type": "code",
   "execution_count": 63,
   "id": "collaborative-fleece",
   "metadata": {},
   "outputs": [],
   "source": [
    "test.to_csv(\"test_data_small_transformer.csv\",index=False)"
   ]
  },
  {
   "cell_type": "code",
   "execution_count": 116,
   "id": "prime-retirement",
   "metadata": {},
   "outputs": [],
   "source": [
    "validation.to_csv(\"valid_data_seq2seq.csv\",index=False)"
   ]
  },
  {
   "cell_type": "code",
   "execution_count": 59,
   "id": "marked-world",
   "metadata": {},
   "outputs": [],
   "source": [
    "test[\"predictions\"]= [\" > \".join(i) for i in predictions]"
   ]
  },
  {
   "cell_type": "code",
   "execution_count": 60,
   "id": "sustainable-agreement",
   "metadata": {},
   "outputs": [],
   "source": [
    "test[\"pred_seqs\"]= seq"
   ]
  },
  {
   "cell_type": "code",
   "execution_count": 61,
   "id": "tested-synthetic",
   "metadata": {},
   "outputs": [
    {
     "data": {
      "text/html": [
       "<div>\n",
       "<style scoped>\n",
       "    .dataframe tbody tr th:only-of-type {\n",
       "        vertical-align: middle;\n",
       "    }\n",
       "\n",
       "    .dataframe tbody tr th {\n",
       "        vertical-align: top;\n",
       "    }\n",
       "\n",
       "    .dataframe thead th {\n",
       "        text-align: right;\n",
       "    }\n",
       "</style>\n",
       "<table border=\"1\" class=\"dataframe\">\n",
       "  <thead>\n",
       "    <tr style=\"text-align: right;\">\n",
       "      <th></th>\n",
       "      <th>MATERIAL_ID</th>\n",
       "      <th>NAME_BRIEF</th>\n",
       "      <th>text</th>\n",
       "      <th>CATEGORY_SEQ</th>\n",
       "      <th>CATEGORY_PATH</th>\n",
       "      <th>CATEGORY_ID</th>\n",
       "      <th>predictions</th>\n",
       "      <th>pred_seqs</th>\n",
       "    </tr>\n",
       "  </thead>\n",
       "  <tbody>\n",
       "    <tr>\n",
       "      <th>906</th>\n",
       "      <td>100038811702</td>\n",
       "      <td>stropn sušák ; stropn sušák prádl výborn pomoc...</td>\n",
       "      <td>stropn sušák ; stropn sušák prádl výborn pomoc...</td>\n",
       "      <td>[90, 440]</td>\n",
       "      <td>Dům, byt &gt; Sušáky na prádlo</td>\n",
       "      <td>35</td>\n",
       "      <td>Dům, byt &gt; Šňůry, sušáky na prádlo</td>\n",
       "      <td>[90, 577]</td>\n",
       "    </tr>\n",
       "    <tr>\n",
       "      <th>37949</th>\n",
       "      <td>100040263921</td>\n",
       "      <td>napínák drátěn plot ocel stříbrn ; tat sad plo...</td>\n",
       "      <td>napínák drátěn plot ocel stříbrn ; tat sad plo...</td>\n",
       "      <td>[419, 301, 112, 355]</td>\n",
       "      <td>Stavby na zahradě &gt; Ploty &gt; Gabiony &gt; Přísluše...</td>\n",
       "      <td>157759</td>\n",
       "      <td>Stavby na zahradě &gt; Ploty &gt; Příslušenství</td>\n",
       "      <td>[419, 301, 355]</td>\n",
       "    </tr>\n",
       "    <tr>\n",
       "      <th>53980</th>\n",
       "      <td>100066724714</td>\n",
       "      <td>sprch walk stříbr lesk skl sítotisk ; sprch sa...</td>\n",
       "      <td>sprch walk stříbr lesk skl sítotisk ; sprch sa...</td>\n",
       "      <td>[90, 174, 546]</td>\n",
       "      <td>Dům, byt &gt; Koupelna a sanitární technika &gt; Zás...</td>\n",
       "      <td>6403678</td>\n",
       "      <td>Dům, byt &gt; Koupelna, sanitarni technika &gt; Zást...</td>\n",
       "      <td>[90, 175, 546]</td>\n",
       "    </tr>\n",
       "    <tr>\n",
       "      <th>64771</th>\n",
       "      <td>100068350006</td>\n",
       "      <td>ručn vyroben kuchyňsk dřez sítk nerez ocel ; v...</td>\n",
       "      <td>ručn vyroben kuchyňsk dřez sítk nerez ocel ; v...</td>\n",
       "      <td>[90, 190, 89]</td>\n",
       "      <td>Dům, byt &gt; Kuchyně &gt; Dřezy</td>\n",
       "      <td>1995</td>\n",
       "      <td>Dům, byt &gt; Koupelna a sanitární technika &gt; Vod...</td>\n",
       "      <td>[90, 174, 491, 88]</td>\n",
       "    </tr>\n",
       "    <tr>\n",
       "      <th>27009</th>\n",
       "      <td>100049525093</td>\n",
       "      <td>matic nýtovac sad ; matic nýtovac sad ocel oce...</td>\n",
       "      <td>matic nýtovac sad ; matic nýtovac sad ocel oce...</td>\n",
       "      <td>[371, 157, 244]</td>\n",
       "      <td>Ruční nářadí &gt; Kleště &gt; Nýtovací kleště</td>\n",
       "      <td>65221461</td>\n",
       "      <td>Stavební materiál &gt; Spojovací materiál &gt; Nýty</td>\n",
       "      <td>[422, 404, 245]</td>\n",
       "    </tr>\n",
       "    <tr>\n",
       "      <th>...</th>\n",
       "      <td>...</td>\n",
       "      <td>...</td>\n",
       "      <td>...</td>\n",
       "      <td>...</td>\n",
       "      <td>...</td>\n",
       "      <td>...</td>\n",
       "      <td>...</td>\n",
       "      <td>...</td>\n",
       "    </tr>\n",
       "    <tr>\n",
       "      <th>46726</th>\n",
       "      <td>100055743754</td>\n",
       "      <td>nerez roztahovac hadic závit ; nerez roztahova...</td>\n",
       "      <td>nerez roztahovac hadic závit ; nerez roztahova...</td>\n",
       "      <td>[489, 536, 120]</td>\n",
       "      <td>Voda v zahradě &gt; Zavlažování zahrady &gt; Hadice</td>\n",
       "      <td>337</td>\n",
       "      <td>Voda v zahradě &gt; Zavlažování &gt; Hadice</td>\n",
       "      <td>[489, 535, 120]</td>\n",
       "    </tr>\n",
       "    <tr>\n",
       "      <th>19705</th>\n",
       "      <td>100030257853</td>\n",
       "      <td>altán krém textil ; tent prostorn zahradn altá...</td>\n",
       "      <td>altán krém textil ; tent prostorn zahradn altá...</td>\n",
       "      <td>[523, 398, 418]</td>\n",
       "      <td>Zahradní nábytek &gt; Slunečníky, zastínění &gt; Sta...</td>\n",
       "      <td>5603</td>\n",
       "      <td>Zahradní nábytek &gt; Stany, altany</td>\n",
       "      <td>[523, 418]</td>\n",
       "    </tr>\n",
       "    <tr>\n",
       "      <th>16957</th>\n",
       "      <td>100066834977</td>\n",
       "      <td>temp kondel zahradn altánek modr gotan ; mater...</td>\n",
       "      <td>temp kondel zahradn altánek modr gotan ; mater...</td>\n",
       "      <td>[419, 66, 23]</td>\n",
       "      <td>Stavby na zahradě &gt; Domky, altány &gt; Altány</td>\n",
       "      <td>5603</td>\n",
       "      <td>Zahradní nábytek &gt; Stany, altany</td>\n",
       "      <td>[523, 418]</td>\n",
       "    </tr>\n",
       "    <tr>\n",
       "      <th>18371</th>\n",
       "      <td>100059186163</td>\n",
       "      <td>pláž slunečník zelen ; pláž slunečník vyroben ...</td>\n",
       "      <td>pláž slunečník zelen ; pláž slunečník vyroben ...</td>\n",
       "      <td>[523, 397]</td>\n",
       "      <td>Zahradní nábytek &gt; Slunečníky</td>\n",
       "      <td>220</td>\n",
       "      <td>Zahradní nábytek &gt; Slunečníky, zastínění &gt; Slu...</td>\n",
       "      <td>[523, 398, 397]</td>\n",
       "    </tr>\n",
       "    <tr>\n",
       "      <th>27310</th>\n",
       "      <td>100057698208</td>\n",
       "      <td>stíníc placht čern hdp ; vytvořit mal útočisk ...</td>\n",
       "      <td>stíníc placht čern hdp ; vytvořit mal útočisk ...</td>\n",
       "      <td>[523, 398, 418]</td>\n",
       "      <td>Zahradní nábytek &gt; Slunečníky, zastínění &gt; Sta...</td>\n",
       "      <td>5603</td>\n",
       "      <td>Zahradní nábytek &gt; Stany, altany</td>\n",
       "      <td>[523, 418]</td>\n",
       "    </tr>\n",
       "  </tbody>\n",
       "</table>\n",
       "<p>8846 rows × 8 columns</p>\n",
       "</div>"
      ],
      "text/plain": [
       "        MATERIAL_ID                                         NAME_BRIEF  \\\n",
       "906    100038811702  stropn sušák ; stropn sušák prádl výborn pomoc...   \n",
       "37949  100040263921  napínák drátěn plot ocel stříbrn ; tat sad plo...   \n",
       "53980  100066724714  sprch walk stříbr lesk skl sítotisk ; sprch sa...   \n",
       "64771  100068350006  ručn vyroben kuchyňsk dřez sítk nerez ocel ; v...   \n",
       "27009  100049525093  matic nýtovac sad ; matic nýtovac sad ocel oce...   \n",
       "...             ...                                                ...   \n",
       "46726  100055743754  nerez roztahovac hadic závit ; nerez roztahova...   \n",
       "19705  100030257853  altán krém textil ; tent prostorn zahradn altá...   \n",
       "16957  100066834977  temp kondel zahradn altánek modr gotan ; mater...   \n",
       "18371  100059186163  pláž slunečník zelen ; pláž slunečník vyroben ...   \n",
       "27310  100057698208  stíníc placht čern hdp ; vytvořit mal útočisk ...   \n",
       "\n",
       "                                                    text  \\\n",
       "906    stropn sušák ; stropn sušák prádl výborn pomoc...   \n",
       "37949  napínák drátěn plot ocel stříbrn ; tat sad plo...   \n",
       "53980  sprch walk stříbr lesk skl sítotisk ; sprch sa...   \n",
       "64771  ručn vyroben kuchyňsk dřez sítk nerez ocel ; v...   \n",
       "27009  matic nýtovac sad ; matic nýtovac sad ocel oce...   \n",
       "...                                                  ...   \n",
       "46726  nerez roztahovac hadic závit ; nerez roztahova...   \n",
       "19705  altán krém textil ; tent prostorn zahradn altá...   \n",
       "16957  temp kondel zahradn altánek modr gotan ; mater...   \n",
       "18371  pláž slunečník zelen ; pláž slunečník vyroben ...   \n",
       "27310  stíníc placht čern hdp ; vytvořit mal útočisk ...   \n",
       "\n",
       "               CATEGORY_SEQ  \\\n",
       "906               [90, 440]   \n",
       "37949  [419, 301, 112, 355]   \n",
       "53980        [90, 174, 546]   \n",
       "64771         [90, 190, 89]   \n",
       "27009       [371, 157, 244]   \n",
       "...                     ...   \n",
       "46726       [489, 536, 120]   \n",
       "19705       [523, 398, 418]   \n",
       "16957         [419, 66, 23]   \n",
       "18371            [523, 397]   \n",
       "27310       [523, 398, 418]   \n",
       "\n",
       "                                           CATEGORY_PATH  CATEGORY_ID  \\\n",
       "906                          Dům, byt > Sušáky na prádlo           35   \n",
       "37949  Stavby na zahradě > Ploty > Gabiony > Přísluše...       157759   \n",
       "53980  Dům, byt > Koupelna a sanitární technika > Zás...      6403678   \n",
       "64771                         Dům, byt > Kuchyně > Dřezy         1995   \n",
       "27009            Ruční nářadí > Kleště > Nýtovací kleště     65221461   \n",
       "...                                                  ...          ...   \n",
       "46726      Voda v zahradě > Zavlažování zahrady > Hadice          337   \n",
       "19705  Zahradní nábytek > Slunečníky, zastínění > Sta...         5603   \n",
       "16957         Stavby na zahradě > Domky, altány > Altány         5603   \n",
       "18371                      Zahradní nábytek > Slunečníky          220   \n",
       "27310  Zahradní nábytek > Slunečníky, zastínění > Sta...         5603   \n",
       "\n",
       "                                             predictions           pred_seqs  \n",
       "906                   Dům, byt > Šňůry, sušáky na prádlo           [90, 577]  \n",
       "37949          Stavby na zahradě > Ploty > Příslušenství     [419, 301, 355]  \n",
       "53980  Dům, byt > Koupelna, sanitarni technika > Zást...      [90, 175, 546]  \n",
       "64771  Dům, byt > Koupelna a sanitární technika > Vod...  [90, 174, 491, 88]  \n",
       "27009      Stavební materiál > Spojovací materiál > Nýty     [422, 404, 245]  \n",
       "...                                                  ...                 ...  \n",
       "46726              Voda v zahradě > Zavlažování > Hadice     [489, 535, 120]  \n",
       "19705                   Zahradní nábytek > Stany, altany          [523, 418]  \n",
       "16957                   Zahradní nábytek > Stany, altany          [523, 418]  \n",
       "18371  Zahradní nábytek > Slunečníky, zastínění > Slu...     [523, 398, 397]  \n",
       "27310                   Zahradní nábytek > Stany, altany          [523, 418]  \n",
       "\n",
       "[8846 rows x 8 columns]"
      ]
     },
     "execution_count": 61,
     "metadata": {},
     "output_type": "execute_result"
    }
   ],
   "source": [
    "test.query(\"CATEGORY_PATH != predictions\")"
   ]
  },
  {
   "cell_type": "code",
   "execution_count": 38,
   "id": "northern-debate",
   "metadata": {},
   "outputs": [],
   "source": [
    "from sklearn.metrics import f1_score"
   ]
  },
  {
   "cell_type": "code",
   "execution_count": 62,
   "id": "minute-amount",
   "metadata": {},
   "outputs": [
    {
     "data": {
      "text/plain": [
       "0.8132939310529762"
      ]
     },
     "execution_count": 62,
     "metadata": {},
     "output_type": "execute_result"
    }
   ],
   "source": [
    "f1_score(test.CATEGORY_PATH, test.predictions, average=\"weighted\")"
   ]
  },
  {
   "cell_type": "code",
   "execution_count": 54,
   "id": "executed-manual",
   "metadata": {},
   "outputs": [
    {
     "data": {
      "text/plain": [
       "array(['Nářadí zahradní', 'Pily'], dtype='<U39')"
      ]
     },
     "execution_count": 54,
     "metadata": {},
     "output_type": "execute_result"
    }
   ],
   "source": [
    "label_enc.inverse_transform([int(j) for j in i.strip(\"[ ]\").split()])"
   ]
  },
  {
   "cell_type": "code",
   "execution_count": 58,
   "id": "musical-sword",
   "metadata": {},
   "outputs": [
    {
     "data": {
      "text/plain": [
       "['243', '290']"
      ]
     },
     "execution_count": 58,
     "metadata": {},
     "output_type": "execute_result"
    }
   ],
   "source": [
    "i.strip(\"[ ]\").split()"
   ]
  },
  {
   "cell_type": "code",
   "execution_count": 47,
   "id": "smooth-excuse",
   "metadata": {
    "collapsed": true,
    "jupyter": {
     "outputs_hidden": true
    },
    "tags": []
   },
   "outputs": [
    {
     "ename": "AttributeError",
     "evalue": "'list' object has no attribute 'strip'",
     "output_type": "error",
     "traceback": [
      "\u001b[0;31m---------------------------------------------------------------------------\u001b[0m",
      "\u001b[0;31mAttributeError\u001b[0m                            Traceback (most recent call last)",
      "\u001b[0;32m<ipython-input-47-deb99f9160a0>\u001b[0m in \u001b[0;36m<module>\u001b[0;34m\u001b[0m\n\u001b[0;32m----> 1\u001b[0;31m \u001b[0mlabel_enc\u001b[0m\u001b[0;34m.\u001b[0m\u001b[0minverse_transform\u001b[0m\u001b[0;34m(\u001b[0m\u001b[0;34m[\u001b[0m\u001b[0mint\u001b[0m\u001b[0;34m(\u001b[0m\u001b[0mi\u001b[0m\u001b[0;34m)\u001b[0m \u001b[0;32mfor\u001b[0m \u001b[0mi\u001b[0m \u001b[0;32min\u001b[0m \u001b[0mtest_example\u001b[0m\u001b[0;34m.\u001b[0m\u001b[0mstrip\u001b[0m\u001b[0;34m(\u001b[0m\u001b[0;34m\"[ ]\"\u001b[0m\u001b[0;34m)\u001b[0m\u001b[0;34m.\u001b[0m\u001b[0msplit\u001b[0m\u001b[0;34m(\u001b[0m\u001b[0;34m)\u001b[0m\u001b[0;34m]\u001b[0m\u001b[0;34m)\u001b[0m\u001b[0;34m\u001b[0m\u001b[0;34m\u001b[0m\u001b[0m\n\u001b[0m",
      "\u001b[0;31mAttributeError\u001b[0m: 'list' object has no attribute 'strip'"
     ]
    }
   ],
   "source": [
    "label_enc.inverse_transform([int(i) for i in test_example.strip(\"[ ]\").split()])"
   ]
  },
  {
   "cell_type": "code",
   "execution_count": 37,
   "id": "bronze-authorization",
   "metadata": {},
   "outputs": [
    {
     "name": "stdout",
     "output_type": "stream",
     "text": [
      "Nářadí zahradní > Pily\n",
      "Ruční nářadí > Ostatní ruční nářadí\n",
      "Dílna, stavební technika > Kompresory\n"
     ]
    },
    {
     "ename": "ValueError",
     "evalue": "invalid literal for int() with base 10: '366]'",
     "output_type": "error",
     "traceback": [
      "\u001b[0;31m---------------------------------------------------------------------------\u001b[0m",
      "\u001b[0;31mValueError\u001b[0m                                Traceback (most recent call last)",
      "\u001b[0;32m<ipython-input-37-9bd3068d289e>\u001b[0m in \u001b[0;36m<module>\u001b[0;34m\u001b[0m\n\u001b[1;32m      1\u001b[0m \u001b[0;32mfor\u001b[0m \u001b[0mi\u001b[0m \u001b[0;32min\u001b[0m \u001b[0mmodel\u001b[0m\u001b[0;34m.\u001b[0m\u001b[0mgenerate\u001b[0m\u001b[0;34m(\u001b[0m\u001b[0mmodel\u001b[0m\u001b[0;34m.\u001b[0m\u001b[0mencode\u001b[0m\u001b[0;34m(\u001b[0m\u001b[0mexample\u001b[0m\u001b[0;34m)\u001b[0m\u001b[0;34m)\u001b[0m\u001b[0;34m:\u001b[0m\u001b[0;34m\u001b[0m\u001b[0;34m\u001b[0m\u001b[0m\n\u001b[0;32m----> 2\u001b[0;31m     \u001b[0mtokens\u001b[0m \u001b[0;34m=\u001b[0m \u001b[0;34m[\u001b[0m\u001b[0mint\u001b[0m\u001b[0;34m(\u001b[0m\u001b[0mi\u001b[0m\u001b[0;34m)\u001b[0m \u001b[0;32mfor\u001b[0m \u001b[0mi\u001b[0m \u001b[0;32min\u001b[0m \u001b[0mmodel\u001b[0m\u001b[0;34m.\u001b[0m\u001b[0mdecode\u001b[0m\u001b[0;34m(\u001b[0m\u001b[0mi\u001b[0m\u001b[0;34m[\u001b[0m\u001b[0;34m\"tokens\"\u001b[0m\u001b[0;34m]\u001b[0m\u001b[0;34m)\u001b[0m\u001b[0;34m.\u001b[0m\u001b[0mstrip\u001b[0m\u001b[0;34m(\u001b[0m\u001b[0;34m\"[ ]\"\u001b[0m\u001b[0;34m)\u001b[0m\u001b[0;34m.\u001b[0m\u001b[0mstrip\u001b[0m\u001b[0;34m(\u001b[0m\u001b[0;34m\"]\"\u001b[0m\u001b[0;34m)\u001b[0m\u001b[0;34m.\u001b[0m\u001b[0msplit\u001b[0m\u001b[0;34m(\u001b[0m\u001b[0;34m)\u001b[0m\u001b[0;34m]\u001b[0m\u001b[0;34m\u001b[0m\u001b[0;34m\u001b[0m\u001b[0m\n\u001b[0m\u001b[1;32m      3\u001b[0m     \u001b[0mprint\u001b[0m\u001b[0;34m(\u001b[0m\u001b[0;34m\" > \"\u001b[0m\u001b[0;34m.\u001b[0m\u001b[0mjoin\u001b[0m\u001b[0;34m(\u001b[0m\u001b[0mlabel_enc\u001b[0m\u001b[0;34m.\u001b[0m\u001b[0minverse_transform\u001b[0m\u001b[0;34m(\u001b[0m\u001b[0mtokens\u001b[0m\u001b[0;34m)\u001b[0m\u001b[0;34m)\u001b[0m\u001b[0;34m)\u001b[0m\u001b[0;34m\u001b[0m\u001b[0;34m\u001b[0m\u001b[0m\n",
      "\u001b[0;32m<ipython-input-37-9bd3068d289e>\u001b[0m in \u001b[0;36m<listcomp>\u001b[0;34m(.0)\u001b[0m\n\u001b[1;32m      1\u001b[0m \u001b[0;32mfor\u001b[0m \u001b[0mi\u001b[0m \u001b[0;32min\u001b[0m \u001b[0mmodel\u001b[0m\u001b[0;34m.\u001b[0m\u001b[0mgenerate\u001b[0m\u001b[0;34m(\u001b[0m\u001b[0mmodel\u001b[0m\u001b[0;34m.\u001b[0m\u001b[0mencode\u001b[0m\u001b[0;34m(\u001b[0m\u001b[0mexample\u001b[0m\u001b[0;34m)\u001b[0m\u001b[0;34m)\u001b[0m\u001b[0;34m:\u001b[0m\u001b[0;34m\u001b[0m\u001b[0;34m\u001b[0m\u001b[0m\n\u001b[0;32m----> 2\u001b[0;31m     \u001b[0mtokens\u001b[0m \u001b[0;34m=\u001b[0m \u001b[0;34m[\u001b[0m\u001b[0mint\u001b[0m\u001b[0;34m(\u001b[0m\u001b[0mi\u001b[0m\u001b[0;34m)\u001b[0m \u001b[0;32mfor\u001b[0m \u001b[0mi\u001b[0m \u001b[0;32min\u001b[0m \u001b[0mmodel\u001b[0m\u001b[0;34m.\u001b[0m\u001b[0mdecode\u001b[0m\u001b[0;34m(\u001b[0m\u001b[0mi\u001b[0m\u001b[0;34m[\u001b[0m\u001b[0;34m\"tokens\"\u001b[0m\u001b[0;34m]\u001b[0m\u001b[0;34m)\u001b[0m\u001b[0;34m.\u001b[0m\u001b[0mstrip\u001b[0m\u001b[0;34m(\u001b[0m\u001b[0;34m\"[ ]\"\u001b[0m\u001b[0;34m)\u001b[0m\u001b[0;34m.\u001b[0m\u001b[0mstrip\u001b[0m\u001b[0;34m(\u001b[0m\u001b[0;34m\"]\"\u001b[0m\u001b[0;34m)\u001b[0m\u001b[0;34m.\u001b[0m\u001b[0msplit\u001b[0m\u001b[0;34m(\u001b[0m\u001b[0;34m)\u001b[0m\u001b[0;34m]\u001b[0m\u001b[0;34m\u001b[0m\u001b[0;34m\u001b[0m\u001b[0m\n\u001b[0m\u001b[1;32m      3\u001b[0m     \u001b[0mprint\u001b[0m\u001b[0;34m(\u001b[0m\u001b[0;34m\" > \"\u001b[0m\u001b[0;34m.\u001b[0m\u001b[0mjoin\u001b[0m\u001b[0;34m(\u001b[0m\u001b[0mlabel_enc\u001b[0m\u001b[0;34m.\u001b[0m\u001b[0minverse_transform\u001b[0m\u001b[0;34m(\u001b[0m\u001b[0mtokens\u001b[0m\u001b[0;34m)\u001b[0m\u001b[0;34m)\u001b[0m\u001b[0;34m)\u001b[0m\u001b[0;34m\u001b[0m\u001b[0;34m\u001b[0m\u001b[0m\n",
      "\u001b[0;31mValueError\u001b[0m: invalid literal for int() with base 10: '366]'"
     ]
    }
   ],
   "source": [
    "for i in model.generate(model.encode(example)):\n",
    "    tokens = [int(i) for i in model.decode(i[\"tokens\"]).strip(\"[ ]\").strip(\"]\").split()]\n",
    "    print(\" > \".join(label_enc.inverse_transform(tokens)))"
   ]
  },
  {
   "cell_type": "code",
   "execution_count": 34,
   "id": "delayed-waters",
   "metadata": {},
   "outputs": [
    {
     "data": {
      "text/plain": [
       "array(['Nářadí zahradní', 'Pily'], dtype='<U39')"
      ]
     },
     "execution_count": 34,
     "metadata": {},
     "output_type": "execute_result"
    }
   ],
   "source": [
    "label_enc.inverse_transform([int(i) for i in test_example.strip(\"[ ]\").split()])"
   ]
  },
  {
   "cell_type": "markdown",
   "id": "complimentary-disposition",
   "metadata": {
    "jp-MarkdownHeadingCollapsed": true,
    "tags": []
   },
   "source": [
    "# Generate"
   ]
  },
  {
   "cell_type": "code",
   "execution_count": 809,
   "id": "naval-voice",
   "metadata": {},
   "outputs": [
    {
     "name": "stdout",
     "output_type": "stream",
     "text": [
      "  0%|                                                     | 0/8 [00:00<?, ?it/s]/home/default/lib/python3.8/site-packages/fairseq/search.py:140: UserWarning: __floordiv__ is deprecated, and its behavior will change in a future version of pytorch. It currently rounds toward 0 (like the 'trunc' function NOT 'floor'). This results in incorrect rounding for negative values. To keep the current behavior, use torch.div(a, b, rounding_mode='trunc'), or for actual floor division, use torch.div(a, b, rounding_mode='floor').\n",
      "  beams_buf = indices_buf // vocab_size\n",
      "/home/default/lib/python3.8/site-packages/fairseq/sequence_generator.py:651: UserWarning: __floordiv__ is deprecated, and its behavior will change in a future version of pytorch. It currently rounds toward 0 (like the 'trunc' function NOT 'floor'). This results in incorrect rounding for negative values. To keep the current behavior, use torch.div(a, b, rounding_mode='trunc'), or for actual floor division, use torch.div(a, b, rounding_mode='floor').\n",
      "  unfin_idx = idx // beam_size\n",
      "                                                                                \r"
     ]
    }
   ],
   "source": [
    "!fairseq-generate \\\n",
    "    data/mt-bin \\\n",
    "    --path data/mt-ckpt-transformer/checkpoint_best.pt \\\n",
    "    --beam 3 \\\n",
    "    --tokenizer moses \\\n",
    "    --results-path data/mt-test"
   ]
  },
  {
   "cell_type": "code",
   "execution_count": 778,
   "id": "marine-cholesterol",
   "metadata": {},
   "outputs": [],
   "source": [
    "!grep ^T data/mt-test/generate-test.txt | cut -f1- > name.txt"
   ]
  },
  {
   "cell_type": "code",
   "execution_count": 779,
   "id": "dietary-insured",
   "metadata": {},
   "outputs": [],
   "source": [
    "!grep ^T data/mt-test/generate-test.txt | cut -f2- > target.txt"
   ]
  },
  {
   "cell_type": "code",
   "execution_count": 780,
   "id": "legitimate-applicant",
   "metadata": {},
   "outputs": [],
   "source": [
    "!grep ^H data/mt-test/generate-test.txt | cut -f3- > hypotheses.txt"
   ]
  },
  {
   "cell_type": "code",
   "execution_count": 781,
   "id": "shaped-belief",
   "metadata": {},
   "outputs": [],
   "source": [
    "results = pd.read_csv(\"name.txt\", sep=\"\\t\", header=None)"
   ]
  },
  {
   "cell_type": "code",
   "execution_count": 782,
   "id": "residential-mounting",
   "metadata": {},
   "outputs": [],
   "source": [
    "y_pred = pd.read_csv(\"hypotheses.txt\",header=None)\n",
    "y_pred = y_pred.rename(columns={0:\"pred\"})"
   ]
  },
  {
   "cell_type": "code",
   "execution_count": 783,
   "id": "successful-movie",
   "metadata": {},
   "outputs": [],
   "source": [
    "results[\"index\"] = results[0].str.strip(\"T-\")\n",
    "results = pd.concat((results,y_pred),axis=1)"
   ]
  },
  {
   "cell_type": "code",
   "execution_count": 835,
   "id": "fitted-tobacco",
   "metadata": {},
   "outputs": [],
   "source": [
    "test = pd.read_csv(\"data/mt/categorizer.cs_cat.test.tsv\",sep=\"\\t\", header=None)"
   ]
  },
  {
   "cell_type": "code",
   "execution_count": 843,
   "id": "nutritional-ordinary",
   "metadata": {},
   "outputs": [],
   "source": [
    "test = test.rename(columns={0:\"NAME\",1:\"CATEGORY_SEQ_STR\"})"
   ]
  },
  {
   "cell_type": "code",
   "execution_count": 852,
   "id": "dutch-camel",
   "metadata": {},
   "outputs": [
    {
     "data": {
      "text/plain": [
       "array([' sprchový  kout  obdélníkový  kndj2/priii-80x110,  manhatan,  sklo  čiré  600-073-0270-11-401  ',\n",
       "       ' spony  hadicové,  balení  10ks,  10-16mm  ',\n",
       "       ' zahradní  zavlažovací  sada  dedra  nts  professional  1/2  \"x20m,  5ks.  -  80n741z  ',\n",
       "       ...,\n",
       "       \" vodovodní  baterie  vanová,  barva:  chrom,  rozměr:  1/2''  (d470.5s)  \",\n",
       "       ' zahradní  barový  stůl  černý  70  x  70  x  110  cm  polyratan  a  sklo  ',\n",
       "       ' triple  sib  1p,  komín  zděný,  8  m,  dn180,  90°  '],\n",
       "      dtype=object)"
      ]
     },
     "execution_count": 852,
     "metadata": {},
     "output_type": "execute_result"
    }
   ],
   "source": [
    "test.NAME.values"
   ]
  },
  {
   "cell_type": "code",
   "execution_count": 857,
   "id": "fleet-taste",
   "metadata": {},
   "outputs": [],
   "source": [
    "test.CATEGORY_SEQ_STR = test.CATEGORY_SEQ_STR.apply(lambda x: \" \".join(x.split()))\n",
    "test.NAME = test.NAME.apply(lambda x: \" \".join(x.split()))"
   ]
  },
  {
   "cell_type": "code",
   "execution_count": 863,
   "id": "employed-retreat",
   "metadata": {},
   "outputs": [],
   "source": [
    "df = pd.merge(subset,test, on=[\"NAME\",\"CATEGORY_SEQ_STR\"])"
   ]
  },
  {
   "cell_type": "code",
   "execution_count": 837,
   "id": "convinced-burton",
   "metadata": {},
   "outputs": [],
   "source": [
    "evaluation = test.copy()"
   ]
  },
  {
   "cell_type": "code",
   "execution_count": 838,
   "id": "skilled-korea",
   "metadata": {
    "collapsed": true,
    "jupyter": {
     "outputs_hidden": true
    },
    "tags": []
   },
   "outputs": [
    {
     "ename": "AttributeError",
     "evalue": "'DataFrame' object has no attribute 'CATEGORY_SEQ'",
     "output_type": "error",
     "traceback": [
      "\u001b[0;31m---------------------------------------------------------------------------\u001b[0m",
      "\u001b[0;31mAttributeError\u001b[0m                            Traceback (most recent call last)",
      "\u001b[0;32m<ipython-input-838-aa7d6d007c5c>\u001b[0m in \u001b[0;36m<module>\u001b[0;34m\u001b[0m\n\u001b[1;32m      8\u001b[0m     \u001b[0mnew\u001b[0m \u001b[0;34m=\u001b[0m \u001b[0mevaluation\u001b[0m\u001b[0;34m.\u001b[0m\u001b[0miloc\u001b[0m\u001b[0;34m[\u001b[0m\u001b[0mindex\u001b[0m\u001b[0;34m:\u001b[0m\u001b[0mindex\u001b[0m\u001b[0;34m+\u001b[0m\u001b[0;36m1\u001b[0m\u001b[0;34m]\u001b[0m\u001b[0;34m.\u001b[0m\u001b[0mcopy\u001b[0m\u001b[0;34m(\u001b[0m\u001b[0;34m)\u001b[0m\u001b[0;34m\u001b[0m\u001b[0;34m\u001b[0m\u001b[0m\n\u001b[1;32m      9\u001b[0m     \u001b[0mnew\u001b[0m\u001b[0;34m[\u001b[0m\u001b[0;34m\"results\"\u001b[0m\u001b[0;34m]\u001b[0m \u001b[0;34m=\u001b[0m \u001b[0;34m[\u001b[0m\u001b[0mencoded_categories\u001b[0m\u001b[0;34m]\u001b[0m\u001b[0;34m\u001b[0m\u001b[0;34m\u001b[0m\u001b[0m\n\u001b[0;32m---> 10\u001b[0;31m     \u001b[0mtrue_categories\u001b[0m \u001b[0;34m=\u001b[0m \u001b[0mlabel_enc\u001b[0m\u001b[0;34m.\u001b[0m\u001b[0minverse_transform\u001b[0m\u001b[0;34m(\u001b[0m\u001b[0;34m(\u001b[0m\u001b[0mnew\u001b[0m\u001b[0;34m.\u001b[0m\u001b[0mCATEGORY_SEQ\u001b[0m\u001b[0;34m.\u001b[0m\u001b[0mvalues\u001b[0m\u001b[0;34m[\u001b[0m\u001b[0;36m0\u001b[0m\u001b[0;34m]\u001b[0m\u001b[0;34m)\u001b[0m\u001b[0;34m)\u001b[0m\u001b[0;34m\u001b[0m\u001b[0;34m\u001b[0m\u001b[0m\n\u001b[0m\u001b[1;32m     11\u001b[0m     \u001b[0mnew\u001b[0m\u001b[0;34m[\u001b[0m\u001b[0;34m\"CATEGORY_TRUE\"\u001b[0m\u001b[0;34m]\u001b[0m \u001b[0;34m=\u001b[0m \u001b[0;34m[\u001b[0m\u001b[0mtrue_categories\u001b[0m\u001b[0;34m]\u001b[0m\u001b[0;34m\u001b[0m\u001b[0;34m\u001b[0m\u001b[0m\n\u001b[1;32m     12\u001b[0m     \u001b[0msize\u001b[0m \u001b[0;34m=\u001b[0m \u001b[0;34m(\u001b[0m\u001b[0mtrue_categories\u001b[0m\u001b[0;34m.\u001b[0m\u001b[0mshape\u001b[0m \u001b[0;32mif\u001b[0m \u001b[0mencoded_categories\u001b[0m\u001b[0;34m.\u001b[0m\u001b[0mshape\u001b[0m \u001b[0;34m>=\u001b[0m \u001b[0mtrue_categories\u001b[0m\u001b[0;34m.\u001b[0m\u001b[0mshape\u001b[0m \u001b[0;32melse\u001b[0m \u001b[0mencoded_categories\u001b[0m\u001b[0;34m.\u001b[0m\u001b[0mshape\u001b[0m\u001b[0;34m)\u001b[0m\u001b[0;34m[\u001b[0m\u001b[0;36m0\u001b[0m\u001b[0;34m]\u001b[0m\u001b[0;34m\u001b[0m\u001b[0;34m\u001b[0m\u001b[0m\n",
      "\u001b[0;32m/home/default/lib/python3.8/site-packages/pandas/core/generic.py\u001b[0m in \u001b[0;36m__getattr__\u001b[0;34m(self, name)\u001b[0m\n\u001b[1;32m   5139\u001b[0m             \u001b[0;32mif\u001b[0m \u001b[0mself\u001b[0m\u001b[0;34m.\u001b[0m\u001b[0m_info_axis\u001b[0m\u001b[0;34m.\u001b[0m\u001b[0m_can_hold_identifiers_and_holds_name\u001b[0m\u001b[0;34m(\u001b[0m\u001b[0mname\u001b[0m\u001b[0;34m)\u001b[0m\u001b[0;34m:\u001b[0m\u001b[0;34m\u001b[0m\u001b[0;34m\u001b[0m\u001b[0m\n\u001b[1;32m   5140\u001b[0m                 \u001b[0;32mreturn\u001b[0m \u001b[0mself\u001b[0m\u001b[0;34m[\u001b[0m\u001b[0mname\u001b[0m\u001b[0;34m]\u001b[0m\u001b[0;34m\u001b[0m\u001b[0;34m\u001b[0m\u001b[0m\n\u001b[0;32m-> 5141\u001b[0;31m             \u001b[0;32mreturn\u001b[0m \u001b[0mobject\u001b[0m\u001b[0;34m.\u001b[0m\u001b[0m__getattribute__\u001b[0m\u001b[0;34m(\u001b[0m\u001b[0mself\u001b[0m\u001b[0;34m,\u001b[0m \u001b[0mname\u001b[0m\u001b[0;34m)\u001b[0m\u001b[0;34m\u001b[0m\u001b[0;34m\u001b[0m\u001b[0m\n\u001b[0m\u001b[1;32m   5142\u001b[0m \u001b[0;34m\u001b[0m\u001b[0m\n\u001b[1;32m   5143\u001b[0m     \u001b[0;32mdef\u001b[0m \u001b[0m__setattr__\u001b[0m\u001b[0;34m(\u001b[0m\u001b[0mself\u001b[0m\u001b[0;34m,\u001b[0m \u001b[0mname\u001b[0m\u001b[0;34m:\u001b[0m \u001b[0mstr\u001b[0m\u001b[0;34m,\u001b[0m \u001b[0mvalue\u001b[0m\u001b[0;34m)\u001b[0m \u001b[0;34m->\u001b[0m \u001b[0;32mNone\u001b[0m\u001b[0;34m:\u001b[0m\u001b[0;34m\u001b[0m\u001b[0;34m\u001b[0m\u001b[0m\n",
      "\u001b[0;31mAttributeError\u001b[0m: 'DataFrame' object has no attribute 'CATEGORY_SEQ'"
     ]
    }
   ],
   "source": [
    "new_df = pd.DataFrame()\n",
    "for _,i in results.iterrows():\n",
    "    index = int(i[\"index\"])\n",
    "    string_categories = i[\"pred\"].strip(\"[]\").split(\" \")[1:]\n",
    "    categories = [int(i) for i in string_categories]\n",
    "    encoded_categories = label_enc.inverse_transform(categories)\n",
    "    \n",
    "    new = evaluation.iloc[index:index+1].copy()\n",
    "    new[\"results\"] = [encoded_categories]\n",
    "    true_categories = label_enc.inverse_transform((new.CATEGORY_SEQ.values[0]))\n",
    "    new[\"CATEGORY_TRUE\"] = [true_categories]\n",
    "    size = (true_categories.shape if encoded_categories.shape >= true_categories.shape else encoded_categories.shape)[0]\n",
    "    new[\"same\"] = (encoded_categories[:size] == true_categories[:size]).all()\n",
    "    new_df = new_df.append(new)"
   ]
  },
  {
   "cell_type": "code",
   "execution_count": 288,
   "id": "vulnerable-whale",
   "metadata": {},
   "outputs": [],
   "source": [
    "subset[\"CATEGORY_TRUE\"] = subset.CATEGORY_SEQ.apply(label_enc.inverse_transform)"
   ]
  },
  {
   "cell_type": "code",
   "execution_count": 306,
   "id": "endangered-framework",
   "metadata": {},
   "outputs": [],
   "source": [
    "new_df[\"results_post\"] = new_df.results.apply(lambda x: \" > \".join(x))"
   ]
  },
  {
   "cell_type": "code",
   "execution_count": 311,
   "id": "million-paraguay",
   "metadata": {},
   "outputs": [],
   "source": [
    "new_cats = new_df[\"results_post\"].unique()\n",
    "old_cats = subset.CATEGORY_PATH.unique()"
   ]
  },
  {
   "cell_type": "code",
   "execution_count": 321,
   "id": "printable-harvest",
   "metadata": {
    "tags": []
   },
   "outputs": [
    {
     "name": "stdout",
     "output_type": "stream",
     "text": [
      "Hobby a zahrada > Nářadí elektrické > Zahradní houpačky, houpací sítě\n",
      "[['Diamond flexibilní brusný kotouč'\n",
      "  array(['Hobby a zahrada', 'Nářadí elektrické', 'Příslušenství', 'Kotouče'],\n",
      "        dtype='<U31')                                                        ]\n",
      " ['Diamond flexibilní brusný kotouč'\n",
      "  array(['Hobby a zahrada', 'Nářadí elektrické', 'Příslušenství', 'Kotouče'],\n",
      "        dtype='<U31')                                                        ]]\n",
      "Hobby a zahrada > Kuchyně > Dřezy\n",
      "[['Zorba 440E - Sand'\n",
      "  array(['Hobby a zahrada', 'Dům, byt', 'Kuchyně', 'Dřezy'], dtype='<U31')]]\n",
      "Hobby a zahrada > Stavby na zahradě > Příslušenství\n",
      "[['Roleta RÁKOS NATUR 120 x 180 cm'\n",
      "  array(['Hobby a zahrada', 'Stavby na zahradě', 'Ploty',\n",
      "         'Zastínění oplocení'], dtype='<U31')            ]]\n",
      "Hobby a zahrada > Dům, byt > Koupelna a sanitární technika > Vany, sprchy > Vany\n",
      "[['Shower select baterie pod omítku pro 2 spotřebiče, chrom (15748000)'\n",
      "  array(['Hobby a zahrada', 'Dům, byt', 'Koupelna a sanitární technika',\n",
      "         'Vodovodní baterie', 'Vanové baterie'], dtype='<U31')          ]]\n"
     ]
    }
   ],
   "source": [
    "for i in new_cats:\n",
    "    if i in old_cats:\n",
    "        pass\n",
    "    else:\n",
    "        print(i)\n",
    "        print(new_df[(new_df.results_post == i)][[\"NAME\",\"CATEGORY_TRUE\"]].values)"
   ]
  },
  {
   "cell_type": "code",
   "execution_count": 285,
   "id": "desperate-brook",
   "metadata": {},
   "outputs": [
    {
     "data": {
      "text/plain": [
       "37151"
      ]
     },
     "execution_count": 285,
     "metadata": {},
     "output_type": "execute_result"
    }
   ],
   "source": [
    "df.CATEGORY_PATH.str.startswith(\"Hobby a zahrada > Ruční nářadí\").sum()"
   ]
  },
  {
   "cell_type": "code",
   "execution_count": 280,
   "id": "single-smile",
   "metadata": {},
   "outputs": [
    {
     "data": {
      "text/plain": [
       "15651"
      ]
     },
     "execution_count": 280,
     "metadata": {},
     "output_type": "execute_result"
    }
   ],
   "source": [
    "df.CATEGORY_PATH.str.startswith(\"Hobby a zahrada > Nářadí ruční\").sum()"
   ]
  },
  {
   "cell_type": "code",
   "execution_count": 385,
   "id": "sitting-designer",
   "metadata": {
    "collapsed": true,
    "jupyter": {
     "outputs_hidden": true
    },
    "tags": []
   },
   "outputs": [
    {
     "data": {
      "text/html": [
       "<div>\n",
       "<style scoped>\n",
       "    .dataframe tbody tr th:only-of-type {\n",
       "        vertical-align: middle;\n",
       "    }\n",
       "\n",
       "    .dataframe tbody tr th {\n",
       "        vertical-align: top;\n",
       "    }\n",
       "\n",
       "    .dataframe thead th {\n",
       "        text-align: right;\n",
       "    }\n",
       "</style>\n",
       "<table border=\"1\" class=\"dataframe\">\n",
       "  <thead>\n",
       "    <tr style=\"text-align: right;\">\n",
       "      <th></th>\n",
       "      <th>index</th>\n",
       "      <th>MATERIAL_ID</th>\n",
       "      <th>NAME</th>\n",
       "      <th>text</th>\n",
       "      <th>CATEGORY_SEQ</th>\n",
       "      <th>results</th>\n",
       "      <th>CATEGORY_TRUE</th>\n",
       "      <th>same</th>\n",
       "      <th>results_post</th>\n",
       "    </tr>\n",
       "  </thead>\n",
       "  <tbody>\n",
       "    <tr>\n",
       "      <th>1808</th>\n",
       "      <td>1808</td>\n",
       "      <td>100059706303</td>\n",
       "      <td>Dvouramenný stahovák ložisek 40mm x 80mm</td>\n",
       "      <td>Dvouramenný stahovák ložisek 40mm x 80mm \\t 5 ...</td>\n",
       "      <td>[5, 2, 45]</td>\n",
       "      <td>[Hobby a zahrada, Ohřev vody, vytápění, Komíny]</td>\n",
       "      <td>[Hobby a zahrada, Dům, byt, Vypínače, zásuvky]</td>\n",
       "      <td>False</td>\n",
       "      <td>Hobby a zahrada &gt; Ohřev vody, vytápění &gt; Komíny</td>\n",
       "    </tr>\n",
       "    <tr>\n",
       "      <th>387</th>\n",
       "      <td>387</td>\n",
       "      <td>100053067840</td>\n",
       "      <td>Sada samocentrovacích sklíčidel 3,75 palce, ocel</td>\n",
       "      <td>Sada samocentrovacích sklíčidel 3,75 palce, oc...</td>\n",
       "      <td>[5, 16, 28]</td>\n",
       "      <td>[Hobby a zahrada, Ruční nářadí, Příslušenství]</td>\n",
       "      <td>[Hobby a zahrada, Nářadí ruční, Příslušenství]</td>\n",
       "      <td>False</td>\n",
       "      <td>Hobby a zahrada &gt; Ruční nářadí &gt; Příslušenství</td>\n",
       "    </tr>\n",
       "    <tr>\n",
       "      <th>27442</th>\n",
       "      <td>27442</td>\n",
       "      <td>100051464792</td>\n",
       "      <td>Nůž zavírací COBRA 20cm s pojistkou</td>\n",
       "      <td>Nůž zavírací COBRA 20cm s pojistkou \\t 5 31 17</td>\n",
       "      <td>[5, 31, 17]</td>\n",
       "      <td>[Hobby a zahrada, Nářadí ruční, Nůžky, nože, p...</td>\n",
       "      <td>[Hobby a zahrada, Ruční nářadí, Nůžky, nože, p...</td>\n",
       "      <td>False</td>\n",
       "      <td>Hobby a zahrada &gt; Nářadí ruční &gt; Nůžky, nože, ...</td>\n",
       "    </tr>\n",
       "    <tr>\n",
       "      <th>8422</th>\n",
       "      <td>8422</td>\n",
       "      <td>3728926</td>\n",
       "      <td>FDN 9301 Sponky pro FDN 3001</td>\n",
       "      <td>FDN 9301 Sponky pro FDN 3001 \\t 5 31 28</td>\n",
       "      <td>[5, 31, 28]</td>\n",
       "      <td>[Hobby a zahrada, Nářadí ruční, Příslušenství]</td>\n",
       "      <td>[Hobby a zahrada, Ruční nářadí, Příslušenství]</td>\n",
       "      <td>False</td>\n",
       "      <td>Hobby a zahrada &gt; Nářadí ruční &gt; Příslušenství</td>\n",
       "    </tr>\n",
       "    <tr>\n",
       "      <th>23749</th>\n",
       "      <td>23749</td>\n",
       "      <td>100053130855</td>\n",
       "      <td>mřížka opékací hranatá 33x29cm, délka 62cm</td>\n",
       "      <td>mřížka opékací hranatá 33x29cm, délka 62cm \\t ...</td>\n",
       "      <td>[5, 3, 28]</td>\n",
       "      <td>[Hobby a zahrada, Ohřev vody, vytápění, Kamna,...</td>\n",
       "      <td>[Hobby a zahrada, Grily, udírny a kotlíky, Pří...</td>\n",
       "      <td>False</td>\n",
       "      <td>Hobby a zahrada &gt; Ohřev vody, vytápění &gt; Kamna...</td>\n",
       "    </tr>\n",
       "    <tr>\n",
       "      <th>...</th>\n",
       "      <td>...</td>\n",
       "      <td>...</td>\n",
       "      <td>...</td>\n",
       "      <td>...</td>\n",
       "      <td>...</td>\n",
       "      <td>...</td>\n",
       "      <td>...</td>\n",
       "      <td>...</td>\n",
       "      <td>...</td>\n",
       "    </tr>\n",
       "    <tr>\n",
       "      <th>4910</th>\n",
       "      <td>4910</td>\n",
       "      <td>100060409818</td>\n",
       "      <td>Bity RIBE, různé velikosti, úchyt 10 mm, délka...</td>\n",
       "      <td>Bity RIBE, různé velikosti, úchyt 10 mm, délka...</td>\n",
       "      <td>[5, 31, 28]</td>\n",
       "      <td>[Hobby a zahrada, Stavební materiál, Spojovací...</td>\n",
       "      <td>[Hobby a zahrada, Ruční nářadí, Příslušenství]</td>\n",
       "      <td>False</td>\n",
       "      <td>Hobby a zahrada &gt; Stavební materiál &gt; Spojovac...</td>\n",
       "    </tr>\n",
       "    <tr>\n",
       "      <th>4909</th>\n",
       "      <td>4909</td>\n",
       "      <td>100060409818</td>\n",
       "      <td>Bity RIBE, různé velikosti, úchyt 10 mm, délka...</td>\n",
       "      <td>Bity RIBE, různé velikosti, úchyt 10 mm, délka...</td>\n",
       "      <td>[5, 16, 28]</td>\n",
       "      <td>[Hobby a zahrada, Stavební materiál, Spojovací...</td>\n",
       "      <td>[Hobby a zahrada, Nářadí ruční, Příslušenství]</td>\n",
       "      <td>False</td>\n",
       "      <td>Hobby a zahrada &gt; Stavební materiál &gt; Spojovac...</td>\n",
       "    </tr>\n",
       "    <tr>\n",
       "      <th>27683</th>\n",
       "      <td>27683</td>\n",
       "      <td>100060300173</td>\n",
       "      <td>Bity RIBE, různé velikosti, úchyt 10 mm, délka...</td>\n",
       "      <td>Bity RIBE, různé velikosti, úchyt 10 mm, délka...</td>\n",
       "      <td>[5, 16, 28]</td>\n",
       "      <td>[Hobby a zahrada, Stavební materiál, Spojovací...</td>\n",
       "      <td>[Hobby a zahrada, Nářadí ruční, Příslušenství]</td>\n",
       "      <td>False</td>\n",
       "      <td>Hobby a zahrada &gt; Stavební materiál &gt; Spojovac...</td>\n",
       "    </tr>\n",
       "    <tr>\n",
       "      <th>20941</th>\n",
       "      <td>20941</td>\n",
       "      <td>100060300111</td>\n",
       "      <td>Bity RIBE, různé velikosti, úchyt 10 mm, délka...</td>\n",
       "      <td>Bity RIBE, různé velikosti, úchyt 10 mm, délka...</td>\n",
       "      <td>[5, 31, 28]</td>\n",
       "      <td>[Hobby a zahrada, Stavební materiál, Spojovací...</td>\n",
       "      <td>[Hobby a zahrada, Ruční nářadí, Příslušenství]</td>\n",
       "      <td>False</td>\n",
       "      <td>Hobby a zahrada &gt; Stavební materiál &gt; Spojovac...</td>\n",
       "    </tr>\n",
       "    <tr>\n",
       "      <th>22017</th>\n",
       "      <td>22017</td>\n",
       "      <td>100060299528</td>\n",
       "      <td>Bity Imbus, různé velikosti, úchyt 10 mm, délk...</td>\n",
       "      <td>Bity Imbus, různé velikosti, úchyt 10 mm, délk...</td>\n",
       "      <td>[5, 31, 28]</td>\n",
       "      <td>[Hobby a zahrada, Nářadí ruční, Příslušenství]</td>\n",
       "      <td>[Hobby a zahrada, Ruční nářadí, Příslušenství]</td>\n",
       "      <td>False</td>\n",
       "      <td>Hobby a zahrada &gt; Nářadí ruční &gt; Příslušenství</td>\n",
       "    </tr>\n",
       "  </tbody>\n",
       "</table>\n",
       "<p>1983 rows × 9 columns</p>\n",
       "</div>"
      ],
      "text/plain": [
       "       index   MATERIAL_ID                                               NAME  \\\n",
       "1808    1808  100059706303           Dvouramenný stahovák ložisek 40mm x 80mm   \n",
       "387      387  100053067840   Sada samocentrovacích sklíčidel 3,75 palce, ocel   \n",
       "27442  27442  100051464792                Nůž zavírací COBRA 20cm s pojistkou   \n",
       "8422    8422       3728926                       FDN 9301 Sponky pro FDN 3001   \n",
       "23749  23749  100053130855         mřížka opékací hranatá 33x29cm, délka 62cm   \n",
       "...      ...           ...                                                ...   \n",
       "4910    4910  100060409818  Bity RIBE, různé velikosti, úchyt 10 mm, délka...   \n",
       "4909    4909  100060409818  Bity RIBE, různé velikosti, úchyt 10 mm, délka...   \n",
       "27683  27683  100060300173  Bity RIBE, různé velikosti, úchyt 10 mm, délka...   \n",
       "20941  20941  100060300111  Bity RIBE, různé velikosti, úchyt 10 mm, délka...   \n",
       "22017  22017  100060299528  Bity Imbus, různé velikosti, úchyt 10 mm, délk...   \n",
       "\n",
       "                                                    text CATEGORY_SEQ  \\\n",
       "1808   Dvouramenný stahovák ložisek 40mm x 80mm \\t 5 ...   [5, 2, 45]   \n",
       "387    Sada samocentrovacích sklíčidel 3,75 palce, oc...  [5, 16, 28]   \n",
       "27442     Nůž zavírací COBRA 20cm s pojistkou \\t 5 31 17  [5, 31, 17]   \n",
       "8422             FDN 9301 Sponky pro FDN 3001 \\t 5 31 28  [5, 31, 28]   \n",
       "23749  mřížka opékací hranatá 33x29cm, délka 62cm \\t ...   [5, 3, 28]   \n",
       "...                                                  ...          ...   \n",
       "4910   Bity RIBE, různé velikosti, úchyt 10 mm, délka...  [5, 31, 28]   \n",
       "4909   Bity RIBE, různé velikosti, úchyt 10 mm, délka...  [5, 16, 28]   \n",
       "27683  Bity RIBE, různé velikosti, úchyt 10 mm, délka...  [5, 16, 28]   \n",
       "20941  Bity RIBE, různé velikosti, úchyt 10 mm, délka...  [5, 31, 28]   \n",
       "22017  Bity Imbus, různé velikosti, úchyt 10 mm, délk...  [5, 31, 28]   \n",
       "\n",
       "                                                 results  \\\n",
       "1808     [Hobby a zahrada, Ohřev vody, vytápění, Komíny]   \n",
       "387       [Hobby a zahrada, Ruční nářadí, Příslušenství]   \n",
       "27442  [Hobby a zahrada, Nářadí ruční, Nůžky, nože, p...   \n",
       "8422      [Hobby a zahrada, Nářadí ruční, Příslušenství]   \n",
       "23749  [Hobby a zahrada, Ohřev vody, vytápění, Kamna,...   \n",
       "...                                                  ...   \n",
       "4910   [Hobby a zahrada, Stavební materiál, Spojovací...   \n",
       "4909   [Hobby a zahrada, Stavební materiál, Spojovací...   \n",
       "27683  [Hobby a zahrada, Stavební materiál, Spojovací...   \n",
       "20941  [Hobby a zahrada, Stavební materiál, Spojovací...   \n",
       "22017     [Hobby a zahrada, Nářadí ruční, Příslušenství]   \n",
       "\n",
       "                                           CATEGORY_TRUE   same  \\\n",
       "1808      [Hobby a zahrada, Dům, byt, Vypínače, zásuvky]  False   \n",
       "387       [Hobby a zahrada, Nářadí ruční, Příslušenství]  False   \n",
       "27442  [Hobby a zahrada, Ruční nářadí, Nůžky, nože, p...  False   \n",
       "8422      [Hobby a zahrada, Ruční nářadí, Příslušenství]  False   \n",
       "23749  [Hobby a zahrada, Grily, udírny a kotlíky, Pří...  False   \n",
       "...                                                  ...    ...   \n",
       "4910      [Hobby a zahrada, Ruční nářadí, Příslušenství]  False   \n",
       "4909      [Hobby a zahrada, Nářadí ruční, Příslušenství]  False   \n",
       "27683     [Hobby a zahrada, Nářadí ruční, Příslušenství]  False   \n",
       "20941     [Hobby a zahrada, Ruční nářadí, Příslušenství]  False   \n",
       "22017     [Hobby a zahrada, Ruční nářadí, Příslušenství]  False   \n",
       "\n",
       "                                            results_post  \n",
       "1808     Hobby a zahrada > Ohřev vody, vytápění > Komíny  \n",
       "387       Hobby a zahrada > Ruční nářadí > Příslušenství  \n",
       "27442  Hobby a zahrada > Nářadí ruční > Nůžky, nože, ...  \n",
       "8422      Hobby a zahrada > Nářadí ruční > Příslušenství  \n",
       "23749  Hobby a zahrada > Ohřev vody, vytápění > Kamna...  \n",
       "...                                                  ...  \n",
       "4910   Hobby a zahrada > Stavební materiál > Spojovac...  \n",
       "4909   Hobby a zahrada > Stavební materiál > Spojovac...  \n",
       "27683  Hobby a zahrada > Stavební materiál > Spojovac...  \n",
       "20941  Hobby a zahrada > Stavební materiál > Spojovac...  \n",
       "22017     Hobby a zahrada > Nářadí ruční > Příslušenství  \n",
       "\n",
       "[1983 rows x 9 columns]"
      ]
     },
     "execution_count": 385,
     "metadata": {},
     "output_type": "execute_result"
    }
   ],
   "source": [
    "new_df[new_df.same == False]"
   ]
  },
  {
   "cell_type": "code",
   "execution_count": null,
   "id": "analyzed-greensboro",
   "metadata": {},
   "outputs": [],
   "source": []
  }
 ],
 "metadata": {
  "kernelspec": {
   "display_name": "Python 3 (ipykernel)",
   "language": "python",
   "name": "python3"
  },
  "language_info": {
   "codemirror_mode": {
    "name": "ipython",
    "version": 3
   },
   "file_extension": ".py",
   "mimetype": "text/x-python",
   "name": "python",
   "nbconvert_exporter": "python",
   "pygments_lexer": "ipython3",
   "version": "3.7.12"
  }
 },
 "nbformat": 4,
 "nbformat_minor": 5
}
